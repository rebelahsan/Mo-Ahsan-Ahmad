{
  "cells": [
    {
      "cell_type": "markdown",
      "metadata": {
        "id": "view-in-github",
        "colab_type": "text"
      },
      "source": [
        "<a href=\"https://colab.research.google.com/github/rebelahsan/Mo-Ahsan-Ahmad/blob/main/Class_Model_for_Imbalanced_Datasets_final.ipynb\" target=\"_parent\"><img src=\"https://colab.research.google.com/assets/colab-badge.svg\" alt=\"Open In Colab\"/></a>"
      ]
    },
    {
      "cell_type": "code",
      "execution_count": null,
      "metadata": {
        "id": "349ea992"
      },
      "outputs": [],
      "source": [
        "import numpy as np\n",
        "import pandas as pd\n",
        "import matplotlib.pyplot as plt\n",
        "import seaborn as sns\n",
        "sns.set()\n",
        "%matplotlib inline\n",
        "import warnings\n",
        "warnings.filterwarnings(action='once')\n",
        "from sklearn.model_selection import train_test_split"
      ],
      "id": "349ea992"
    },
    {
      "cell_type": "code",
      "execution_count": null,
      "metadata": {
        "id": "08803300"
      },
      "outputs": [],
      "source": [
        "df = pd.read_csv('creditcard.csv')"
      ],
      "id": "08803300"
    },
    {
      "cell_type": "code",
      "execution_count": null,
      "metadata": {
        "id": "JhObN5ffSEFx"
      },
      "outputs": [],
      "source": [],
      "id": "JhObN5ffSEFx"
    },
    {
      "cell_type": "code",
      "execution_count": null,
      "metadata": {
        "colab": {
          "base_uri": "https://localhost:8080/",
          "height": 299
        },
        "id": "04652ce0",
        "outputId": "283eaae0-1145-4869-f6b4-8326426fd028"
      },
      "outputs": [
        {
          "output_type": "execute_result",
          "data": {
            "text/plain": [
              "   Time        V1        V2        V3        V4        V5        V6        V7  \\\n",
              "0   0.0 -1.359807 -0.072781  2.536347  1.378155 -0.338321  0.462388  0.239599   \n",
              "1   0.0  1.191857  0.266151  0.166480  0.448154  0.060018 -0.082361 -0.078803   \n",
              "2   1.0 -1.358354 -1.340163  1.773209  0.379780 -0.503198  1.800499  0.791461   \n",
              "3   1.0 -0.966272 -0.185226  1.792993 -0.863291 -0.010309  1.247203  0.237609   \n",
              "4   2.0 -1.158233  0.877737  1.548718  0.403034 -0.407193  0.095921  0.592941   \n",
              "\n",
              "         V8        V9  ...       V21       V22       V23       V24       V25  \\\n",
              "0  0.098698  0.363787  ... -0.018307  0.277838 -0.110474  0.066928  0.128539   \n",
              "1  0.085102 -0.255425  ... -0.225775 -0.638672  0.101288 -0.339846  0.167170   \n",
              "2  0.247676 -1.514654  ...  0.247998  0.771679  0.909412 -0.689281 -0.327642   \n",
              "3  0.377436 -1.387024  ... -0.108300  0.005274 -0.190321 -1.175575  0.647376   \n",
              "4 -0.270533  0.817739  ... -0.009431  0.798278 -0.137458  0.141267 -0.206010   \n",
              "\n",
              "        V26       V27       V28  Amount  Class  \n",
              "0 -0.189115  0.133558 -0.021053  149.62      0  \n",
              "1  0.125895 -0.008983  0.014724    2.69      0  \n",
              "2 -0.139097 -0.055353 -0.059752  378.66      0  \n",
              "3 -0.221929  0.062723  0.061458  123.50      0  \n",
              "4  0.502292  0.219422  0.215153   69.99      0  \n",
              "\n",
              "[5 rows x 31 columns]"
            ],
            "text/html": [
              "\n",
              "  <div id=\"df-da8388bb-2f47-4f75-8c5e-a7691b3c6956\">\n",
              "    <div class=\"colab-df-container\">\n",
              "      <div>\n",
              "<style scoped>\n",
              "    .dataframe tbody tr th:only-of-type {\n",
              "        vertical-align: middle;\n",
              "    }\n",
              "\n",
              "    .dataframe tbody tr th {\n",
              "        vertical-align: top;\n",
              "    }\n",
              "\n",
              "    .dataframe thead th {\n",
              "        text-align: right;\n",
              "    }\n",
              "</style>\n",
              "<table border=\"1\" class=\"dataframe\">\n",
              "  <thead>\n",
              "    <tr style=\"text-align: right;\">\n",
              "      <th></th>\n",
              "      <th>Time</th>\n",
              "      <th>V1</th>\n",
              "      <th>V2</th>\n",
              "      <th>V3</th>\n",
              "      <th>V4</th>\n",
              "      <th>V5</th>\n",
              "      <th>V6</th>\n",
              "      <th>V7</th>\n",
              "      <th>V8</th>\n",
              "      <th>V9</th>\n",
              "      <th>...</th>\n",
              "      <th>V21</th>\n",
              "      <th>V22</th>\n",
              "      <th>V23</th>\n",
              "      <th>V24</th>\n",
              "      <th>V25</th>\n",
              "      <th>V26</th>\n",
              "      <th>V27</th>\n",
              "      <th>V28</th>\n",
              "      <th>Amount</th>\n",
              "      <th>Class</th>\n",
              "    </tr>\n",
              "  </thead>\n",
              "  <tbody>\n",
              "    <tr>\n",
              "      <th>0</th>\n",
              "      <td>0.0</td>\n",
              "      <td>-1.359807</td>\n",
              "      <td>-0.072781</td>\n",
              "      <td>2.536347</td>\n",
              "      <td>1.378155</td>\n",
              "      <td>-0.338321</td>\n",
              "      <td>0.462388</td>\n",
              "      <td>0.239599</td>\n",
              "      <td>0.098698</td>\n",
              "      <td>0.363787</td>\n",
              "      <td>...</td>\n",
              "      <td>-0.018307</td>\n",
              "      <td>0.277838</td>\n",
              "      <td>-0.110474</td>\n",
              "      <td>0.066928</td>\n",
              "      <td>0.128539</td>\n",
              "      <td>-0.189115</td>\n",
              "      <td>0.133558</td>\n",
              "      <td>-0.021053</td>\n",
              "      <td>149.62</td>\n",
              "      <td>0</td>\n",
              "    </tr>\n",
              "    <tr>\n",
              "      <th>1</th>\n",
              "      <td>0.0</td>\n",
              "      <td>1.191857</td>\n",
              "      <td>0.266151</td>\n",
              "      <td>0.166480</td>\n",
              "      <td>0.448154</td>\n",
              "      <td>0.060018</td>\n",
              "      <td>-0.082361</td>\n",
              "      <td>-0.078803</td>\n",
              "      <td>0.085102</td>\n",
              "      <td>-0.255425</td>\n",
              "      <td>...</td>\n",
              "      <td>-0.225775</td>\n",
              "      <td>-0.638672</td>\n",
              "      <td>0.101288</td>\n",
              "      <td>-0.339846</td>\n",
              "      <td>0.167170</td>\n",
              "      <td>0.125895</td>\n",
              "      <td>-0.008983</td>\n",
              "      <td>0.014724</td>\n",
              "      <td>2.69</td>\n",
              "      <td>0</td>\n",
              "    </tr>\n",
              "    <tr>\n",
              "      <th>2</th>\n",
              "      <td>1.0</td>\n",
              "      <td>-1.358354</td>\n",
              "      <td>-1.340163</td>\n",
              "      <td>1.773209</td>\n",
              "      <td>0.379780</td>\n",
              "      <td>-0.503198</td>\n",
              "      <td>1.800499</td>\n",
              "      <td>0.791461</td>\n",
              "      <td>0.247676</td>\n",
              "      <td>-1.514654</td>\n",
              "      <td>...</td>\n",
              "      <td>0.247998</td>\n",
              "      <td>0.771679</td>\n",
              "      <td>0.909412</td>\n",
              "      <td>-0.689281</td>\n",
              "      <td>-0.327642</td>\n",
              "      <td>-0.139097</td>\n",
              "      <td>-0.055353</td>\n",
              "      <td>-0.059752</td>\n",
              "      <td>378.66</td>\n",
              "      <td>0</td>\n",
              "    </tr>\n",
              "    <tr>\n",
              "      <th>3</th>\n",
              "      <td>1.0</td>\n",
              "      <td>-0.966272</td>\n",
              "      <td>-0.185226</td>\n",
              "      <td>1.792993</td>\n",
              "      <td>-0.863291</td>\n",
              "      <td>-0.010309</td>\n",
              "      <td>1.247203</td>\n",
              "      <td>0.237609</td>\n",
              "      <td>0.377436</td>\n",
              "      <td>-1.387024</td>\n",
              "      <td>...</td>\n",
              "      <td>-0.108300</td>\n",
              "      <td>0.005274</td>\n",
              "      <td>-0.190321</td>\n",
              "      <td>-1.175575</td>\n",
              "      <td>0.647376</td>\n",
              "      <td>-0.221929</td>\n",
              "      <td>0.062723</td>\n",
              "      <td>0.061458</td>\n",
              "      <td>123.50</td>\n",
              "      <td>0</td>\n",
              "    </tr>\n",
              "    <tr>\n",
              "      <th>4</th>\n",
              "      <td>2.0</td>\n",
              "      <td>-1.158233</td>\n",
              "      <td>0.877737</td>\n",
              "      <td>1.548718</td>\n",
              "      <td>0.403034</td>\n",
              "      <td>-0.407193</td>\n",
              "      <td>0.095921</td>\n",
              "      <td>0.592941</td>\n",
              "      <td>-0.270533</td>\n",
              "      <td>0.817739</td>\n",
              "      <td>...</td>\n",
              "      <td>-0.009431</td>\n",
              "      <td>0.798278</td>\n",
              "      <td>-0.137458</td>\n",
              "      <td>0.141267</td>\n",
              "      <td>-0.206010</td>\n",
              "      <td>0.502292</td>\n",
              "      <td>0.219422</td>\n",
              "      <td>0.215153</td>\n",
              "      <td>69.99</td>\n",
              "      <td>0</td>\n",
              "    </tr>\n",
              "  </tbody>\n",
              "</table>\n",
              "<p>5 rows × 31 columns</p>\n",
              "</div>\n",
              "      <button class=\"colab-df-convert\" onclick=\"convertToInteractive('df-da8388bb-2f47-4f75-8c5e-a7691b3c6956')\"\n",
              "              title=\"Convert this dataframe to an interactive table.\"\n",
              "              style=\"display:none;\">\n",
              "        \n",
              "  <svg xmlns=\"http://www.w3.org/2000/svg\" height=\"24px\"viewBox=\"0 0 24 24\"\n",
              "       width=\"24px\">\n",
              "    <path d=\"M0 0h24v24H0V0z\" fill=\"none\"/>\n",
              "    <path d=\"M18.56 5.44l.94 2.06.94-2.06 2.06-.94-2.06-.94-.94-2.06-.94 2.06-2.06.94zm-11 1L8.5 8.5l.94-2.06 2.06-.94-2.06-.94L8.5 2.5l-.94 2.06-2.06.94zm10 10l.94 2.06.94-2.06 2.06-.94-2.06-.94-.94-2.06-.94 2.06-2.06.94z\"/><path d=\"M17.41 7.96l-1.37-1.37c-.4-.4-.92-.59-1.43-.59-.52 0-1.04.2-1.43.59L10.3 9.45l-7.72 7.72c-.78.78-.78 2.05 0 2.83L4 21.41c.39.39.9.59 1.41.59.51 0 1.02-.2 1.41-.59l7.78-7.78 2.81-2.81c.8-.78.8-2.07 0-2.86zM5.41 20L4 18.59l7.72-7.72 1.47 1.35L5.41 20z\"/>\n",
              "  </svg>\n",
              "      </button>\n",
              "      \n",
              "  <style>\n",
              "    .colab-df-container {\n",
              "      display:flex;\n",
              "      flex-wrap:wrap;\n",
              "      gap: 12px;\n",
              "    }\n",
              "\n",
              "    .colab-df-convert {\n",
              "      background-color: #E8F0FE;\n",
              "      border: none;\n",
              "      border-radius: 50%;\n",
              "      cursor: pointer;\n",
              "      display: none;\n",
              "      fill: #1967D2;\n",
              "      height: 32px;\n",
              "      padding: 0 0 0 0;\n",
              "      width: 32px;\n",
              "    }\n",
              "\n",
              "    .colab-df-convert:hover {\n",
              "      background-color: #E2EBFA;\n",
              "      box-shadow: 0px 1px 2px rgba(60, 64, 67, 0.3), 0px 1px 3px 1px rgba(60, 64, 67, 0.15);\n",
              "      fill: #174EA6;\n",
              "    }\n",
              "\n",
              "    [theme=dark] .colab-df-convert {\n",
              "      background-color: #3B4455;\n",
              "      fill: #D2E3FC;\n",
              "    }\n",
              "\n",
              "    [theme=dark] .colab-df-convert:hover {\n",
              "      background-color: #434B5C;\n",
              "      box-shadow: 0px 1px 3px 1px rgba(0, 0, 0, 0.15);\n",
              "      filter: drop-shadow(0px 1px 2px rgba(0, 0, 0, 0.3));\n",
              "      fill: #FFFFFF;\n",
              "    }\n",
              "  </style>\n",
              "\n",
              "      <script>\n",
              "        const buttonEl =\n",
              "          document.querySelector('#df-da8388bb-2f47-4f75-8c5e-a7691b3c6956 button.colab-df-convert');\n",
              "        buttonEl.style.display =\n",
              "          google.colab.kernel.accessAllowed ? 'block' : 'none';\n",
              "\n",
              "        async function convertToInteractive(key) {\n",
              "          const element = document.querySelector('#df-da8388bb-2f47-4f75-8c5e-a7691b3c6956');\n",
              "          const dataTable =\n",
              "            await google.colab.kernel.invokeFunction('convertToInteractive',\n",
              "                                                     [key], {});\n",
              "          if (!dataTable) return;\n",
              "\n",
              "          const docLinkHtml = 'Like what you see? Visit the ' +\n",
              "            '<a target=\"_blank\" href=https://colab.research.google.com/notebooks/data_table.ipynb>data table notebook</a>'\n",
              "            + ' to learn more about interactive tables.';\n",
              "          element.innerHTML = '';\n",
              "          dataTable['output_type'] = 'display_data';\n",
              "          await google.colab.output.renderOutput(dataTable, element);\n",
              "          const docLink = document.createElement('div');\n",
              "          docLink.innerHTML = docLinkHtml;\n",
              "          element.appendChild(docLink);\n",
              "        }\n",
              "      </script>\n",
              "    </div>\n",
              "  </div>\n",
              "  "
            ]
          },
          "metadata": {},
          "execution_count": 6
        }
      ],
      "source": [
        "df.head()"
      ],
      "id": "04652ce0"
    },
    {
      "cell_type": "code",
      "execution_count": null,
      "metadata": {
        "colab": {
          "base_uri": "https://localhost:8080/"
        },
        "id": "d7ecb17f",
        "outputId": "0c6006a2-1198-47d3-85d6-cf30d20866ef"
      },
      "outputs": [
        {
          "output_type": "execute_result",
          "data": {
            "text/plain": [
              "(284807, 31)"
            ]
          },
          "metadata": {},
          "execution_count": 4
        }
      ],
      "source": [
        "df.shape"
      ],
      "id": "d7ecb17f"
    },
    {
      "cell_type": "code",
      "execution_count": null,
      "metadata": {
        "id": "c5705f86"
      },
      "outputs": [],
      "source": [],
      "id": "c5705f86"
    },
    {
      "cell_type": "code",
      "execution_count": null,
      "metadata": {
        "id": "8cf5c69f"
      },
      "outputs": [],
      "source": [],
      "id": "8cf5c69f"
    },
    {
      "cell_type": "code",
      "execution_count": null,
      "metadata": {
        "colab": {
          "base_uri": "https://localhost:8080/"
        },
        "id": "6b069c3d",
        "outputId": "4660c469-1eeb-4251-8cca-b12c6e54e246"
      },
      "outputs": [
        {
          "output_type": "stream",
          "name": "stdout",
          "text": [
            "<class 'pandas.core.frame.DataFrame'>\n",
            "RangeIndex: 284807 entries, 0 to 284806\n",
            "Data columns (total 31 columns):\n",
            " #   Column  Non-Null Count   Dtype  \n",
            "---  ------  --------------   -----  \n",
            " 0   Time    284807 non-null  float64\n",
            " 1   V1      284807 non-null  float64\n",
            " 2   V2      284807 non-null  float64\n",
            " 3   V3      284807 non-null  float64\n",
            " 4   V4      284807 non-null  float64\n",
            " 5   V5      284807 non-null  float64\n",
            " 6   V6      284807 non-null  float64\n",
            " 7   V7      284807 non-null  float64\n",
            " 8   V8      284807 non-null  float64\n",
            " 9   V9      284807 non-null  float64\n",
            " 10  V10     284807 non-null  float64\n",
            " 11  V11     284807 non-null  float64\n",
            " 12  V12     284807 non-null  float64\n",
            " 13  V13     284807 non-null  float64\n",
            " 14  V14     284807 non-null  float64\n",
            " 15  V15     284807 non-null  float64\n",
            " 16  V16     284807 non-null  float64\n",
            " 17  V17     284807 non-null  float64\n",
            " 18  V18     284807 non-null  float64\n",
            " 19  V19     284807 non-null  float64\n",
            " 20  V20     284807 non-null  float64\n",
            " 21  V21     284807 non-null  float64\n",
            " 22  V22     284807 non-null  float64\n",
            " 23  V23     284807 non-null  float64\n",
            " 24  V24     284807 non-null  float64\n",
            " 25  V25     284807 non-null  float64\n",
            " 26  V26     284807 non-null  float64\n",
            " 27  V27     284807 non-null  float64\n",
            " 28  V28     284807 non-null  float64\n",
            " 29  Amount  284807 non-null  float64\n",
            " 30  Class   284807 non-null  int64  \n",
            "dtypes: float64(30), int64(1)\n",
            "memory usage: 67.4 MB\n"
          ]
        }
      ],
      "source": [
        "df.info()"
      ],
      "id": "6b069c3d"
    },
    {
      "cell_type": "code",
      "execution_count": null,
      "metadata": {
        "colab": {
          "base_uri": "https://localhost:8080/"
        },
        "id": "0c652fec",
        "outputId": "7c260559-5644-4b15-b0c6-68411ec328c2"
      },
      "outputs": [
        {
          "output_type": "execute_result",
          "data": {
            "text/plain": [
              "Time      0\n",
              "V1        0\n",
              "V2        0\n",
              "V3        0\n",
              "V4        0\n",
              "V5        0\n",
              "V6        0\n",
              "V7        0\n",
              "V8        0\n",
              "V9        0\n",
              "V10       0\n",
              "V11       0\n",
              "V12       0\n",
              "V13       0\n",
              "V14       0\n",
              "V15       0\n",
              "V16       0\n",
              "V17       0\n",
              "V18       0\n",
              "V19       0\n",
              "V20       0\n",
              "V21       0\n",
              "V22       0\n",
              "V23       0\n",
              "V24       0\n",
              "V25       0\n",
              "V26       0\n",
              "V27       0\n",
              "V28       0\n",
              "Amount    0\n",
              "Class     0\n",
              "dtype: int64"
            ]
          },
          "metadata": {},
          "execution_count": 6
        }
      ],
      "source": [
        "df.isnull().sum() # No Null or missing values"
      ],
      "id": "0c652fec"
    },
    {
      "cell_type": "code",
      "execution_count": null,
      "metadata": {
        "colab": {
          "base_uri": "https://localhost:8080/",
          "height": 314
        },
        "id": "e661f7e7",
        "outputId": "150a7779-f92d-4e7e-dfa8-da6fb2637dfd"
      },
      "outputs": [
        {
          "output_type": "execute_result",
          "data": {
            "text/plain": [
              "                Time            V1            V2            V3            V4  \\\n",
              "count  284807.000000  2.848070e+05  2.848070e+05  2.848070e+05  2.848070e+05   \n",
              "mean    94813.859575  1.168375e-15  3.416908e-16 -1.379537e-15  2.074095e-15   \n",
              "std     47488.145955  1.958696e+00  1.651309e+00  1.516255e+00  1.415869e+00   \n",
              "min         0.000000 -5.640751e+01 -7.271573e+01 -4.832559e+01 -5.683171e+00   \n",
              "25%     54201.500000 -9.203734e-01 -5.985499e-01 -8.903648e-01 -8.486401e-01   \n",
              "50%     84692.000000  1.810880e-02  6.548556e-02  1.798463e-01 -1.984653e-02   \n",
              "75%    139320.500000  1.315642e+00  8.037239e-01  1.027196e+00  7.433413e-01   \n",
              "max    172792.000000  2.454930e+00  2.205773e+01  9.382558e+00  1.687534e+01   \n",
              "\n",
              "                 V5            V6            V7            V8            V9  \\\n",
              "count  2.848070e+05  2.848070e+05  2.848070e+05  2.848070e+05  2.848070e+05   \n",
              "mean   9.604066e-16  1.487313e-15 -5.556467e-16  1.213481e-16 -2.406331e-15   \n",
              "std    1.380247e+00  1.332271e+00  1.237094e+00  1.194353e+00  1.098632e+00   \n",
              "min   -1.137433e+02 -2.616051e+01 -4.355724e+01 -7.321672e+01 -1.343407e+01   \n",
              "25%   -6.915971e-01 -7.682956e-01 -5.540759e-01 -2.086297e-01 -6.430976e-01   \n",
              "50%   -5.433583e-02 -2.741871e-01  4.010308e-02  2.235804e-02 -5.142873e-02   \n",
              "75%    6.119264e-01  3.985649e-01  5.704361e-01  3.273459e-01  5.971390e-01   \n",
              "max    3.480167e+01  7.330163e+01  1.205895e+02  2.000721e+01  1.559499e+01   \n",
              "\n",
              "       ...           V21           V22           V23           V24  \\\n",
              "count  ...  2.848070e+05  2.848070e+05  2.848070e+05  2.848070e+05   \n",
              "mean   ...  1.654067e-16 -3.568593e-16  2.578648e-16  4.473266e-15   \n",
              "std    ...  7.345240e-01  7.257016e-01  6.244603e-01  6.056471e-01   \n",
              "min    ... -3.483038e+01 -1.093314e+01 -4.480774e+01 -2.836627e+00   \n",
              "25%    ... -2.283949e-01 -5.423504e-01 -1.618463e-01 -3.545861e-01   \n",
              "50%    ... -2.945017e-02  6.781943e-03 -1.119293e-02  4.097606e-02   \n",
              "75%    ...  1.863772e-01  5.285536e-01  1.476421e-01  4.395266e-01   \n",
              "max    ...  2.720284e+01  1.050309e+01  2.252841e+01  4.584549e+00   \n",
              "\n",
              "                V25           V26           V27           V28         Amount  \\\n",
              "count  2.848070e+05  2.848070e+05  2.848070e+05  2.848070e+05  284807.000000   \n",
              "mean   5.340915e-16  1.683437e-15 -3.660091e-16 -1.227390e-16      88.349619   \n",
              "std    5.212781e-01  4.822270e-01  4.036325e-01  3.300833e-01     250.120109   \n",
              "min   -1.029540e+01 -2.604551e+00 -2.256568e+01 -1.543008e+01       0.000000   \n",
              "25%   -3.171451e-01 -3.269839e-01 -7.083953e-02 -5.295979e-02       5.600000   \n",
              "50%    1.659350e-02 -5.213911e-02  1.342146e-03  1.124383e-02      22.000000   \n",
              "75%    3.507156e-01  2.409522e-01  9.104512e-02  7.827995e-02      77.165000   \n",
              "max    7.519589e+00  3.517346e+00  3.161220e+01  3.384781e+01   25691.160000   \n",
              "\n",
              "               Class  \n",
              "count  284807.000000  \n",
              "mean        0.001727  \n",
              "std         0.041527  \n",
              "min         0.000000  \n",
              "25%         0.000000  \n",
              "50%         0.000000  \n",
              "75%         0.000000  \n",
              "max         1.000000  \n",
              "\n",
              "[8 rows x 31 columns]"
            ],
            "text/html": [
              "\n",
              "  <div id=\"df-aafe0a21-6526-4b82-9bdc-e27f95dc2c2a\">\n",
              "    <div class=\"colab-df-container\">\n",
              "      <div>\n",
              "<style scoped>\n",
              "    .dataframe tbody tr th:only-of-type {\n",
              "        vertical-align: middle;\n",
              "    }\n",
              "\n",
              "    .dataframe tbody tr th {\n",
              "        vertical-align: top;\n",
              "    }\n",
              "\n",
              "    .dataframe thead th {\n",
              "        text-align: right;\n",
              "    }\n",
              "</style>\n",
              "<table border=\"1\" class=\"dataframe\">\n",
              "  <thead>\n",
              "    <tr style=\"text-align: right;\">\n",
              "      <th></th>\n",
              "      <th>Time</th>\n",
              "      <th>V1</th>\n",
              "      <th>V2</th>\n",
              "      <th>V3</th>\n",
              "      <th>V4</th>\n",
              "      <th>V5</th>\n",
              "      <th>V6</th>\n",
              "      <th>V7</th>\n",
              "      <th>V8</th>\n",
              "      <th>V9</th>\n",
              "      <th>...</th>\n",
              "      <th>V21</th>\n",
              "      <th>V22</th>\n",
              "      <th>V23</th>\n",
              "      <th>V24</th>\n",
              "      <th>V25</th>\n",
              "      <th>V26</th>\n",
              "      <th>V27</th>\n",
              "      <th>V28</th>\n",
              "      <th>Amount</th>\n",
              "      <th>Class</th>\n",
              "    </tr>\n",
              "  </thead>\n",
              "  <tbody>\n",
              "    <tr>\n",
              "      <th>count</th>\n",
              "      <td>284807.000000</td>\n",
              "      <td>2.848070e+05</td>\n",
              "      <td>2.848070e+05</td>\n",
              "      <td>2.848070e+05</td>\n",
              "      <td>2.848070e+05</td>\n",
              "      <td>2.848070e+05</td>\n",
              "      <td>2.848070e+05</td>\n",
              "      <td>2.848070e+05</td>\n",
              "      <td>2.848070e+05</td>\n",
              "      <td>2.848070e+05</td>\n",
              "      <td>...</td>\n",
              "      <td>2.848070e+05</td>\n",
              "      <td>2.848070e+05</td>\n",
              "      <td>2.848070e+05</td>\n",
              "      <td>2.848070e+05</td>\n",
              "      <td>2.848070e+05</td>\n",
              "      <td>2.848070e+05</td>\n",
              "      <td>2.848070e+05</td>\n",
              "      <td>2.848070e+05</td>\n",
              "      <td>284807.000000</td>\n",
              "      <td>284807.000000</td>\n",
              "    </tr>\n",
              "    <tr>\n",
              "      <th>mean</th>\n",
              "      <td>94813.859575</td>\n",
              "      <td>1.168375e-15</td>\n",
              "      <td>3.416908e-16</td>\n",
              "      <td>-1.379537e-15</td>\n",
              "      <td>2.074095e-15</td>\n",
              "      <td>9.604066e-16</td>\n",
              "      <td>1.487313e-15</td>\n",
              "      <td>-5.556467e-16</td>\n",
              "      <td>1.213481e-16</td>\n",
              "      <td>-2.406331e-15</td>\n",
              "      <td>...</td>\n",
              "      <td>1.654067e-16</td>\n",
              "      <td>-3.568593e-16</td>\n",
              "      <td>2.578648e-16</td>\n",
              "      <td>4.473266e-15</td>\n",
              "      <td>5.340915e-16</td>\n",
              "      <td>1.683437e-15</td>\n",
              "      <td>-3.660091e-16</td>\n",
              "      <td>-1.227390e-16</td>\n",
              "      <td>88.349619</td>\n",
              "      <td>0.001727</td>\n",
              "    </tr>\n",
              "    <tr>\n",
              "      <th>std</th>\n",
              "      <td>47488.145955</td>\n",
              "      <td>1.958696e+00</td>\n",
              "      <td>1.651309e+00</td>\n",
              "      <td>1.516255e+00</td>\n",
              "      <td>1.415869e+00</td>\n",
              "      <td>1.380247e+00</td>\n",
              "      <td>1.332271e+00</td>\n",
              "      <td>1.237094e+00</td>\n",
              "      <td>1.194353e+00</td>\n",
              "      <td>1.098632e+00</td>\n",
              "      <td>...</td>\n",
              "      <td>7.345240e-01</td>\n",
              "      <td>7.257016e-01</td>\n",
              "      <td>6.244603e-01</td>\n",
              "      <td>6.056471e-01</td>\n",
              "      <td>5.212781e-01</td>\n",
              "      <td>4.822270e-01</td>\n",
              "      <td>4.036325e-01</td>\n",
              "      <td>3.300833e-01</td>\n",
              "      <td>250.120109</td>\n",
              "      <td>0.041527</td>\n",
              "    </tr>\n",
              "    <tr>\n",
              "      <th>min</th>\n",
              "      <td>0.000000</td>\n",
              "      <td>-5.640751e+01</td>\n",
              "      <td>-7.271573e+01</td>\n",
              "      <td>-4.832559e+01</td>\n",
              "      <td>-5.683171e+00</td>\n",
              "      <td>-1.137433e+02</td>\n",
              "      <td>-2.616051e+01</td>\n",
              "      <td>-4.355724e+01</td>\n",
              "      <td>-7.321672e+01</td>\n",
              "      <td>-1.343407e+01</td>\n",
              "      <td>...</td>\n",
              "      <td>-3.483038e+01</td>\n",
              "      <td>-1.093314e+01</td>\n",
              "      <td>-4.480774e+01</td>\n",
              "      <td>-2.836627e+00</td>\n",
              "      <td>-1.029540e+01</td>\n",
              "      <td>-2.604551e+00</td>\n",
              "      <td>-2.256568e+01</td>\n",
              "      <td>-1.543008e+01</td>\n",
              "      <td>0.000000</td>\n",
              "      <td>0.000000</td>\n",
              "    </tr>\n",
              "    <tr>\n",
              "      <th>25%</th>\n",
              "      <td>54201.500000</td>\n",
              "      <td>-9.203734e-01</td>\n",
              "      <td>-5.985499e-01</td>\n",
              "      <td>-8.903648e-01</td>\n",
              "      <td>-8.486401e-01</td>\n",
              "      <td>-6.915971e-01</td>\n",
              "      <td>-7.682956e-01</td>\n",
              "      <td>-5.540759e-01</td>\n",
              "      <td>-2.086297e-01</td>\n",
              "      <td>-6.430976e-01</td>\n",
              "      <td>...</td>\n",
              "      <td>-2.283949e-01</td>\n",
              "      <td>-5.423504e-01</td>\n",
              "      <td>-1.618463e-01</td>\n",
              "      <td>-3.545861e-01</td>\n",
              "      <td>-3.171451e-01</td>\n",
              "      <td>-3.269839e-01</td>\n",
              "      <td>-7.083953e-02</td>\n",
              "      <td>-5.295979e-02</td>\n",
              "      <td>5.600000</td>\n",
              "      <td>0.000000</td>\n",
              "    </tr>\n",
              "    <tr>\n",
              "      <th>50%</th>\n",
              "      <td>84692.000000</td>\n",
              "      <td>1.810880e-02</td>\n",
              "      <td>6.548556e-02</td>\n",
              "      <td>1.798463e-01</td>\n",
              "      <td>-1.984653e-02</td>\n",
              "      <td>-5.433583e-02</td>\n",
              "      <td>-2.741871e-01</td>\n",
              "      <td>4.010308e-02</td>\n",
              "      <td>2.235804e-02</td>\n",
              "      <td>-5.142873e-02</td>\n",
              "      <td>...</td>\n",
              "      <td>-2.945017e-02</td>\n",
              "      <td>6.781943e-03</td>\n",
              "      <td>-1.119293e-02</td>\n",
              "      <td>4.097606e-02</td>\n",
              "      <td>1.659350e-02</td>\n",
              "      <td>-5.213911e-02</td>\n",
              "      <td>1.342146e-03</td>\n",
              "      <td>1.124383e-02</td>\n",
              "      <td>22.000000</td>\n",
              "      <td>0.000000</td>\n",
              "    </tr>\n",
              "    <tr>\n",
              "      <th>75%</th>\n",
              "      <td>139320.500000</td>\n",
              "      <td>1.315642e+00</td>\n",
              "      <td>8.037239e-01</td>\n",
              "      <td>1.027196e+00</td>\n",
              "      <td>7.433413e-01</td>\n",
              "      <td>6.119264e-01</td>\n",
              "      <td>3.985649e-01</td>\n",
              "      <td>5.704361e-01</td>\n",
              "      <td>3.273459e-01</td>\n",
              "      <td>5.971390e-01</td>\n",
              "      <td>...</td>\n",
              "      <td>1.863772e-01</td>\n",
              "      <td>5.285536e-01</td>\n",
              "      <td>1.476421e-01</td>\n",
              "      <td>4.395266e-01</td>\n",
              "      <td>3.507156e-01</td>\n",
              "      <td>2.409522e-01</td>\n",
              "      <td>9.104512e-02</td>\n",
              "      <td>7.827995e-02</td>\n",
              "      <td>77.165000</td>\n",
              "      <td>0.000000</td>\n",
              "    </tr>\n",
              "    <tr>\n",
              "      <th>max</th>\n",
              "      <td>172792.000000</td>\n",
              "      <td>2.454930e+00</td>\n",
              "      <td>2.205773e+01</td>\n",
              "      <td>9.382558e+00</td>\n",
              "      <td>1.687534e+01</td>\n",
              "      <td>3.480167e+01</td>\n",
              "      <td>7.330163e+01</td>\n",
              "      <td>1.205895e+02</td>\n",
              "      <td>2.000721e+01</td>\n",
              "      <td>1.559499e+01</td>\n",
              "      <td>...</td>\n",
              "      <td>2.720284e+01</td>\n",
              "      <td>1.050309e+01</td>\n",
              "      <td>2.252841e+01</td>\n",
              "      <td>4.584549e+00</td>\n",
              "      <td>7.519589e+00</td>\n",
              "      <td>3.517346e+00</td>\n",
              "      <td>3.161220e+01</td>\n",
              "      <td>3.384781e+01</td>\n",
              "      <td>25691.160000</td>\n",
              "      <td>1.000000</td>\n",
              "    </tr>\n",
              "  </tbody>\n",
              "</table>\n",
              "<p>8 rows × 31 columns</p>\n",
              "</div>\n",
              "      <button class=\"colab-df-convert\" onclick=\"convertToInteractive('df-aafe0a21-6526-4b82-9bdc-e27f95dc2c2a')\"\n",
              "              title=\"Convert this dataframe to an interactive table.\"\n",
              "              style=\"display:none;\">\n",
              "        \n",
              "  <svg xmlns=\"http://www.w3.org/2000/svg\" height=\"24px\"viewBox=\"0 0 24 24\"\n",
              "       width=\"24px\">\n",
              "    <path d=\"M0 0h24v24H0V0z\" fill=\"none\"/>\n",
              "    <path d=\"M18.56 5.44l.94 2.06.94-2.06 2.06-.94-2.06-.94-.94-2.06-.94 2.06-2.06.94zm-11 1L8.5 8.5l.94-2.06 2.06-.94-2.06-.94L8.5 2.5l-.94 2.06-2.06.94zm10 10l.94 2.06.94-2.06 2.06-.94-2.06-.94-.94-2.06-.94 2.06-2.06.94z\"/><path d=\"M17.41 7.96l-1.37-1.37c-.4-.4-.92-.59-1.43-.59-.52 0-1.04.2-1.43.59L10.3 9.45l-7.72 7.72c-.78.78-.78 2.05 0 2.83L4 21.41c.39.39.9.59 1.41.59.51 0 1.02-.2 1.41-.59l7.78-7.78 2.81-2.81c.8-.78.8-2.07 0-2.86zM5.41 20L4 18.59l7.72-7.72 1.47 1.35L5.41 20z\"/>\n",
              "  </svg>\n",
              "      </button>\n",
              "      \n",
              "  <style>\n",
              "    .colab-df-container {\n",
              "      display:flex;\n",
              "      flex-wrap:wrap;\n",
              "      gap: 12px;\n",
              "    }\n",
              "\n",
              "    .colab-df-convert {\n",
              "      background-color: #E8F0FE;\n",
              "      border: none;\n",
              "      border-radius: 50%;\n",
              "      cursor: pointer;\n",
              "      display: none;\n",
              "      fill: #1967D2;\n",
              "      height: 32px;\n",
              "      padding: 0 0 0 0;\n",
              "      width: 32px;\n",
              "    }\n",
              "\n",
              "    .colab-df-convert:hover {\n",
              "      background-color: #E2EBFA;\n",
              "      box-shadow: 0px 1px 2px rgba(60, 64, 67, 0.3), 0px 1px 3px 1px rgba(60, 64, 67, 0.15);\n",
              "      fill: #174EA6;\n",
              "    }\n",
              "\n",
              "    [theme=dark] .colab-df-convert {\n",
              "      background-color: #3B4455;\n",
              "      fill: #D2E3FC;\n",
              "    }\n",
              "\n",
              "    [theme=dark] .colab-df-convert:hover {\n",
              "      background-color: #434B5C;\n",
              "      box-shadow: 0px 1px 3px 1px rgba(0, 0, 0, 0.15);\n",
              "      filter: drop-shadow(0px 1px 2px rgba(0, 0, 0, 0.3));\n",
              "      fill: #FFFFFF;\n",
              "    }\n",
              "  </style>\n",
              "\n",
              "      <script>\n",
              "        const buttonEl =\n",
              "          document.querySelector('#df-aafe0a21-6526-4b82-9bdc-e27f95dc2c2a button.colab-df-convert');\n",
              "        buttonEl.style.display =\n",
              "          google.colab.kernel.accessAllowed ? 'block' : 'none';\n",
              "\n",
              "        async function convertToInteractive(key) {\n",
              "          const element = document.querySelector('#df-aafe0a21-6526-4b82-9bdc-e27f95dc2c2a');\n",
              "          const dataTable =\n",
              "            await google.colab.kernel.invokeFunction('convertToInteractive',\n",
              "                                                     [key], {});\n",
              "          if (!dataTable) return;\n",
              "\n",
              "          const docLinkHtml = 'Like what you see? Visit the ' +\n",
              "            '<a target=\"_blank\" href=https://colab.research.google.com/notebooks/data_table.ipynb>data table notebook</a>'\n",
              "            + ' to learn more about interactive tables.';\n",
              "          element.innerHTML = '';\n",
              "          dataTable['output_type'] = 'display_data';\n",
              "          await google.colab.output.renderOutput(dataTable, element);\n",
              "          const docLink = document.createElement('div');\n",
              "          docLink.innerHTML = docLinkHtml;\n",
              "          element.appendChild(docLink);\n",
              "        }\n",
              "      </script>\n",
              "    </div>\n",
              "  </div>\n",
              "  "
            ]
          },
          "metadata": {},
          "execution_count": 7
        },
        {
          "output_type": "stream",
          "name": "stdout",
          "text": [
            "Warning: Total number of columns (31) exceeds max_columns (20) limiting to first (20) columns.\n"
          ]
        }
      ],
      "source": [
        "df.describe()"
      ],
      "id": "e661f7e7"
    },
    {
      "cell_type": "code",
      "execution_count": null,
      "metadata": {
        "colab": {
          "base_uri": "https://localhost:8080/"
        },
        "id": "727fefa1",
        "outputId": "cf6a9aea-7681-432e-b42f-3563b9723a22"
      },
      "outputs": [
        {
          "output_type": "execute_result",
          "data": {
            "text/plain": [
              "Index(['Time', 'V1', 'V2', 'V3', 'V4', 'V5', 'V6', 'V7', 'V8', 'V9', 'V10',\n",
              "       'V11', 'V12', 'V13', 'V14', 'V15', 'V16', 'V17', 'V18', 'V19', 'V20',\n",
              "       'V21', 'V22', 'V23', 'V24', 'V25', 'V26', 'V27', 'V28', 'Amount',\n",
              "       'Class'],\n",
              "      dtype='object')"
            ]
          },
          "metadata": {},
          "execution_count": 8
        }
      ],
      "source": [
        "df.columns"
      ],
      "id": "727fefa1"
    },
    {
      "cell_type": "code",
      "execution_count": null,
      "metadata": {
        "colab": {
          "base_uri": "https://localhost:8080/",
          "height": 141
        },
        "id": "50ac33e3",
        "outputId": "d102174c-30f9-4b60-e67c-fd507cffb26e"
      },
      "outputs": [
        {
          "output_type": "execute_result",
          "data": {
            "text/plain": [
              "         Time  V16  Amount  V28  V27  V26  V25  V24  V23  V22  ...  V10   V9  \\\n",
              "total     0.0  0.0     0.0  0.0  0.0  0.0  0.0  0.0  0.0  0.0  ...  0.0  0.0   \n",
              "percent   0.0  0.0     0.0  0.0  0.0  0.0  0.0  0.0  0.0  0.0  ...  0.0  0.0   \n",
              "\n",
              "          V8   V7   V6   V5   V4   V3   V2  Class  \n",
              "total    0.0  0.0  0.0  0.0  0.0  0.0  0.0    0.0  \n",
              "percent  0.0  0.0  0.0  0.0  0.0  0.0  0.0    0.0  \n",
              "\n",
              "[2 rows x 31 columns]"
            ],
            "text/html": [
              "\n",
              "  <div id=\"df-17d47b3e-84c1-443b-9932-bb84df755cb9\">\n",
              "    <div class=\"colab-df-container\">\n",
              "      <div>\n",
              "<style scoped>\n",
              "    .dataframe tbody tr th:only-of-type {\n",
              "        vertical-align: middle;\n",
              "    }\n",
              "\n",
              "    .dataframe tbody tr th {\n",
              "        vertical-align: top;\n",
              "    }\n",
              "\n",
              "    .dataframe thead th {\n",
              "        text-align: right;\n",
              "    }\n",
              "</style>\n",
              "<table border=\"1\" class=\"dataframe\">\n",
              "  <thead>\n",
              "    <tr style=\"text-align: right;\">\n",
              "      <th></th>\n",
              "      <th>Time</th>\n",
              "      <th>V16</th>\n",
              "      <th>Amount</th>\n",
              "      <th>V28</th>\n",
              "      <th>V27</th>\n",
              "      <th>V26</th>\n",
              "      <th>V25</th>\n",
              "      <th>V24</th>\n",
              "      <th>V23</th>\n",
              "      <th>V22</th>\n",
              "      <th>...</th>\n",
              "      <th>V10</th>\n",
              "      <th>V9</th>\n",
              "      <th>V8</th>\n",
              "      <th>V7</th>\n",
              "      <th>V6</th>\n",
              "      <th>V5</th>\n",
              "      <th>V4</th>\n",
              "      <th>V3</th>\n",
              "      <th>V2</th>\n",
              "      <th>Class</th>\n",
              "    </tr>\n",
              "  </thead>\n",
              "  <tbody>\n",
              "    <tr>\n",
              "      <th>total</th>\n",
              "      <td>0.0</td>\n",
              "      <td>0.0</td>\n",
              "      <td>0.0</td>\n",
              "      <td>0.0</td>\n",
              "      <td>0.0</td>\n",
              "      <td>0.0</td>\n",
              "      <td>0.0</td>\n",
              "      <td>0.0</td>\n",
              "      <td>0.0</td>\n",
              "      <td>0.0</td>\n",
              "      <td>...</td>\n",
              "      <td>0.0</td>\n",
              "      <td>0.0</td>\n",
              "      <td>0.0</td>\n",
              "      <td>0.0</td>\n",
              "      <td>0.0</td>\n",
              "      <td>0.0</td>\n",
              "      <td>0.0</td>\n",
              "      <td>0.0</td>\n",
              "      <td>0.0</td>\n",
              "      <td>0.0</td>\n",
              "    </tr>\n",
              "    <tr>\n",
              "      <th>percent</th>\n",
              "      <td>0.0</td>\n",
              "      <td>0.0</td>\n",
              "      <td>0.0</td>\n",
              "      <td>0.0</td>\n",
              "      <td>0.0</td>\n",
              "      <td>0.0</td>\n",
              "      <td>0.0</td>\n",
              "      <td>0.0</td>\n",
              "      <td>0.0</td>\n",
              "      <td>0.0</td>\n",
              "      <td>...</td>\n",
              "      <td>0.0</td>\n",
              "      <td>0.0</td>\n",
              "      <td>0.0</td>\n",
              "      <td>0.0</td>\n",
              "      <td>0.0</td>\n",
              "      <td>0.0</td>\n",
              "      <td>0.0</td>\n",
              "      <td>0.0</td>\n",
              "      <td>0.0</td>\n",
              "      <td>0.0</td>\n",
              "    </tr>\n",
              "  </tbody>\n",
              "</table>\n",
              "<p>2 rows × 31 columns</p>\n",
              "</div>\n",
              "      <button class=\"colab-df-convert\" onclick=\"convertToInteractive('df-17d47b3e-84c1-443b-9932-bb84df755cb9')\"\n",
              "              title=\"Convert this dataframe to an interactive table.\"\n",
              "              style=\"display:none;\">\n",
              "        \n",
              "  <svg xmlns=\"http://www.w3.org/2000/svg\" height=\"24px\"viewBox=\"0 0 24 24\"\n",
              "       width=\"24px\">\n",
              "    <path d=\"M0 0h24v24H0V0z\" fill=\"none\"/>\n",
              "    <path d=\"M18.56 5.44l.94 2.06.94-2.06 2.06-.94-2.06-.94-.94-2.06-.94 2.06-2.06.94zm-11 1L8.5 8.5l.94-2.06 2.06-.94-2.06-.94L8.5 2.5l-.94 2.06-2.06.94zm10 10l.94 2.06.94-2.06 2.06-.94-2.06-.94-.94-2.06-.94 2.06-2.06.94z\"/><path d=\"M17.41 7.96l-1.37-1.37c-.4-.4-.92-.59-1.43-.59-.52 0-1.04.2-1.43.59L10.3 9.45l-7.72 7.72c-.78.78-.78 2.05 0 2.83L4 21.41c.39.39.9.59 1.41.59.51 0 1.02-.2 1.41-.59l7.78-7.78 2.81-2.81c.8-.78.8-2.07 0-2.86zM5.41 20L4 18.59l7.72-7.72 1.47 1.35L5.41 20z\"/>\n",
              "  </svg>\n",
              "      </button>\n",
              "      \n",
              "  <style>\n",
              "    .colab-df-container {\n",
              "      display:flex;\n",
              "      flex-wrap:wrap;\n",
              "      gap: 12px;\n",
              "    }\n",
              "\n",
              "    .colab-df-convert {\n",
              "      background-color: #E8F0FE;\n",
              "      border: none;\n",
              "      border-radius: 50%;\n",
              "      cursor: pointer;\n",
              "      display: none;\n",
              "      fill: #1967D2;\n",
              "      height: 32px;\n",
              "      padding: 0 0 0 0;\n",
              "      width: 32px;\n",
              "    }\n",
              "\n",
              "    .colab-df-convert:hover {\n",
              "      background-color: #E2EBFA;\n",
              "      box-shadow: 0px 1px 2px rgba(60, 64, 67, 0.3), 0px 1px 3px 1px rgba(60, 64, 67, 0.15);\n",
              "      fill: #174EA6;\n",
              "    }\n",
              "\n",
              "    [theme=dark] .colab-df-convert {\n",
              "      background-color: #3B4455;\n",
              "      fill: #D2E3FC;\n",
              "    }\n",
              "\n",
              "    [theme=dark] .colab-df-convert:hover {\n",
              "      background-color: #434B5C;\n",
              "      box-shadow: 0px 1px 3px 1px rgba(0, 0, 0, 0.15);\n",
              "      filter: drop-shadow(0px 1px 2px rgba(0, 0, 0, 0.3));\n",
              "      fill: #FFFFFF;\n",
              "    }\n",
              "  </style>\n",
              "\n",
              "      <script>\n",
              "        const buttonEl =\n",
              "          document.querySelector('#df-17d47b3e-84c1-443b-9932-bb84df755cb9 button.colab-df-convert');\n",
              "        buttonEl.style.display =\n",
              "          google.colab.kernel.accessAllowed ? 'block' : 'none';\n",
              "\n",
              "        async function convertToInteractive(key) {\n",
              "          const element = document.querySelector('#df-17d47b3e-84c1-443b-9932-bb84df755cb9');\n",
              "          const dataTable =\n",
              "            await google.colab.kernel.invokeFunction('convertToInteractive',\n",
              "                                                     [key], {});\n",
              "          if (!dataTable) return;\n",
              "\n",
              "          const docLinkHtml = 'Like what you see? Visit the ' +\n",
              "            '<a target=\"_blank\" href=https://colab.research.google.com/notebooks/data_table.ipynb>data table notebook</a>'\n",
              "            + ' to learn more about interactive tables.';\n",
              "          element.innerHTML = '';\n",
              "          dataTable['output_type'] = 'display_data';\n",
              "          await google.colab.output.renderOutput(dataTable, element);\n",
              "          const docLink = document.createElement('div');\n",
              "          docLink.innerHTML = docLinkHtml;\n",
              "          element.appendChild(docLink);\n",
              "        }\n",
              "      </script>\n",
              "    </div>\n",
              "  </div>\n",
              "  "
            ]
          },
          "metadata": {},
          "execution_count": 9
        }
      ],
      "source": [
        "# 2nd method for Checking missing values 1st method\n",
        "total = df.isnull().sum().sort_values(ascending = False)\n",
        "percent = (df.isnull().sum()/df.isnull().count()*100).sort_values(ascending=False)\n",
        "pd.concat([total,percent], axis=1, keys=['total','percent']).transpose()"
      ],
      "id": "50ac33e3"
    },
    {
      "cell_type": "code",
      "execution_count": null,
      "metadata": {
        "colab": {
          "base_uri": "https://localhost:8080/"
        },
        "id": "614d4541",
        "outputId": "e1b23f4f-4308-4c1e-a92c-f92c38697dcd"
      },
      "outputs": [
        {
          "output_type": "execute_result",
          "data": {
            "text/plain": [
              "((284807, 30), (284807,))"
            ]
          },
          "metadata": {},
          "execution_count": 10
        }
      ],
      "source": [
        "X = df.drop(['Class'], axis=1)\n",
        "y= df['Class']\n",
        "X.shape, y.shape"
      ],
      "id": "614d4541"
    },
    {
      "cell_type": "code",
      "execution_count": null,
      "metadata": {
        "colab": {
          "base_uri": "https://localhost:8080/",
          "height": 488
        },
        "id": "0784575b",
        "outputId": "200501fe-6559-403f-fdc5-89820b446dbb"
      },
      "outputs": [
        {
          "output_type": "execute_result",
          "data": {
            "text/plain": [
              "            Time         V1         V2        V3        V4        V5  \\\n",
              "0            0.0  -1.359807  -0.072781  2.536347  1.378155 -0.338321   \n",
              "1            0.0   1.191857   0.266151  0.166480  0.448154  0.060018   \n",
              "2            1.0  -1.358354  -1.340163  1.773209  0.379780 -0.503198   \n",
              "3            1.0  -0.966272  -0.185226  1.792993 -0.863291 -0.010309   \n",
              "4            2.0  -1.158233   0.877737  1.548718  0.403034 -0.407193   \n",
              "...          ...        ...        ...       ...       ...       ...   \n",
              "284802  172786.0 -11.881118  10.071785 -9.834783 -2.066656 -5.364473   \n",
              "284803  172787.0  -0.732789  -0.055080  2.035030 -0.738589  0.868229   \n",
              "284804  172788.0   1.919565  -0.301254 -3.249640 -0.557828  2.630515   \n",
              "284805  172788.0  -0.240440   0.530483  0.702510  0.689799 -0.377961   \n",
              "284806  172792.0  -0.533413  -0.189733  0.703337 -0.506271 -0.012546   \n",
              "\n",
              "              V6        V7        V8        V9  ...       V20       V21  \\\n",
              "0       0.462388  0.239599  0.098698  0.363787  ...  0.251412 -0.018307   \n",
              "1      -0.082361 -0.078803  0.085102 -0.255425  ... -0.069083 -0.225775   \n",
              "2       1.800499  0.791461  0.247676 -1.514654  ...  0.524980  0.247998   \n",
              "3       1.247203  0.237609  0.377436 -1.387024  ... -0.208038 -0.108300   \n",
              "4       0.095921  0.592941 -0.270533  0.817739  ...  0.408542 -0.009431   \n",
              "...          ...       ...       ...       ...  ...       ...       ...   \n",
              "284802 -2.606837 -4.918215  7.305334  1.914428  ...  1.475829  0.213454   \n",
              "284803  1.058415  0.024330  0.294869  0.584800  ...  0.059616  0.214205   \n",
              "284804  3.031260 -0.296827  0.708417  0.432454  ...  0.001396  0.232045   \n",
              "284805  0.623708 -0.686180  0.679145  0.392087  ...  0.127434  0.265245   \n",
              "284806 -0.649617  1.577006 -0.414650  0.486180  ...  0.382948  0.261057   \n",
              "\n",
              "             V22       V23       V24       V25       V26       V27       V28  \\\n",
              "0       0.277838 -0.110474  0.066928  0.128539 -0.189115  0.133558 -0.021053   \n",
              "1      -0.638672  0.101288 -0.339846  0.167170  0.125895 -0.008983  0.014724   \n",
              "2       0.771679  0.909412 -0.689281 -0.327642 -0.139097 -0.055353 -0.059752   \n",
              "3       0.005274 -0.190321 -1.175575  0.647376 -0.221929  0.062723  0.061458   \n",
              "4       0.798278 -0.137458  0.141267 -0.206010  0.502292  0.219422  0.215153   \n",
              "...          ...       ...       ...       ...       ...       ...       ...   \n",
              "284802  0.111864  1.014480 -0.509348  1.436807  0.250034  0.943651  0.823731   \n",
              "284803  0.924384  0.012463 -1.016226 -0.606624 -0.395255  0.068472 -0.053527   \n",
              "284804  0.578229 -0.037501  0.640134  0.265745 -0.087371  0.004455 -0.026561   \n",
              "284805  0.800049 -0.163298  0.123205 -0.569159  0.546668  0.108821  0.104533   \n",
              "284806  0.643078  0.376777  0.008797 -0.473649 -0.818267 -0.002415  0.013649   \n",
              "\n",
              "        Amount  \n",
              "0       149.62  \n",
              "1         2.69  \n",
              "2       378.66  \n",
              "3       123.50  \n",
              "4        69.99  \n",
              "...        ...  \n",
              "284802    0.77  \n",
              "284803   24.79  \n",
              "284804   67.88  \n",
              "284805   10.00  \n",
              "284806  217.00  \n",
              "\n",
              "[284807 rows x 30 columns]"
            ],
            "text/html": [
              "\n",
              "  <div id=\"df-1254557e-9a62-48c7-b268-6124ea898458\">\n",
              "    <div class=\"colab-df-container\">\n",
              "      <div>\n",
              "<style scoped>\n",
              "    .dataframe tbody tr th:only-of-type {\n",
              "        vertical-align: middle;\n",
              "    }\n",
              "\n",
              "    .dataframe tbody tr th {\n",
              "        vertical-align: top;\n",
              "    }\n",
              "\n",
              "    .dataframe thead th {\n",
              "        text-align: right;\n",
              "    }\n",
              "</style>\n",
              "<table border=\"1\" class=\"dataframe\">\n",
              "  <thead>\n",
              "    <tr style=\"text-align: right;\">\n",
              "      <th></th>\n",
              "      <th>Time</th>\n",
              "      <th>V1</th>\n",
              "      <th>V2</th>\n",
              "      <th>V3</th>\n",
              "      <th>V4</th>\n",
              "      <th>V5</th>\n",
              "      <th>V6</th>\n",
              "      <th>V7</th>\n",
              "      <th>V8</th>\n",
              "      <th>V9</th>\n",
              "      <th>...</th>\n",
              "      <th>V20</th>\n",
              "      <th>V21</th>\n",
              "      <th>V22</th>\n",
              "      <th>V23</th>\n",
              "      <th>V24</th>\n",
              "      <th>V25</th>\n",
              "      <th>V26</th>\n",
              "      <th>V27</th>\n",
              "      <th>V28</th>\n",
              "      <th>Amount</th>\n",
              "    </tr>\n",
              "  </thead>\n",
              "  <tbody>\n",
              "    <tr>\n",
              "      <th>0</th>\n",
              "      <td>0.0</td>\n",
              "      <td>-1.359807</td>\n",
              "      <td>-0.072781</td>\n",
              "      <td>2.536347</td>\n",
              "      <td>1.378155</td>\n",
              "      <td>-0.338321</td>\n",
              "      <td>0.462388</td>\n",
              "      <td>0.239599</td>\n",
              "      <td>0.098698</td>\n",
              "      <td>0.363787</td>\n",
              "      <td>...</td>\n",
              "      <td>0.251412</td>\n",
              "      <td>-0.018307</td>\n",
              "      <td>0.277838</td>\n",
              "      <td>-0.110474</td>\n",
              "      <td>0.066928</td>\n",
              "      <td>0.128539</td>\n",
              "      <td>-0.189115</td>\n",
              "      <td>0.133558</td>\n",
              "      <td>-0.021053</td>\n",
              "      <td>149.62</td>\n",
              "    </tr>\n",
              "    <tr>\n",
              "      <th>1</th>\n",
              "      <td>0.0</td>\n",
              "      <td>1.191857</td>\n",
              "      <td>0.266151</td>\n",
              "      <td>0.166480</td>\n",
              "      <td>0.448154</td>\n",
              "      <td>0.060018</td>\n",
              "      <td>-0.082361</td>\n",
              "      <td>-0.078803</td>\n",
              "      <td>0.085102</td>\n",
              "      <td>-0.255425</td>\n",
              "      <td>...</td>\n",
              "      <td>-0.069083</td>\n",
              "      <td>-0.225775</td>\n",
              "      <td>-0.638672</td>\n",
              "      <td>0.101288</td>\n",
              "      <td>-0.339846</td>\n",
              "      <td>0.167170</td>\n",
              "      <td>0.125895</td>\n",
              "      <td>-0.008983</td>\n",
              "      <td>0.014724</td>\n",
              "      <td>2.69</td>\n",
              "    </tr>\n",
              "    <tr>\n",
              "      <th>2</th>\n",
              "      <td>1.0</td>\n",
              "      <td>-1.358354</td>\n",
              "      <td>-1.340163</td>\n",
              "      <td>1.773209</td>\n",
              "      <td>0.379780</td>\n",
              "      <td>-0.503198</td>\n",
              "      <td>1.800499</td>\n",
              "      <td>0.791461</td>\n",
              "      <td>0.247676</td>\n",
              "      <td>-1.514654</td>\n",
              "      <td>...</td>\n",
              "      <td>0.524980</td>\n",
              "      <td>0.247998</td>\n",
              "      <td>0.771679</td>\n",
              "      <td>0.909412</td>\n",
              "      <td>-0.689281</td>\n",
              "      <td>-0.327642</td>\n",
              "      <td>-0.139097</td>\n",
              "      <td>-0.055353</td>\n",
              "      <td>-0.059752</td>\n",
              "      <td>378.66</td>\n",
              "    </tr>\n",
              "    <tr>\n",
              "      <th>3</th>\n",
              "      <td>1.0</td>\n",
              "      <td>-0.966272</td>\n",
              "      <td>-0.185226</td>\n",
              "      <td>1.792993</td>\n",
              "      <td>-0.863291</td>\n",
              "      <td>-0.010309</td>\n",
              "      <td>1.247203</td>\n",
              "      <td>0.237609</td>\n",
              "      <td>0.377436</td>\n",
              "      <td>-1.387024</td>\n",
              "      <td>...</td>\n",
              "      <td>-0.208038</td>\n",
              "      <td>-0.108300</td>\n",
              "      <td>0.005274</td>\n",
              "      <td>-0.190321</td>\n",
              "      <td>-1.175575</td>\n",
              "      <td>0.647376</td>\n",
              "      <td>-0.221929</td>\n",
              "      <td>0.062723</td>\n",
              "      <td>0.061458</td>\n",
              "      <td>123.50</td>\n",
              "    </tr>\n",
              "    <tr>\n",
              "      <th>4</th>\n",
              "      <td>2.0</td>\n",
              "      <td>-1.158233</td>\n",
              "      <td>0.877737</td>\n",
              "      <td>1.548718</td>\n",
              "      <td>0.403034</td>\n",
              "      <td>-0.407193</td>\n",
              "      <td>0.095921</td>\n",
              "      <td>0.592941</td>\n",
              "      <td>-0.270533</td>\n",
              "      <td>0.817739</td>\n",
              "      <td>...</td>\n",
              "      <td>0.408542</td>\n",
              "      <td>-0.009431</td>\n",
              "      <td>0.798278</td>\n",
              "      <td>-0.137458</td>\n",
              "      <td>0.141267</td>\n",
              "      <td>-0.206010</td>\n",
              "      <td>0.502292</td>\n",
              "      <td>0.219422</td>\n",
              "      <td>0.215153</td>\n",
              "      <td>69.99</td>\n",
              "    </tr>\n",
              "    <tr>\n",
              "      <th>...</th>\n",
              "      <td>...</td>\n",
              "      <td>...</td>\n",
              "      <td>...</td>\n",
              "      <td>...</td>\n",
              "      <td>...</td>\n",
              "      <td>...</td>\n",
              "      <td>...</td>\n",
              "      <td>...</td>\n",
              "      <td>...</td>\n",
              "      <td>...</td>\n",
              "      <td>...</td>\n",
              "      <td>...</td>\n",
              "      <td>...</td>\n",
              "      <td>...</td>\n",
              "      <td>...</td>\n",
              "      <td>...</td>\n",
              "      <td>...</td>\n",
              "      <td>...</td>\n",
              "      <td>...</td>\n",
              "      <td>...</td>\n",
              "      <td>...</td>\n",
              "    </tr>\n",
              "    <tr>\n",
              "      <th>284802</th>\n",
              "      <td>172786.0</td>\n",
              "      <td>-11.881118</td>\n",
              "      <td>10.071785</td>\n",
              "      <td>-9.834783</td>\n",
              "      <td>-2.066656</td>\n",
              "      <td>-5.364473</td>\n",
              "      <td>-2.606837</td>\n",
              "      <td>-4.918215</td>\n",
              "      <td>7.305334</td>\n",
              "      <td>1.914428</td>\n",
              "      <td>...</td>\n",
              "      <td>1.475829</td>\n",
              "      <td>0.213454</td>\n",
              "      <td>0.111864</td>\n",
              "      <td>1.014480</td>\n",
              "      <td>-0.509348</td>\n",
              "      <td>1.436807</td>\n",
              "      <td>0.250034</td>\n",
              "      <td>0.943651</td>\n",
              "      <td>0.823731</td>\n",
              "      <td>0.77</td>\n",
              "    </tr>\n",
              "    <tr>\n",
              "      <th>284803</th>\n",
              "      <td>172787.0</td>\n",
              "      <td>-0.732789</td>\n",
              "      <td>-0.055080</td>\n",
              "      <td>2.035030</td>\n",
              "      <td>-0.738589</td>\n",
              "      <td>0.868229</td>\n",
              "      <td>1.058415</td>\n",
              "      <td>0.024330</td>\n",
              "      <td>0.294869</td>\n",
              "      <td>0.584800</td>\n",
              "      <td>...</td>\n",
              "      <td>0.059616</td>\n",
              "      <td>0.214205</td>\n",
              "      <td>0.924384</td>\n",
              "      <td>0.012463</td>\n",
              "      <td>-1.016226</td>\n",
              "      <td>-0.606624</td>\n",
              "      <td>-0.395255</td>\n",
              "      <td>0.068472</td>\n",
              "      <td>-0.053527</td>\n",
              "      <td>24.79</td>\n",
              "    </tr>\n",
              "    <tr>\n",
              "      <th>284804</th>\n",
              "      <td>172788.0</td>\n",
              "      <td>1.919565</td>\n",
              "      <td>-0.301254</td>\n",
              "      <td>-3.249640</td>\n",
              "      <td>-0.557828</td>\n",
              "      <td>2.630515</td>\n",
              "      <td>3.031260</td>\n",
              "      <td>-0.296827</td>\n",
              "      <td>0.708417</td>\n",
              "      <td>0.432454</td>\n",
              "      <td>...</td>\n",
              "      <td>0.001396</td>\n",
              "      <td>0.232045</td>\n",
              "      <td>0.578229</td>\n",
              "      <td>-0.037501</td>\n",
              "      <td>0.640134</td>\n",
              "      <td>0.265745</td>\n",
              "      <td>-0.087371</td>\n",
              "      <td>0.004455</td>\n",
              "      <td>-0.026561</td>\n",
              "      <td>67.88</td>\n",
              "    </tr>\n",
              "    <tr>\n",
              "      <th>284805</th>\n",
              "      <td>172788.0</td>\n",
              "      <td>-0.240440</td>\n",
              "      <td>0.530483</td>\n",
              "      <td>0.702510</td>\n",
              "      <td>0.689799</td>\n",
              "      <td>-0.377961</td>\n",
              "      <td>0.623708</td>\n",
              "      <td>-0.686180</td>\n",
              "      <td>0.679145</td>\n",
              "      <td>0.392087</td>\n",
              "      <td>...</td>\n",
              "      <td>0.127434</td>\n",
              "      <td>0.265245</td>\n",
              "      <td>0.800049</td>\n",
              "      <td>-0.163298</td>\n",
              "      <td>0.123205</td>\n",
              "      <td>-0.569159</td>\n",
              "      <td>0.546668</td>\n",
              "      <td>0.108821</td>\n",
              "      <td>0.104533</td>\n",
              "      <td>10.00</td>\n",
              "    </tr>\n",
              "    <tr>\n",
              "      <th>284806</th>\n",
              "      <td>172792.0</td>\n",
              "      <td>-0.533413</td>\n",
              "      <td>-0.189733</td>\n",
              "      <td>0.703337</td>\n",
              "      <td>-0.506271</td>\n",
              "      <td>-0.012546</td>\n",
              "      <td>-0.649617</td>\n",
              "      <td>1.577006</td>\n",
              "      <td>-0.414650</td>\n",
              "      <td>0.486180</td>\n",
              "      <td>...</td>\n",
              "      <td>0.382948</td>\n",
              "      <td>0.261057</td>\n",
              "      <td>0.643078</td>\n",
              "      <td>0.376777</td>\n",
              "      <td>0.008797</td>\n",
              "      <td>-0.473649</td>\n",
              "      <td>-0.818267</td>\n",
              "      <td>-0.002415</td>\n",
              "      <td>0.013649</td>\n",
              "      <td>217.00</td>\n",
              "    </tr>\n",
              "  </tbody>\n",
              "</table>\n",
              "<p>284807 rows × 30 columns</p>\n",
              "</div>\n",
              "      <button class=\"colab-df-convert\" onclick=\"convertToInteractive('df-1254557e-9a62-48c7-b268-6124ea898458')\"\n",
              "              title=\"Convert this dataframe to an interactive table.\"\n",
              "              style=\"display:none;\">\n",
              "        \n",
              "  <svg xmlns=\"http://www.w3.org/2000/svg\" height=\"24px\"viewBox=\"0 0 24 24\"\n",
              "       width=\"24px\">\n",
              "    <path d=\"M0 0h24v24H0V0z\" fill=\"none\"/>\n",
              "    <path d=\"M18.56 5.44l.94 2.06.94-2.06 2.06-.94-2.06-.94-.94-2.06-.94 2.06-2.06.94zm-11 1L8.5 8.5l.94-2.06 2.06-.94-2.06-.94L8.5 2.5l-.94 2.06-2.06.94zm10 10l.94 2.06.94-2.06 2.06-.94-2.06-.94-.94-2.06-.94 2.06-2.06.94z\"/><path d=\"M17.41 7.96l-1.37-1.37c-.4-.4-.92-.59-1.43-.59-.52 0-1.04.2-1.43.59L10.3 9.45l-7.72 7.72c-.78.78-.78 2.05 0 2.83L4 21.41c.39.39.9.59 1.41.59.51 0 1.02-.2 1.41-.59l7.78-7.78 2.81-2.81c.8-.78.8-2.07 0-2.86zM5.41 20L4 18.59l7.72-7.72 1.47 1.35L5.41 20z\"/>\n",
              "  </svg>\n",
              "      </button>\n",
              "      \n",
              "  <style>\n",
              "    .colab-df-container {\n",
              "      display:flex;\n",
              "      flex-wrap:wrap;\n",
              "      gap: 12px;\n",
              "    }\n",
              "\n",
              "    .colab-df-convert {\n",
              "      background-color: #E8F0FE;\n",
              "      border: none;\n",
              "      border-radius: 50%;\n",
              "      cursor: pointer;\n",
              "      display: none;\n",
              "      fill: #1967D2;\n",
              "      height: 32px;\n",
              "      padding: 0 0 0 0;\n",
              "      width: 32px;\n",
              "    }\n",
              "\n",
              "    .colab-df-convert:hover {\n",
              "      background-color: #E2EBFA;\n",
              "      box-shadow: 0px 1px 2px rgba(60, 64, 67, 0.3), 0px 1px 3px 1px rgba(60, 64, 67, 0.15);\n",
              "      fill: #174EA6;\n",
              "    }\n",
              "\n",
              "    [theme=dark] .colab-df-convert {\n",
              "      background-color: #3B4455;\n",
              "      fill: #D2E3FC;\n",
              "    }\n",
              "\n",
              "    [theme=dark] .colab-df-convert:hover {\n",
              "      background-color: #434B5C;\n",
              "      box-shadow: 0px 1px 3px 1px rgba(0, 0, 0, 0.15);\n",
              "      filter: drop-shadow(0px 1px 2px rgba(0, 0, 0, 0.3));\n",
              "      fill: #FFFFFF;\n",
              "    }\n",
              "  </style>\n",
              "\n",
              "      <script>\n",
              "        const buttonEl =\n",
              "          document.querySelector('#df-1254557e-9a62-48c7-b268-6124ea898458 button.colab-df-convert');\n",
              "        buttonEl.style.display =\n",
              "          google.colab.kernel.accessAllowed ? 'block' : 'none';\n",
              "\n",
              "        async function convertToInteractive(key) {\n",
              "          const element = document.querySelector('#df-1254557e-9a62-48c7-b268-6124ea898458');\n",
              "          const dataTable =\n",
              "            await google.colab.kernel.invokeFunction('convertToInteractive',\n",
              "                                                     [key], {});\n",
              "          if (!dataTable) return;\n",
              "\n",
              "          const docLinkHtml = 'Like what you see? Visit the ' +\n",
              "            '<a target=\"_blank\" href=https://colab.research.google.com/notebooks/data_table.ipynb>data table notebook</a>'\n",
              "            + ' to learn more about interactive tables.';\n",
              "          element.innerHTML = '';\n",
              "          dataTable['output_type'] = 'display_data';\n",
              "          await google.colab.output.renderOutput(dataTable, element);\n",
              "          const docLink = document.createElement('div');\n",
              "          docLink.innerHTML = docLinkHtml;\n",
              "          element.appendChild(docLink);\n",
              "        }\n",
              "      </script>\n",
              "    </div>\n",
              "  </div>\n",
              "  "
            ]
          },
          "metadata": {},
          "execution_count": 11
        }
      ],
      "source": [
        "X"
      ],
      "id": "0784575b"
    },
    {
      "cell_type": "code",
      "execution_count": null,
      "metadata": {
        "colab": {
          "base_uri": "https://localhost:8080/"
        },
        "id": "96f25cea",
        "outputId": "134093a3-cd3b-4992-b0e3-94eb8c317242"
      },
      "outputs": [
        {
          "output_type": "execute_result",
          "data": {
            "text/plain": [
              "0         0\n",
              "1         0\n",
              "2         0\n",
              "3         0\n",
              "4         0\n",
              "         ..\n",
              "284802    0\n",
              "284803    0\n",
              "284804    0\n",
              "284805    0\n",
              "284806    0\n",
              "Name: Class, Length: 284807, dtype: int64"
            ]
          },
          "metadata": {},
          "execution_count": 12
        }
      ],
      "source": [
        "y"
      ],
      "id": "96f25cea"
    },
    {
      "cell_type": "code",
      "execution_count": null,
      "metadata": {
        "id": "f7321a48"
      },
      "outputs": [],
      "source": [
        "#First we scale the data\n",
        "from sklearn.preprocessing import StandardScaler\n",
        "scaler = StandardScaler()\n",
        "X = scaler.fit_transform(X)"
      ],
      "id": "f7321a48"
    },
    {
      "cell_type": "code",
      "execution_count": null,
      "metadata": {
        "colab": {
          "base_uri": "https://localhost:8080/"
        },
        "id": "98bd7fba",
        "outputId": "1eebba28-bc41-4955-d948-e0ca05f6464d"
      },
      "outputs": [
        {
          "output_type": "execute_result",
          "data": {
            "text/plain": [
              "array([[-1.99658302, -0.69424232, -0.04407492, ...,  0.33089162,\n",
              "        -0.06378115,  0.24496426],\n",
              "       [-1.99658302,  0.60849633,  0.16117592, ..., -0.02225568,\n",
              "         0.04460752, -0.34247454],\n",
              "       [-1.99656197, -0.69350046, -0.81157783, ..., -0.13713686,\n",
              "        -0.18102083,  1.16068593],\n",
              "       ...,\n",
              "       [ 1.6419735 ,  0.98002374, -0.18243372, ...,  0.01103672,\n",
              "        -0.0804672 , -0.0818393 ],\n",
              "       [ 1.6419735 , -0.12275539,  0.32125034, ...,  0.26960398,\n",
              "         0.31668678, -0.31324853],\n",
              "       [ 1.64205773, -0.27233093, -0.11489898, ..., -0.00598394,\n",
              "         0.04134999,  0.51435531]])"
            ]
          },
          "metadata": {},
          "execution_count": 14
        }
      ],
      "source": [
        "X"
      ],
      "id": "98bd7fba"
    },
    {
      "cell_type": "code",
      "execution_count": null,
      "metadata": {
        "colab": {
          "base_uri": "https://localhost:8080/"
        },
        "id": "9b0ef3f1",
        "outputId": "1f40cfb8-d4e9-4e13-df30-cfe168255d74"
      },
      "outputs": [
        {
          "output_type": "execute_result",
          "data": {
            "text/plain": [
              "0    284315\n",
              "1       492\n",
              "Name: Class, dtype: int64"
            ]
          },
          "metadata": {},
          "execution_count": 15
        }
      ],
      "source": [
        "y.value_counts()"
      ],
      "id": "9b0ef3f1"
    },
    {
      "cell_type": "code",
      "execution_count": null,
      "metadata": {
        "colab": {
          "base_uri": "https://localhost:8080/",
          "height": 265
        },
        "id": "d72f5b7b",
        "outputId": "d80e81f9-3bbf-4c87-adb6-a3f3927c2a42"
      },
      "outputs": [
        {
          "output_type": "execute_result",
          "data": {
            "text/plain": [
              "<matplotlib.axes._subplots.AxesSubplot at 0x7f3ea16cfd90>"
            ]
          },
          "metadata": {},
          "execution_count": 16
        },
        {
          "output_type": "display_data",
          "data": {
            "text/plain": [
              "<Figure size 432x288 with 1 Axes>"
            ],
            "image/png": "[encoded data removed]"
          },
          "metadata": {}
        }
      ],
      "source": [
        "#Plotting the pien chart in order to we could analyze the Fraud and Not Fraud data\n",
        "y.value_counts().plot.pie(autopct='%.2f')"
      ],
      "id": "d72f5b7b"
    },
    {
      "cell_type": "code",
      "execution_count": null,
      "metadata": {
        "colab": {
          "base_uri": "https://localhost:8080/",
          "height": 340
        },
        "id": "10c2392a",
        "outputId": "810ec5d7-21bb-4271-b1c8-d00e8a74c1f0",
        "scrolled": true
      },
      "outputs": [
        {
          "output_type": "stream",
          "name": "stderr",
          "text": [
            "/usr/local/lib/python3.7/dist-packages/seaborn/_decorators.py:43: FutureWarning: Pass the following variable as a keyword arg: x. From version 0.12, the only valid positional argument will be `data`, and passing other arguments without an explicit keyword will result in an error or misinterpretation.\n",
            "  FutureWarning\n"
          ]
        },
        {
          "output_type": "display_data",
          "data": {
            "text/plain": [
              "<Figure size 432x288 with 1 Axes>"
            ],
            "image/png": "[encoded data removed]"
          },
          "metadata": {
            "needs_background": "light"
          }
        }
      ],
      "source": [
        "df = sns.countplot(y)\n",
        "df.set_xticklabels(['Not Fraud','Fraud'])\n",
        "plt.show()"
      ],
      "id": "10c2392a"
    },
    {
      "cell_type": "code",
      "execution_count": null,
      "metadata": {
        "id": "f7d5d36c"
      },
      "outputs": [],
      "source": [],
      "id": "f7d5d36c"
    },
    {
      "cell_type": "code",
      "execution_count": null,
      "metadata": {
        "id": "e6e5962b"
      },
      "outputs": [],
      "source": [
        "#Feature Selection\n",
        "from sklearn.feature_selection import SelectKBest\n",
        "from sklearn.feature_selection import f_regression\n",
        "from matplotlib import pyplot"
      ],
      "id": "e6e5962b"
    },
    {
      "cell_type": "code",
      "execution_count": null,
      "metadata": {
        "colab": {
          "base_uri": "https://localhost:8080/"
        },
        "id": "06c2987c",
        "outputId": "5c7c63ec-e538-4a9c-949f-31a2cfd44297"
      },
      "outputs": [
        {
          "output_type": "stream",
          "name": "stdout",
          "text": [
            "Train shape:  (199364, 30) (199364,)\n",
            "Test shape:  (85443, 30) (85443,)\n"
          ]
        }
      ],
      "source": [
        "#split into train and test\n",
        "from sklearn.model_selection import train_test_split\n",
        "X_train, X_test, y_train, y_test = train_test_split(X,y, test_size=0.3, random_state=1)\n",
        "print(\"Train shape: \", X_train.shape, y_train.shape)\n",
        "print(\"Test shape: \", X_test.shape, y_test.shape)"
      ],
      "id": "06c2987c"
    },
    {
      "cell_type": "code",
      "execution_count": null,
      "metadata": {
        "colab": {
          "base_uri": "https://localhost:8080/"
        },
        "id": "a95700d4",
        "outputId": "555299dc-f5c6-40ac-f5cb-386a2e9bb4ff"
      },
      "outputs": [
        {
          "output_type": "execute_result",
          "data": {
            "text/plain": [
              "SelectKBest(score_func=<function f_regression at 0x7f3ea1134320>)"
            ]
          },
          "metadata": {},
          "execution_count": 20
        }
      ],
      "source": [
        "# f_reg() selecting the top k most relevant features(largest values) via the SelectKBest class\n",
        "fs = SelectKBest(score_func=f_regression, k= 10)  \n",
        "#relationship from training data\n",
        "fs.fit(X_train , y_train)"
      ],
      "id": "a95700d4"
    },
    {
      "cell_type": "code",
      "execution_count": null,
      "metadata": {
        "colab": {
          "base_uri": "https://localhost:8080/"
        },
        "id": "b607bbd0",
        "outputId": "3f101b74-0b95-4852-9f9d-9ff66030a0c2"
      },
      "outputs": [
        {
          "output_type": "stream",
          "name": "stdout",
          "text": [
            "[[-0.65703607 -1.1279211   0.23304608 ... -0.38203184 -0.39699258\n",
            "  -1.00460245]\n",
            " [-0.21028731 -0.3035769   0.65912982 ...  0.5382216   0.89141465\n",
            "   1.85342912]\n",
            " [-1.2478402   0.134889    0.04152005 ...  0.76335874  0.07574269\n",
            "   0.458373  ]\n",
            " ...\n",
            " [ 1.0797106   1.87799607  0.16587638 ... -0.22783551  1.87171585\n",
            "  -0.33972857]\n",
            " [-0.05034264  0.31352872 -0.65276809 ...  0.84415051 -1.09638326\n",
            "   0.43479747]\n",
            " [ 1.74646966  0.75205319  0.13694425 ... -1.29031384  0.57846602\n",
            "  -1.01162121]] [[-0.09876928 -0.15882611  0.23643474 ... -0.32931125 -0.71373351\n",
            "  -1.07465124]\n",
            " [ 0.87677661  0.01926221  0.25992545 ... -0.1181649   0.15176507\n",
            "  -1.15020206]\n",
            " [ 0.63964574 -0.0897346   0.57089722 ...  0.66623264 -0.40513281\n",
            "   0.03377802]\n",
            " ...\n",
            " [ 1.42803129  1.43684681  0.42509959 ...  0.92231348 -1.27944225\n",
            "   0.41588291]\n",
            " [-0.43907239  0.16290245 -0.52534772 ...  0.49396635 -0.900651\n",
            "   0.12408745]\n",
            " [ 0.38401979  0.47932058 -0.26618525 ...  0.2503777  -0.10131883\n",
            "  -0.38450504]] SelectKBest(score_func=<function f_regression at 0x7f3ea1134320>)\n"
          ]
        }
      ],
      "source": [
        "#transform train input data\n",
        "X_train = fs.transform(X_train)\n",
        "#transform test input data\n",
        "X_test = fs.transform(X_test)\n",
        "print(X_train, X_test, fs)"
      ],
      "id": "b607bbd0"
    },
    {
      "cell_type": "code",
      "execution_count": null,
      "metadata": {
        "colab": {
          "base_uri": "https://localhost:8080/"
        },
        "id": "71cb994d",
        "outputId": "6a67d6b3-cb7f-4d33-d235-7c4c8d8f4ae2"
      },
      "outputs": [
        {
          "output_type": "execute_result",
          "data": {
            "text/plain": [
              "((199364, 10), (85443, 10))"
            ]
          },
          "metadata": {},
          "execution_count": 22
        }
      ],
      "source": [
        "X_train.shape, X_test.shape"
      ],
      "id": "71cb994d"
    },
    {
      "cell_type": "markdown",
      "metadata": {
        "id": "a9ae5cf7"
      },
      "source": [
        "##### X_train_fs and y_train_fs are the new variables after feature selection"
      ],
      "id": "a9ae5cf7"
    },
    {
      "cell_type": "code",
      "execution_count": null,
      "metadata": {
        "id": "78e594a7"
      },
      "outputs": [],
      "source": [
        "X_train_fs, y_train_fs = X_train, y_train #"
      ],
      "id": "78e594a7"
    },
    {
      "cell_type": "code",
      "execution_count": null,
      "metadata": {
        "colab": {
          "base_uri": "https://localhost:8080/"
        },
        "id": "06b95eb4",
        "outputId": "0de6d7f7-ac48-4234-f39f-5f7f1103a035"
      },
      "outputs": [
        {
          "output_type": "execute_result",
          "data": {
            "text/plain": [
              "0    199007\n",
              "1       357\n",
              "Name: Class, dtype: int64"
            ]
          },
          "metadata": {},
          "execution_count": 24
        }
      ],
      "source": [
        "y_train_fs.value_counts()"
      ],
      "id": "06b95eb4"
    },
    {
      "cell_type": "code",
      "execution_count": null,
      "metadata": {
        "colab": {
          "base_uri": "https://localhost:8080/"
        },
        "id": "1147a923",
        "outputId": "86e9c27a-e78d-4b79-9173-674033af18e5"
      },
      "outputs": [
        {
          "output_type": "execute_result",
          "data": {
            "text/plain": [
              "0    199007\n",
              "1       357\n",
              "Name: Class, dtype: int64"
            ]
          },
          "metadata": {},
          "execution_count": 25
        }
      ],
      "source": [
        "y_train_fs.value_counts()"
      ],
      "id": "1147a923"
    },
    {
      "cell_type": "code",
      "execution_count": null,
      "metadata": {
        "colab": {
          "base_uri": "https://localhost:8080/"
        },
        "id": "d7a4746a",
        "outputId": "d7e4f30c-bb29-4464-b814-3a6f90fa481d"
      },
      "outputs": [
        {
          "output_type": "execute_result",
          "data": {
            "text/plain": [
              "(199364,)"
            ]
          },
          "metadata": {},
          "execution_count": 26
        }
      ],
      "source": [
        "y_train_fs.shape"
      ],
      "id": "d7a4746a"
    },
    {
      "cell_type": "code",
      "execution_count": null,
      "metadata": {
        "colab": {
          "base_uri": "https://localhost:8080/"
        },
        "id": "b6a3ae39",
        "outputId": "ff1fd098-489d-4520-ebda-9037b6a4bbce"
      },
      "outputs": [
        {
          "output_type": "execute_result",
          "data": {
            "text/plain": [
              "(199364, 10)"
            ]
          },
          "metadata": {},
          "execution_count": 27
        }
      ],
      "source": [
        "X_train_fs.shape"
      ],
      "id": "b6a3ae39"
    },
    {
      "cell_type": "code",
      "execution_count": null,
      "metadata": {
        "id": "c034d526"
      },
      "outputs": [],
      "source": [],
      "id": "c034d526"
    },
    {
      "cell_type": "code",
      "execution_count": null,
      "metadata": {
        "colab": {
          "base_uri": "https://localhost:8080/"
        },
        "id": "9d04aa78",
        "outputId": "81ec6378-de52-4970-b9ef-c170429d1a81"
      },
      "outputs": [
        {
          "output_type": "execute_result",
          "data": {
            "text/plain": [
              "((199364, 10), (85443, 10))"
            ]
          },
          "metadata": {},
          "execution_count": 28
        }
      ],
      "source": [
        "X_train_fs.shape, X_test.shape"
      ],
      "id": "9d04aa78"
    },
    {
      "cell_type": "code",
      "execution_count": null,
      "metadata": {
        "colab": {
          "base_uri": "https://localhost:8080/"
        },
        "id": "30532a44",
        "outputId": "bbf5357e-20bc-4662-9826-57ccb664f3d7"
      },
      "outputs": [
        {
          "output_type": "execute_result",
          "data": {
            "text/plain": [
              "(85443,)"
            ]
          },
          "metadata": {},
          "execution_count": 29
        }
      ],
      "source": [
        "y_test.shape"
      ],
      "id": "30532a44"
    },
    {
      "cell_type": "markdown",
      "metadata": {
        "id": "35a49bbd"
      },
      "source": [
        "## Accuracy without Sampling"
      ],
      "id": "35a49bbd"
    },
    {
      "cell_type": "code",
      "execution_count": null,
      "metadata": {
        "id": "a006a9f5"
      },
      "outputs": [],
      "source": [],
      "id": "a006a9f5"
    },
    {
      "cell_type": "code",
      "execution_count": null,
      "metadata": {
        "colab": {
          "base_uri": "https://localhost:8080/"
        },
        "id": "9f0b9d2b",
        "outputId": "634ec632-5a18-47b4-aff7-fcfd9e162a2c"
      },
      "outputs": [
        {
          "output_type": "stream",
          "name": "stdout",
          "text": [
            "Train shape:  (199364, 10) (199364,)\n",
            "Test shape:  (85443, 10) (85443,)\n"
          ]
        }
      ],
      "source": [
        "#X_train, X_test, y_train, y_test = train_test_split(X_train,y_train, test_size=.3, random_state=2)\n",
        "print(\"Train shape: \", X_train_fs.shape, y_train_fs.shape)\n",
        "print(\"Test shape: \", X_test.shape, y_test.shape)"
      ],
      "id": "9f0b9d2b"
    },
    {
      "cell_type": "code",
      "execution_count": null,
      "metadata": {
        "id": "c9b01bea"
      },
      "outputs": [],
      "source": [
        "from sklearn.metrics import confusion_matrix, classification_report, accuracy_score,f1_score,recall_score,precision_score, log_loss"
      ],
      "id": "c9b01bea"
    },
    {
      "cell_type": "code",
      "execution_count": null,
      "metadata": {
        "id": "ca31e550"
      },
      "outputs": [],
      "source": [
        "def models(X_train,y_train):\n",
        "    #Logistic Regression\n",
        "    from sklearn.linear_model import LogisticRegression\n",
        "    log = LogisticRegression(random_state=0)\n",
        "    log.fit(X_train_fs, y_train_fs)\n",
        "    \n",
        "    #Decision Tree\n",
        "    from sklearn.tree import DecisionTreeClassifier\n",
        "    tree = DecisionTreeClassifier(random_state=0, criterion=\"entropy\")\n",
        "    tree.fit(X_train_fs, y_train_fs)\n",
        "    \n",
        "    #Random Forest\n",
        "    from sklearn.ensemble import RandomForestClassifier\n",
        "    forest = RandomForestClassifier(random_state=0, criterion=\"entropy\", n_estimators=10)\n",
        "    forest.fit(X_train_fs, y_train_fs)\n",
        "    \n",
        "    #KNN\n",
        "    from sklearn.neighbors import KNeighborsClassifier\n",
        "    knn = KNeighborsClassifier(n_neighbors=3)\n",
        "    knn.fit(X_train_fs, y_train_fs)\n",
        "    \n",
        "    #Naive Bayes\n",
        "    from sklearn.naive_bayes import GaussianNB\n",
        "    gnb = GaussianNB()\n",
        "    gnb.fit(X_train_fs, y_train_fs)\n",
        "    \n",
        "    #SVC\n",
        "    from sklearn.svm import SVC\n",
        "    svc = SVC(gamma='auto')\n",
        "    svc.fit(X_train_fs, y_train_fs)\n",
        "    \n",
        "    print('[0]LR Accuracy: ', log.score(X_train,y_train))\n",
        "    print('[1]DT Accuracy: ', tree.score(X_train,y_train))\n",
        "    print('[2]RF Accuracy: ', forest.score(X_train,y_train))\n",
        "    print('[3]KNN Accuracy: ', knn.score(X_train,y_train))\n",
        "    print('[4]NB Accuracy: ', gnb.score(X_train,y_train))\n",
        "    print('[5]SVC Accuracy: ', svc.score(X_train,y_train))\n",
        "    \n",
        "    return log,tree,forest,knn,gnb,svc\n",
        "    \n",
        "    "
      ],
      "id": "ca31e550"
    },
    {
      "cell_type": "code",
      "execution_count": null,
      "metadata": {
        "colab": {
          "base_uri": "https://localhost:8080/"
        },
        "id": "43c8e9e5",
        "outputId": "f95489a3-a277-40f8-ed9b-0330ec35d1b0"
      },
      "outputs": [
        {
          "output_type": "stream",
          "name": "stdout",
          "text": [
            "[0]LR Accuracy:  0.9992175116871652\n",
            "[1]DT Accuracy:  1.0\n",
            "[2]RF Accuracy:  0.9999197447884272\n",
            "[3]KNN Accuracy:  0.9996438674986456\n",
            "[4]NB Accuracy:  0.9912622138400112\n",
            "[5]SVC Accuracy:  0.9996639313015389\n"
          ]
        }
      ],
      "source": [
        "model = models(X_train,y_train)"
      ],
      "id": "43c8e9e5"
    },
    {
      "cell_type": "code",
      "execution_count": null,
      "metadata": {
        "id": "0847df90",
        "outputId": "7d63b241-0ab7-43d6-9d41-a21458cd17b2",
        "scrolled": false,
        "colab": {
          "base_uri": "https://localhost:8080/"
        }
      },
      "outputs": [
        {
          "output_type": "stream",
          "name": "stdout",
          "text": [
            "\n",
            "Model 0\n",
            "\n",
            "Confu. Matrix:\n",
            " [[85294    14]\n",
            " [   58    77]]\n",
            "\n",
            "Acc. Score:  0.9991573329588147\n",
            "\n",
            "Class. Report: \n",
            "               precision    recall  f1-score   support\n",
            "\n",
            "           0       1.00      1.00      1.00     85308\n",
            "           1       0.85      0.57      0.68       135\n",
            "\n",
            "    accuracy                           1.00     85443\n",
            "   macro avg       0.92      0.79      0.84     85443\n",
            "weighted avg       1.00      1.00      1.00     85443\n",
            "\n",
            "\n",
            "Precision score:  0.8461538461538461\n",
            "Recall score: 0.5703703703703704\n",
            "f1_score:  0.6814159292035398\n",
            "log_loss:  0.029104819526440746\n",
            "\n",
            "Model 1\n",
            "\n",
            "Confu. Matrix:\n",
            " [[85270    38]\n",
            " [   33   102]]\n",
            "\n",
            "Acc. Score:  0.99916903666772\n",
            "\n",
            "Class. Report: \n",
            "               precision    recall  f1-score   support\n",
            "\n",
            "           0       1.00      1.00      1.00     85308\n",
            "           1       0.73      0.76      0.74       135\n",
            "\n",
            "    accuracy                           1.00     85443\n",
            "   macro avg       0.86      0.88      0.87     85443\n",
            "weighted avg       1.00      1.00      1.00     85443\n",
            "\n",
            "\n",
            "Precision score:  0.7285714285714285\n",
            "Recall score: 0.7555555555555555\n",
            "f1_score:  0.7418181818181817\n",
            "log_loss:  0.028700812339701207\n",
            "\n",
            "Model 2\n",
            "\n",
            "Confu. Matrix:\n",
            " [[85296    12]\n",
            " [   31   104]]\n",
            "\n",
            "Acc. Score:  0.9994967405170698\n",
            "\n",
            "Class. Report: \n",
            "               precision    recall  f1-score   support\n",
            "\n",
            "           0       1.00      1.00      1.00     85308\n",
            "           1       0.90      0.77      0.83       135\n",
            "\n",
            "    accuracy                           1.00     85443\n",
            "   macro avg       0.95      0.89      0.91     85443\n",
            "weighted avg       1.00      1.00      1.00     85443\n",
            "\n",
            "\n",
            "Precision score:  0.896551724137931\n",
            "Recall score: 0.7703703703703704\n",
            "f1_score:  0.8286852589641435\n",
            "log_loss:  0.017382079048610267\n",
            "\n",
            "Model 3\n",
            "\n",
            "Confu. Matrix:\n",
            " [[85299     9]\n",
            " [   29   106]]\n",
            "\n",
            "Acc. Score:  0.9995552590615966\n",
            "\n",
            "Class. Report: \n",
            "               precision    recall  f1-score   support\n",
            "\n",
            "           0       1.00      1.00      1.00     85308\n",
            "           1       0.92      0.79      0.85       135\n",
            "\n",
            "    accuracy                           1.00     85443\n",
            "   macro avg       0.96      0.89      0.92     85443\n",
            "weighted avg       1.00      1.00      1.00     85443\n",
            "\n",
            "\n",
            "Precision score:  0.9217391304347826\n",
            "Recall score: 0.7851851851851852\n",
            "f1_score:  0.8480000000000001\n",
            "log_loss:  0.015360892049478164\n",
            "\n",
            "Model 4\n",
            "\n",
            "Confu. Matrix:\n",
            " [[84538   770]\n",
            " [   25   110]]\n",
            "\n",
            "Acc. Score:  0.9906955514202451\n",
            "\n",
            "Class. Report: \n",
            "               precision    recall  f1-score   support\n",
            "\n",
            "           0       1.00      0.99      1.00     85308\n",
            "           1       0.12      0.81      0.22       135\n",
            "\n",
            "    accuracy                           0.99     85443\n",
            "   macro avg       0.56      0.90      0.61     85443\n",
            "weighted avg       1.00      0.99      0.99     85443\n",
            "\n",
            "\n",
            "Precision score:  0.125\n",
            "Recall score: 0.8148148148148148\n",
            "f1_score:  0.2167487684729064\n",
            "log_loss:  0.32137147483088524\n",
            "\n",
            "Model 5\n",
            "\n",
            "Confu. Matrix:\n",
            " [[85302     6]\n",
            " [   44    91]]\n",
            "\n",
            "Acc. Score:  0.9994148145547324\n",
            "\n",
            "Class. Report: \n",
            "               precision    recall  f1-score   support\n",
            "\n",
            "           0       1.00      1.00      1.00     85308\n",
            "           1       0.94      0.67      0.78       135\n",
            "\n",
            "    accuracy                           1.00     85443\n",
            "   macro avg       0.97      0.84      0.89     85443\n",
            "weighted avg       1.00      1.00      1.00     85443\n",
            "\n",
            "\n",
            "Precision score:  0.9381443298969072\n",
            "Recall score: 0.674074074074074\n",
            "f1_score:  0.7844827586206897\n",
            "log_loss:  0.020211645393188447\n"
          ]
        }
      ],
      "source": [
        "#Testing the Results\n",
        "for i in range(len(model)):\n",
        "    print(\"\\nModel\",i)\n",
        "    print('\\nConfu. Matrix:\\n',confusion_matrix(y_test, model[i].predict(X_test)))\n",
        "    print('\\nAcc. Score: ',accuracy_score(y_test, model[i].predict(X_test)))\n",
        "    print('\\nClass. Report: \\n',classification_report(y_test, model[i].predict(X_test)))\n",
        "    print('\\nPrecision score: ', precision_score(y_test, model[i].predict(X_test)))\n",
        "    print('Recall score:',recall_score(y_test, model[i].predict(X_test)))\n",
        "    print('f1_score: ',f1_score(y_test,model[i].predict(X_test)))\n",
        "    print('log_loss: ',log_loss(y_test,model[i].predict(X_test)))"
      ],
      "id": "0847df90"
    },
    {
      "cell_type": "code",
      "execution_count": null,
      "metadata": {
        "id": "42a80a7c"
      },
      "outputs": [],
      "source": [],
      "id": "42a80a7c"
    },
    {
      "cell_type": "markdown",
      "source": [
        "**Lasso Logistic Regression(L1 Regularization)**"
      ],
      "metadata": {
        "id": "iEUTkRP10X7L"
      },
      "id": "iEUTkRP10X7L"
    },
    {
      "cell_type": "code",
      "execution_count": null,
      "metadata": {
        "id": "33b5d76c"
      },
      "outputs": [],
      "source": [
        "X_train, X_test, y_train, y_test = train_test_split(X_train_fs,y_train_fs, test_size=0.3, random_state=1)\n",
        "from sklearn.linear_model import LogisticRegression\n",
        "lrl1 = LogisticRegression(penalty = 'l1', solver = 'saga')"
      ],
      "id": "33b5d76c"
    },
    {
      "cell_type": "code",
      "source": [
        "lrl1.fit(X_train, y_train)"
      ],
      "metadata": {
        "colab": {
          "base_uri": "https://localhost:8080/"
        },
        "id": "ID3HTKA40pIy",
        "outputId": "b0ae5054-2d10-4efa-da40-4e5384d1582e"
      },
      "id": "ID3HTKA40pIy",
      "execution_count": null,
      "outputs": [
        {
          "output_type": "stream",
          "name": "stderr",
          "text": [
            "/usr/local/lib/python3.7/dist-packages/sklearn/linear_model/_sag.py:354: ConvergenceWarning: The max_iter was reached which means the coef_ did not converge\n",
            "  ConvergenceWarning,\n"
          ]
        },
        {
          "output_type": "execute_result",
          "data": {
            "text/plain": [
              "LogisticRegression(penalty='l1', solver='saga')"
            ]
          },
          "metadata": {},
          "execution_count": 57
        }
      ]
    },
    {
      "cell_type": "code",
      "source": [
        "print('[0]LR Accuracy: ', lrl1.score(X_train,y_train))"
      ],
      "metadata": {
        "colab": {
          "base_uri": "https://localhost:8080/"
        },
        "id": "1Cjeu3Lb1f97",
        "outputId": "3b1ea000-ab7b-42f2-c7d4-3a8a34895782"
      },
      "id": "1Cjeu3Lb1f97",
      "execution_count": null,
      "outputs": [
        {
          "output_type": "stream",
          "name": "stdout",
          "text": [
            "[0]LR Accuracy:  0.9992117746535392\n"
          ]
        }
      ]
    },
    {
      "cell_type": "code",
      "source": [
        "print('\\nConfu. Matrix:\\n',confusion_matrix(y_test, lrl1.predict(X_test)))\n",
        "print('\\nAcc. Score: ',accuracy_score(y_test, lrl1.predict(X_test)))\n",
        "print('\\nClass. Report: \\n',classification_report(y_test, lrl1.predict(X_test)))\n",
        "print('\\nPrecision score: ', precision_score(y_test, lrl1.predict(X_test)))\n",
        "print('Recall score:',recall_score(y_test, lrl1.predict(X_test)))\n",
        "print('f1_score: ',f1_score(y_test,lrl1.predict(X_test)))\n",
        "print('log_loss: ',log_loss(y_test,lrl1.predict(X_test)))"
      ],
      "metadata": {
        "colab": {
          "base_uri": "https://localhost:8080/"
        },
        "id": "Rjt_AuhV1gAa",
        "outputId": "5deab755-fb18-4ffa-dcaa-ddc1c5ed36e9"
      },
      "id": "Rjt_AuhV1gAa",
      "execution_count": null,
      "outputs": [
        {
          "output_type": "stream",
          "name": "stdout",
          "text": [
            "\n",
            "Confu. Matrix:\n",
            " [[59692    13]\n",
            " [   43    62]]\n",
            "\n",
            "Acc. Score:  0.99906370172212\n",
            "\n",
            "Class. Report: \n",
            "               precision    recall  f1-score   support\n",
            "\n",
            "           0       1.00      1.00      1.00     59705\n",
            "           1       0.83      0.59      0.69       105\n",
            "\n",
            "    accuracy                           1.00     59810\n",
            "   macro avg       0.91      0.80      0.84     59810\n",
            "weighted avg       1.00      1.00      1.00     59810\n",
            "\n",
            "\n",
            "Precision score:  0.8266666666666667\n",
            "Recall score: 0.5904761904761905\n",
            "f1_score:  0.6888888888888889\n",
            "log_loss:  0.03233877065510199\n"
          ]
        }
      ]
    },
    {
      "cell_type": "code",
      "source": [],
      "metadata": {
        "id": "BzIs_ytV0pTZ"
      },
      "id": "BzIs_ytV0pTZ",
      "execution_count": null,
      "outputs": []
    },
    {
      "cell_type": "markdown",
      "metadata": {
        "id": "d4b9c483"
      },
      "source": [
        "# Sampling"
      ],
      "id": "d4b9c483"
    },
    {
      "cell_type": "code",
      "execution_count": null,
      "metadata": {
        "id": "8e3d50ef",
        "outputId": "d8c2c666-d7cc-4196-cb28-e5fa278397b6",
        "colab": {
          "base_uri": "https://localhost:8080/"
        }
      },
      "outputs": [
        {
          "output_type": "execute_result",
          "data": {
            "text/plain": [
              "Counter({0: 199007, 1: 357})"
            ]
          },
          "metadata": {},
          "execution_count": 40
        }
      ],
      "source": [
        "from collections import Counter\n",
        "Counter(y_train_fs)"
      ],
      "id": "8e3d50ef"
    },
    {
      "cell_type": "markdown",
      "metadata": {
        "id": "395da7e5"
      },
      "source": [
        "### Under_Sampling"
      ],
      "id": "395da7e5"
    },
    {
      "cell_type": "markdown",
      "metadata": {
        "id": "43b4dd59"
      },
      "source": [
        "##### RnadomUnderSampler, NearMiss, ENN, ClusterCentroid"
      ],
      "id": "43b4dd59"
    },
    {
      "cell_type": "markdown",
      "metadata": {
        "id": "8e691e81"
      },
      "source": [
        "###### i) RnadomUnderSampler"
      ],
      "id": "8e691e81"
    },
    {
      "cell_type": "code",
      "execution_count": null,
      "metadata": {
        "id": "77fa5955",
        "outputId": "8cc5aed1-3f63-45c6-f3d4-72f70f6b822f",
        "colab": {
          "base_uri": "https://localhost:8080/",
          "height": 264
        }
      },
      "outputs": [
        {
          "output_type": "display_data",
          "data": {
            "text/plain": [
              "<Figure size 432x288 with 1 Axes>"
            ],
            "image/png": "[encoded data removed]"
          },
          "metadata": {}
        }
      ],
      "source": [
        "from imblearn.under_sampling import RandomUnderSampler\n",
        "rus = RandomUnderSampler(sampling_strategy='auto') # float\n",
        "X_rus, y_rus = rus.fit_resample(X_train_fs,y_train_fs)\n",
        "ax = y_rus.value_counts().plot.pie(autopct='%.2f')\n",
        "_ = ax.set_title(\"Under-Sampling\")"
      ],
      "id": "77fa5955"
    },
    {
      "cell_type": "code",
      "execution_count": null,
      "metadata": {
        "id": "f8bcf3b6",
        "outputId": "5f7cc4e4-8461-4ddb-b3bc-c4b321611562",
        "colab": {
          "base_uri": "https://localhost:8080/"
        }
      },
      "outputs": [
        {
          "output_type": "execute_result",
          "data": {
            "text/plain": [
              "0    357\n",
              "1    357\n",
              "Name: Class, dtype: int64"
            ]
          },
          "metadata": {},
          "execution_count": 42
        }
      ],
      "source": [
        "y_rus.value_counts()"
      ],
      "id": "f8bcf3b6"
    },
    {
      "cell_type": "code",
      "execution_count": null,
      "metadata": {
        "id": "ed359e5b",
        "outputId": "a0f8346c-a2b9-4365-8ce1-38b08e9abf26",
        "colab": {
          "base_uri": "https://localhost:8080/"
        }
      },
      "outputs": [
        {
          "output_type": "stream",
          "name": "stdout",
          "text": [
            "Counter({0: 357, 1: 357})\n"
          ]
        }
      ],
      "source": [
        "print(Counter(y_rus))"
      ],
      "id": "ed359e5b"
    },
    {
      "cell_type": "code",
      "source": [
        "X_train, X_test, y_train, y_test = train_test_split(X_rus, y_rus, test_size=0.30, random_state=1)"
      ],
      "metadata": {
        "id": "NFdGy-8Y5k3K"
      },
      "id": "NFdGy-8Y5k3K",
      "execution_count": null,
      "outputs": []
    },
    {
      "cell_type": "code",
      "source": [
        "from sklearn.linear_model import LogisticRegression\n",
        "lrl1 = LogisticRegression(penalty = 'l1', solver = 'saga')"
      ],
      "metadata": {
        "id": "07GjVCiP5k7s"
      },
      "id": "07GjVCiP5k7s",
      "execution_count": null,
      "outputs": []
    },
    {
      "cell_type": "code",
      "source": [
        "lrl1.fit(X_train, y_train)\n",
        "print('[0]LR Accuracy: ', lrl1.score(X_train,y_train))"
      ],
      "metadata": {
        "colab": {
          "base_uri": "https://localhost:8080/"
        },
        "id": "LgTrd9Dg5lAX",
        "outputId": "27421cc4-7dc8-4753-e65d-1cb214fb969c"
      },
      "id": "LgTrd9Dg5lAX",
      "execution_count": null,
      "outputs": [
        {
          "output_type": "stream",
          "name": "stdout",
          "text": [
            "[0]LR Accuracy:  0.9519038076152304\n"
          ]
        },
        {
          "output_type": "stream",
          "name": "stderr",
          "text": [
            "/usr/local/lib/python3.7/dist-packages/sklearn/linear_model/_sag.py:354: ConvergenceWarning: The max_iter was reached which means the coef_ did not converge\n",
            "  ConvergenceWarning,\n"
          ]
        }
      ]
    },
    {
      "cell_type": "code",
      "source": [
        "print('\\nConfu. Matrix:\\n',confusion_matrix(y_test, lrl1.predict(X_test)))\n",
        "print('\\nAcc. Score: ',accuracy_score(y_test, lrl1.predict(X_test)))\n",
        "print('\\nClass. Report: \\n',classification_report(y_test, lrl1.predict(X_test)))\n",
        "print('\\nPrecision score: ', precision_score(y_test, lrl1.predict(X_test)))\n",
        "print('Recall score:',recall_score(y_test, lrl1.predict(X_test)))\n",
        "print('f1_score: ',f1_score(y_test,lrl1.predict(X_test)))\n",
        "print('log_loss: ',log_loss(y_test,lrl1.predict(X_test)))"
      ],
      "metadata": {
        "colab": {
          "base_uri": "https://localhost:8080/"
        },
        "id": "H5KXSMrf5lE9",
        "outputId": "b9419098-6275-4594-89a1-78fe610d3697"
      },
      "id": "H5KXSMrf5lE9",
      "execution_count": null,
      "outputs": [
        {
          "output_type": "stream",
          "name": "stdout",
          "text": [
            "\n",
            "Confu. Matrix:\n",
            " [[ 99   0]\n",
            " [ 16 100]]\n",
            "\n",
            "Acc. Score:  0.9255813953488372\n",
            "\n",
            "Class. Report: \n",
            "               precision    recall  f1-score   support\n",
            "\n",
            "           0       0.86      1.00      0.93        99\n",
            "           1       1.00      0.86      0.93       116\n",
            "\n",
            "    accuracy                           0.93       215\n",
            "   macro avg       0.93      0.93      0.93       215\n",
            "weighted avg       0.94      0.93      0.93       215\n",
            "\n",
            "\n",
            "Precision score:  1.0\n",
            "Recall score: 0.8620689655172413\n",
            "f1_score:  0.9259259259259259\n",
            "log_loss:  2.5703275456677726\n"
          ]
        }
      ]
    },
    {
      "cell_type": "code",
      "source": [],
      "metadata": {
        "id": "BbxaCUSM55ka"
      },
      "id": "BbxaCUSM55ka",
      "execution_count": null,
      "outputs": []
    },
    {
      "cell_type": "code",
      "source": [],
      "metadata": {
        "id": "SvcJXOY555sM"
      },
      "id": "SvcJXOY555sM",
      "execution_count": null,
      "outputs": []
    },
    {
      "cell_type": "code",
      "source": [],
      "metadata": {
        "id": "E4SDSp9x55xQ"
      },
      "id": "E4SDSp9x55xQ",
      "execution_count": null,
      "outputs": []
    },
    {
      "cell_type": "code",
      "execution_count": null,
      "metadata": {
        "id": "6535b426"
      },
      "outputs": [],
      "source": [
        "X_train, X_test, y_train, y_test = train_test_split(X_rus, y_rus, test_size=0.3, random_state=1)\n",
        "# print(\"Train shape: \", X_train.shape, y_train.shape)\n",
        "# print(\"Test shape: \", X_test.shape, y_test.shape)"
      ],
      "id": "6535b426"
    },
    {
      "cell_type": "code",
      "execution_count": null,
      "metadata": {
        "id": "7ec847ba"
      },
      "outputs": [],
      "source": [
        "def models(X_train,y_train):\n",
        "    #Logistic Regression\n",
        "    from sklearn.linear_model import LogisticRegression\n",
        "    log = LogisticRegression(random_state=0)\n",
        "    log.fit(X_train, y_train)\n",
        "    \n",
        "    #Decision Tree\n",
        "    from sklearn.tree import DecisionTreeClassifier\n",
        "    tree = DecisionTreeClassifier(random_state=0, criterion=\"entropy\")\n",
        "    tree.fit(X_train, y_train)\n",
        "    \n",
        "    #Random Forest\n",
        "    from sklearn.ensemble import RandomForestClassifier\n",
        "    forest = RandomForestClassifier(random_state=0, criterion=\"entropy\", n_estimators=10)\n",
        "    forest.fit(X_train, y_train)\n",
        "    \n",
        "    #KNN\n",
        "    from sklearn.neighbors import KNeighborsClassifier\n",
        "    knn = KNeighborsClassifier(n_neighbors=3)\n",
        "    knn.fit(X_train,y_train)\n",
        "    \n",
        "    #Naive Bayes\n",
        "    from sklearn.naive_bayes import GaussianNB\n",
        "    gnb = GaussianNB()\n",
        "    gnb.fit(X_train, y_train)\n",
        "    \n",
        "    #SVC\n",
        "    from sklearn.svm import SVC\n",
        "    svc = SVC(gamma='auto')\n",
        "    svc.fit(X_train, y_train)\n",
        "    \n",
        "    print('[0]LR Accuracy: ', log.score(X_train, y_train))\n",
        "    print('[1]DT Accuracy: ', tree.score(X_train, y_train))\n",
        "    print('[2]RF Accuracy: ', forest.score(X_train, y_train))\n",
        "    print('[3]KNN Accuracy: ', knn.score(X_train, y_train))\n",
        "    print('[4]NB Accuracy: ', gnb.score(X_train, y_train))\n",
        "    print('[5]SVC Accuracy: ', svc.score(X_train, y_train))\n",
        "    \n",
        "    return log,tree,forest,knn,gnb,svc\n"
      ],
      "id": "7ec847ba"
    },
    {
      "cell_type": "code",
      "execution_count": null,
      "metadata": {
        "id": "d3f601d4",
        "outputId": "b5d853a3-546d-40e9-c64c-0447c0347dc7",
        "colab": {
          "base_uri": "https://localhost:8080/"
        }
      },
      "outputs": [
        {
          "output_type": "stream",
          "name": "stdout",
          "text": [
            "[0]LR Accuracy:  0.9539078156312625\n",
            "[1]DT Accuracy:  1.0\n",
            "[2]RF Accuracy:  0.9879759519038076\n",
            "[3]KNN Accuracy:  0.9599198396793587\n",
            "[4]NB Accuracy:  0.9458917835671342\n",
            "[5]SVC Accuracy:  0.969939879759519\n"
          ]
        }
      ],
      "source": [
        "model = models(X_train,y_train)"
      ],
      "id": "d3f601d4"
    },
    {
      "cell_type": "code",
      "execution_count": null,
      "metadata": {
        "id": "77a2edbf",
        "outputId": "b8ad42a1-2473-4f8f-f7d9-f855812dc431",
        "scrolled": false,
        "colab": {
          "base_uri": "https://localhost:8080/"
        }
      },
      "outputs": [
        {
          "output_type": "stream",
          "name": "stdout",
          "text": [
            "\n",
            "Model 0\n",
            "\n",
            "Confu. Matrix:\n",
            " [[ 98   1]\n",
            " [ 15 101]]\n",
            "\n",
            "Acc. Score:  0.9255813953488372\n",
            "\n",
            "Class. Report: \n",
            "               precision    recall  f1-score   support\n",
            "\n",
            "           0       0.87      0.99      0.92        99\n",
            "           1       0.99      0.87      0.93       116\n",
            "\n",
            "    accuracy                           0.93       215\n",
            "   macro avg       0.93      0.93      0.93       215\n",
            "weighted avg       0.93      0.93      0.93       215\n",
            "\n",
            "\n",
            "Precision score:  0.9901960784313726\n",
            "Recall score: 0.8706896551724138\n",
            "f1_score:  0.9266055045871561\n",
            "log_loss:  2.570331264725587\n",
            "\n",
            "Model 1\n",
            "\n",
            "Confu. Matrix:\n",
            " [[ 91   8]\n",
            " [  9 107]]\n",
            "\n",
            "Acc. Score:  0.9209302325581395\n",
            "\n",
            "Class. Report: \n",
            "               precision    recall  f1-score   support\n",
            "\n",
            "           0       0.91      0.92      0.91        99\n",
            "           1       0.93      0.92      0.93       116\n",
            "\n",
            "    accuracy                           0.92       215\n",
            "   macro avg       0.92      0.92      0.92       215\n",
            "weighted avg       0.92      0.92      0.92       215\n",
            "\n",
            "\n",
            "Precision score:  0.9304347826086956\n",
            "Recall score: 0.9224137931034483\n",
            "f1_score:  0.9264069264069263\n",
            "log_loss:  2.731002769734527\n",
            "\n",
            "Model 2\n",
            "\n",
            "Confu. Matrix:\n",
            " [[99  0]\n",
            " [17 99]]\n",
            "\n",
            "Acc. Score:  0.9209302325581395\n",
            "\n",
            "Class. Report: \n",
            "               precision    recall  f1-score   support\n",
            "\n",
            "           0       0.85      1.00      0.92        99\n",
            "           1       1.00      0.85      0.92       116\n",
            "\n",
            "    accuracy                           0.92       215\n",
            "   macro avg       0.93      0.93      0.92       215\n",
            "weighted avg       0.93      0.92      0.92       215\n",
            "\n",
            "\n",
            "Precision score:  1.0\n",
            "Recall score: 0.853448275862069\n",
            "f1_score:  0.9209302325581395\n",
            "log_loss:  2.7309730172720084\n",
            "\n",
            "Model 3\n",
            "\n",
            "Confu. Matrix:\n",
            " [[ 96   3]\n",
            " [ 16 100]]\n",
            "\n",
            "Acc. Score:  0.9116279069767442\n",
            "\n",
            "Class. Report: \n",
            "               precision    recall  f1-score   support\n",
            "\n",
            "           0       0.86      0.97      0.91        99\n",
            "           1       0.97      0.86      0.91       116\n",
            "\n",
            "    accuracy                           0.91       215\n",
            "   macro avg       0.91      0.92      0.91       215\n",
            "weighted avg       0.92      0.91      0.91       215\n",
            "\n",
            "\n",
            "Precision score:  0.970873786407767\n",
            "Recall score: 0.8620689655172413\n",
            "f1_score:  0.91324200913242\n",
            "log_loss:  3.0522751176539242\n",
            "\n",
            "Model 4\n",
            "\n",
            "Confu. Matrix:\n",
            " [[99  0]\n",
            " [21 95]]\n",
            "\n",
            "Acc. Score:  0.9023255813953488\n",
            "\n",
            "Class. Report: \n",
            "               precision    recall  f1-score   support\n",
            "\n",
            "           0       0.82      1.00      0.90        99\n",
            "           1       1.00      0.82      0.90       116\n",
            "\n",
            "    accuracy                           0.90       215\n",
            "   macro avg       0.91      0.91      0.90       215\n",
            "weighted avg       0.92      0.90      0.90       215\n",
            "\n",
            "\n",
            "Precision score:  1.0\n",
            "Recall score: 0.8189655172413793\n",
            "f1_score:  0.9004739336492891\n",
            "log_loss:  3.3735549036889507\n",
            "\n",
            "Model 5\n",
            "\n",
            "Confu. Matrix:\n",
            " [[ 98   1]\n",
            " [ 12 104]]\n",
            "\n",
            "Acc. Score:  0.9395348837209302\n",
            "\n",
            "Class. Report: \n",
            "               precision    recall  f1-score   support\n",
            "\n",
            "           0       0.89      0.99      0.94        99\n",
            "           1       0.99      0.90      0.94       116\n",
            "\n",
            "    accuracy                           0.94       215\n",
            "   macro avg       0.94      0.94      0.94       215\n",
            "weighted avg       0.94      0.94      0.94       215\n",
            "\n",
            "\n",
            "Precision score:  0.9904761904761905\n",
            "Recall score: 0.896551724137931\n",
            "f1_score:  0.9411764705882353\n",
            "log_loss:  2.08839484991288\n"
          ]
        }
      ],
      "source": [
        "#Testing the Results\n",
        "for i in range(len(model)):\n",
        "    print(\"\\nModel\",i)\n",
        "    print('\\nConfu. Matrix:\\n',confusion_matrix(y_test, model[i].predict(X_test)))\n",
        "    print('\\nAcc. Score: ',accuracy_score(y_test, model[i].predict(X_test)))\n",
        "    print('\\nClass. Report: \\n',classification_report(y_test, model[i].predict(X_test)))\n",
        "    print('\\nPrecision score: ', precision_score(y_test, model[i].predict(X_test)))\n",
        "    print('Recall score:',recall_score(y_test, model[i].predict(X_test)))\n",
        "    print('f1_score: ',f1_score(y_test,model[i].predict(X_test)))\n",
        "    print('log_loss: ',log_loss(y_test,model[i].predict(X_test)))"
      ],
      "id": "77a2edbf"
    },
    {
      "cell_type": "code",
      "execution_count": null,
      "metadata": {
        "id": "e63260f5"
      },
      "outputs": [],
      "source": [],
      "id": "e63260f5"
    },
    {
      "cell_type": "code",
      "execution_count": null,
      "metadata": {
        "id": "c3e0b80b"
      },
      "outputs": [],
      "source": [],
      "id": "c3e0b80b"
    },
    {
      "cell_type": "markdown",
      "metadata": {
        "id": "0624cdb8"
      },
      "source": [
        "###### ii) NearMiss"
      ],
      "id": "0624cdb8"
    },
    {
      "cell_type": "code",
      "execution_count": null,
      "metadata": {
        "id": "a79d6921",
        "outputId": "041757a1-407d-41a0-cbac-adfb44a96bea",
        "colab": {
          "base_uri": "https://localhost:8080/",
          "height": 264
        }
      },
      "outputs": [
        {
          "output_type": "display_data",
          "data": {
            "text/plain": [
              "<Figure size 432x288 with 1 Axes>"
            ],
            "image/png": "[encoded data removed]"
          },
          "metadata": {}
        }
      ],
      "source": [
        "from imblearn.under_sampling import NearMiss\n",
        "nmiss = NearMiss(sampling_strategy='auto')\n",
        "# rus = NearMiss(0.9)\n",
        "X_nmiss,y_nmiss = nmiss.fit_resample(X_train_fs, y_train_fs)\n",
        "ax = y_nmiss.value_counts().plot.pie(autopct='%.2f')\n",
        "_ = ax.set_title(\"NearMiss\")"
      ],
      "id": "a79d6921"
    },
    {
      "cell_type": "code",
      "execution_count": null,
      "metadata": {
        "id": "c8c72497",
        "outputId": "a169db8a-266c-418d-b30c-865859e153c0",
        "colab": {
          "base_uri": "https://localhost:8080/"
        }
      },
      "outputs": [
        {
          "output_type": "execute_result",
          "data": {
            "text/plain": [
              "0    357\n",
              "1    357\n",
              "Name: Class, dtype: int64"
            ]
          },
          "metadata": {},
          "execution_count": 90
        }
      ],
      "source": [
        "y_nmiss.value_counts()"
      ],
      "id": "c8c72497"
    },
    {
      "cell_type": "code",
      "execution_count": null,
      "metadata": {
        "id": "a2f3386b",
        "outputId": "acaae3b2-a7b4-4344-8e6d-cb9a71e85fa6",
        "colab": {
          "base_uri": "https://localhost:8080/"
        }
      },
      "outputs": [
        {
          "output_type": "stream",
          "name": "stdout",
          "text": [
            "Counter({0: 357, 1: 357})\n"
          ]
        }
      ],
      "source": [
        "print(Counter(y_nmiss))"
      ],
      "id": "a2f3386b"
    },
    {
      "cell_type": "code",
      "source": [
        "X_train, X_test, y_train, y_test = train_test_split(X_nmiss, y_nmiss, test_size=0.30, random_state=1)\n",
        "from sklearn.linear_model import LogisticRegression\n",
        "lrl1 = LogisticRegression(penalty = 'l1', solver = 'saga')\n",
        "lrl1.fit(X_train, y_train)\n",
        "print('[0]LR Accuracy: ', lrl1.score(X_train,y_train))"
      ],
      "metadata": {
        "colab": {
          "base_uri": "https://localhost:8080/"
        },
        "id": "XdhmB8-UAysI",
        "outputId": "de145d47-e6dc-4854-bfd0-cc34a027b4a6"
      },
      "id": "XdhmB8-UAysI",
      "execution_count": null,
      "outputs": [
        {
          "output_type": "stream",
          "name": "stdout",
          "text": [
            "[0]LR Accuracy:  0.9478957915831663\n"
          ]
        },
        {
          "output_type": "stream",
          "name": "stderr",
          "text": [
            "/usr/local/lib/python3.7/dist-packages/sklearn/linear_model/_sag.py:354: ConvergenceWarning: The max_iter was reached which means the coef_ did not converge\n",
            "  ConvergenceWarning,\n"
          ]
        }
      ]
    },
    {
      "cell_type": "code",
      "source": [
        "print('\\nConfu. Matrix:\\n',confusion_matrix(y_test, lrl1.predict(X_test)))\n",
        "print('\\nAcc. Score: ',accuracy_score(y_test, lrl1.predict(X_test)))\n",
        "print('\\nClass. Report: \\n',classification_report(y_test, lrl1.predict(X_test)))\n",
        "print('\\nPrecision score: ', precision_score(y_test, lrl1.predict(X_test)))\n",
        "print('Recall score:',recall_score(y_test, lrl1.predict(X_test)))\n",
        "print('f1_score: ',f1_score(y_test,lrl1.predict(X_test)))\n",
        "print('log_loss: ',log_loss(y_test,lrl1.predict(X_test)))"
      ],
      "metadata": {
        "colab": {
          "base_uri": "https://localhost:8080/"
        },
        "id": "9LUGAv1yAywx",
        "outputId": "b6c44330-4648-472c-b666-831c14675225"
      },
      "id": "9LUGAv1yAywx",
      "execution_count": null,
      "outputs": [
        {
          "output_type": "stream",
          "name": "stdout",
          "text": [
            "\n",
            "Confu. Matrix:\n",
            " [[97  2]\n",
            " [21 95]]\n",
            "\n",
            "Acc. Score:  0.8930232558139535\n",
            "\n",
            "Class. Report: \n",
            "               precision    recall  f1-score   support\n",
            "\n",
            "           0       0.82      0.98      0.89        99\n",
            "           1       0.98      0.82      0.89       116\n",
            "\n",
            "    accuracy                           0.89       215\n",
            "   macro avg       0.90      0.90      0.89       215\n",
            "weighted avg       0.91      0.89      0.89       215\n",
            "\n",
            "\n",
            "Precision score:  0.979381443298969\n",
            "Recall score: 0.8189655172413793\n",
            "f1_score:  0.892018779342723\n",
            "log_loss:  3.694853285013052\n"
          ]
        }
      ]
    },
    {
      "cell_type": "code",
      "source": [],
      "metadata": {
        "id": "jBtdYDhmAy0F"
      },
      "id": "jBtdYDhmAy0F",
      "execution_count": null,
      "outputs": []
    },
    {
      "cell_type": "code",
      "source": [],
      "metadata": {
        "id": "lqmIiDk0Ay3I"
      },
      "id": "lqmIiDk0Ay3I",
      "execution_count": null,
      "outputs": []
    },
    {
      "cell_type": "code",
      "source": [],
      "metadata": {
        "id": "Ikue3B0vAy6G"
      },
      "id": "Ikue3B0vAy6G",
      "execution_count": null,
      "outputs": []
    },
    {
      "cell_type": "code",
      "source": [],
      "metadata": {
        "id": "VwRLNTuWAzAP"
      },
      "id": "VwRLNTuWAzAP",
      "execution_count": null,
      "outputs": []
    },
    {
      "cell_type": "code",
      "execution_count": null,
      "metadata": {
        "id": "615982dd",
        "outputId": "65eef6b6-510d-49e1-fe8f-76d7a1276688",
        "colab": {
          "base_uri": "https://localhost:8080/"
        }
      },
      "outputs": [
        {
          "output_type": "stream",
          "name": "stdout",
          "text": [
            "Train shape:  (499, 10) (499,)\n",
            "Test shape:  (215, 10) (215,)\n"
          ]
        }
      ],
      "source": [
        "X_train, X_test, y_train, y_test = train_test_split(X_nmiss,y_nmiss, test_size=0.3, random_state=1)\n",
        "print(\"Train shape: \", X_train.shape, y_train.shape)\n",
        "print(\"Test shape: \", X_test.shape, y_test.shape)"
      ],
      "id": "615982dd"
    },
    {
      "cell_type": "code",
      "execution_count": null,
      "metadata": {
        "id": "76e3c5d7"
      },
      "outputs": [],
      "source": [
        "def models(X_train,y_train):\n",
        "    #Logistic Regression\n",
        "    from sklearn.linear_model import LogisticRegression\n",
        "    log = LogisticRegression(random_state=0)\n",
        "    log.fit(X_train, y_train)\n",
        "    \n",
        "    #Decision Tree\n",
        "    from sklearn.tree import DecisionTreeClassifier\n",
        "    tree = DecisionTreeClassifier(random_state=0, criterion=\"entropy\")\n",
        "    tree.fit(X_train, y_train)\n",
        "    \n",
        "    #Random Forest\n",
        "    from sklearn.ensemble import RandomForestClassifier\n",
        "    forest = RandomForestClassifier(random_state=0, criterion=\"entropy\", n_estimators=10)\n",
        "    forest.fit(X_train, y_train)\n",
        "    \n",
        "    #KNN\n",
        "    from sklearn.neighbors import KNeighborsClassifier\n",
        "    knn = KNeighborsClassifier(n_neighbors=3)\n",
        "    knn.fit(X_train,y_train)\n",
        "    \n",
        "    #Naive Bayes\n",
        "    from sklearn.naive_bayes import GaussianNB\n",
        "    gnb = GaussianNB()\n",
        "    gnb.fit(X_train, y_train)\n",
        "    \n",
        "    #SVC\n",
        "    from sklearn.svm import SVC\n",
        "    svc = SVC(gamma='auto')\n",
        "    svc.fit(X_train, y_train)\n",
        "    \n",
        "    print('[0]LR Accuracy: ', log.score(X_train, y_train))\n",
        "    print('[1]DT Accuracy: ', tree.score(X_train, y_train))\n",
        "    print('[2]RF Accuracy: ', forest.score(X_train, y_train))\n",
        "    print('[3]KNN Accuracy: ', knn.score(X_train, y_train))\n",
        "    print('[4]NB Accuracy: ', gnb.score(X_train, y_train))\n",
        "    print('[5]SVC Accuracy: ', svc.score(X_train, y_train))\n",
        "    \n",
        "    return log,tree,forest,knn,gnb,svc\n"
      ],
      "id": "76e3c5d7"
    },
    {
      "cell_type": "code",
      "execution_count": null,
      "metadata": {
        "id": "677f341e",
        "outputId": "78fdb410-c1d8-4a75-81ff-7b5124b4a8dd",
        "colab": {
          "base_uri": "https://localhost:8080/"
        }
      },
      "outputs": [
        {
          "output_type": "stream",
          "name": "stdout",
          "text": [
            "[0]LR Accuracy:  0.9498997995991983\n",
            "[1]DT Accuracy:  1.0\n",
            "[2]RF Accuracy:  0.9959919839679359\n",
            "[3]KNN Accuracy:  0.969939879759519\n",
            "[4]NB Accuracy:  0.9679358717434869\n",
            "[5]SVC Accuracy:  0.9799599198396793\n"
          ]
        }
      ],
      "source": [
        "model = models(X_train,y_train)"
      ],
      "id": "677f341e"
    },
    {
      "cell_type": "code",
      "execution_count": null,
      "metadata": {
        "id": "2066f67e",
        "outputId": "476416f6-a635-4401-a930-f5c90ee55ebd",
        "scrolled": false,
        "colab": {
          "base_uri": "https://localhost:8080/"
        }
      },
      "outputs": [
        {
          "output_type": "stream",
          "name": "stdout",
          "text": [
            "\n",
            "Model 0\n",
            "\n",
            "Confu. Matrix:\n",
            " [[97  2]\n",
            " [17 99]]\n",
            "\n",
            "Acc. Score:  0.9116279069767442\n",
            "\n",
            "Class. Report: \n",
            "               precision    recall  f1-score   support\n",
            "\n",
            "           0       0.85      0.98      0.91        99\n",
            "           1       0.98      0.85      0.91       116\n",
            "\n",
            "    accuracy                           0.91       215\n",
            "   macro avg       0.92      0.92      0.91       215\n",
            "weighted avg       0.92      0.91      0.91       215\n",
            "\n",
            "\n",
            "Precision score:  0.9801980198019802\n",
            "Recall score: 0.853448275862069\n",
            "f1_score:  0.9124423963133641\n",
            "log_loss:  3.052271398596109\n",
            "\n",
            "Model 1\n",
            "\n",
            "Confu. Matrix:\n",
            " [[ 94   5]\n",
            " [  7 109]]\n",
            "\n",
            "Acc. Score:  0.9441860465116279\n",
            "\n",
            "Class. Report: \n",
            "               precision    recall  f1-score   support\n",
            "\n",
            "           0       0.93      0.95      0.94        99\n",
            "           1       0.96      0.94      0.95       116\n",
            "\n",
            "    accuracy                           0.94       215\n",
            "   macro avg       0.94      0.94      0.94       215\n",
            "weighted avg       0.94      0.94      0.94       215\n",
            "\n",
            "\n",
            "Precision score:  0.956140350877193\n",
            "Recall score: 0.9396551724137931\n",
            "f1_score:  0.9478260869565217\n",
            "log_loss:  1.9277642545399039\n",
            "\n",
            "Model 2\n",
            "\n",
            "Confu. Matrix:\n",
            " [[ 97   2]\n",
            " [  7 109]]\n",
            "\n",
            "Acc. Score:  0.958139534883721\n",
            "\n",
            "Class. Report: \n",
            "               precision    recall  f1-score   support\n",
            "\n",
            "           0       0.93      0.98      0.96        99\n",
            "           1       0.98      0.94      0.96       116\n",
            "\n",
            "    accuracy                           0.96       215\n",
            "   macro avg       0.96      0.96      0.96       215\n",
            "weighted avg       0.96      0.96      0.96       215\n",
            "\n",
            "\n",
            "Precision score:  0.9819819819819819\n",
            "Recall score: 0.9396551724137931\n",
            "f1_score:  0.960352422907489\n",
            "log_loss:  1.445816682553752\n",
            "\n",
            "Model 3\n",
            "\n",
            "Confu. Matrix:\n",
            " [[97  2]\n",
            " [18 98]]\n",
            "\n",
            "Acc. Score:  0.9069767441860465\n",
            "\n",
            "Class. Report: \n",
            "               precision    recall  f1-score   support\n",
            "\n",
            "           0       0.84      0.98      0.91        99\n",
            "           1       0.98      0.84      0.91       116\n",
            "\n",
            "    accuracy                           0.91       215\n",
            "   macro avg       0.91      0.91      0.91       215\n",
            "weighted avg       0.92      0.91      0.91       215\n",
            "\n",
            "\n",
            "Precision score:  0.98\n",
            "Recall score: 0.8448275862068966\n",
            "f1_score:  0.9074074074074074\n",
            "log_loss:  3.2129168702003446\n",
            "\n",
            "Model 4\n",
            "\n",
            "Confu. Matrix:\n",
            " [[ 96   3]\n",
            " [  7 109]]\n",
            "\n",
            "Acc. Score:  0.9534883720930233\n",
            "\n",
            "Class. Report: \n",
            "               precision    recall  f1-score   support\n",
            "\n",
            "           0       0.93      0.97      0.95        99\n",
            "           1       0.97      0.94      0.96       116\n",
            "\n",
            "    accuracy                           0.95       215\n",
            "   macro avg       0.95      0.95      0.95       215\n",
            "weighted avg       0.95      0.95      0.95       215\n",
            "\n",
            "\n",
            "Precision score:  0.9732142857142857\n",
            "Recall score: 0.9396551724137931\n",
            "f1_score:  0.9561403508771931\n",
            "log_loss:  1.6064658732158028\n",
            "\n",
            "Model 5\n",
            "\n",
            "Confu. Matrix:\n",
            " [[ 97   2]\n",
            " [  7 109]]\n",
            "\n",
            "Acc. Score:  0.958139534883721\n",
            "\n",
            "Class. Report: \n",
            "               precision    recall  f1-score   support\n",
            "\n",
            "           0       0.93      0.98      0.96        99\n",
            "           1       0.98      0.94      0.96       116\n",
            "\n",
            "    accuracy                           0.96       215\n",
            "   macro avg       0.96      0.96      0.96       215\n",
            "weighted avg       0.96      0.96      0.96       215\n",
            "\n",
            "\n",
            "Precision score:  0.9819819819819819\n",
            "Recall score: 0.9396551724137931\n",
            "f1_score:  0.960352422907489\n",
            "log_loss:  1.445816682553752\n"
          ]
        }
      ],
      "source": [
        "#Testing the Results\n",
        "for i in range(len(model)):\n",
        "    print(\"\\nModel\",i)\n",
        "    print('\\nConfu. Matrix:\\n',confusion_matrix(y_test, model[i].predict(X_test)))\n",
        "    print('\\nAcc. Score: ',accuracy_score(y_test, model[i].predict(X_test)))\n",
        "    print('\\nClass. Report: \\n',classification_report(y_test, model[i].predict(X_test)))\n",
        "    print('\\nPrecision score: ', precision_score(y_test, model[i].predict(X_test)))\n",
        "    print('Recall score:',recall_score(y_test, model[i].predict(X_test)))\n",
        "    print('f1_score: ',f1_score(y_test,model[i].predict(X_test)))\n",
        "    print('log_loss: ',log_loss(y_test,model[i].predict(X_test)))"
      ],
      "id": "2066f67e"
    },
    {
      "cell_type": "code",
      "execution_count": null,
      "metadata": {
        "id": "5c3349ef"
      },
      "outputs": [],
      "source": [],
      "id": "5c3349ef"
    },
    {
      "cell_type": "code",
      "execution_count": null,
      "metadata": {
        "id": "de9147e8"
      },
      "outputs": [],
      "source": [],
      "id": "de9147e8"
    },
    {
      "cell_type": "markdown",
      "metadata": {
        "id": "eb158659"
      },
      "source": [
        "###### iii) ENN"
      ],
      "id": "eb158659"
    },
    {
      "cell_type": "code",
      "execution_count": null,
      "metadata": {
        "id": "e95822e7",
        "outputId": "61763ef8-adc8-4ea2-acf2-d7b07f7bd83f",
        "colab": {
          "base_uri": "https://localhost:8080/",
          "height": 264
        }
      },
      "outputs": [
        {
          "output_type": "display_data",
          "data": {
            "text/plain": [
              "<Figure size 432x288 with 1 Axes>"
            ],
            "image/png": "[encoded data removed]"
          },
          "metadata": {}
        }
      ],
      "source": [
        "from imblearn.under_sampling import NearMiss\n",
        "enn = NearMiss()\n",
        "X_enn,y_enn = enn.fit_resample(X_train_fs,y_train_fs)\n",
        "ax = y_enn.value_counts().plot.pie(autopct='%.2f')\n",
        "_ = ax.set_title(\"ENN\")"
      ],
      "id": "e95822e7"
    },
    {
      "cell_type": "code",
      "execution_count": null,
      "metadata": {
        "id": "45b10ab1",
        "outputId": "dccba992-95ef-4b99-e5f7-8f341773d0a9",
        "colab": {
          "base_uri": "https://localhost:8080/"
        }
      },
      "outputs": [
        {
          "output_type": "execute_result",
          "data": {
            "text/plain": [
              "0    357\n",
              "1    357\n",
              "Name: Class, dtype: int64"
            ]
          },
          "metadata": {},
          "execution_count": 54
        }
      ],
      "source": [
        "y_enn.value_counts()"
      ],
      "id": "45b10ab1"
    },
    {
      "cell_type": "code",
      "execution_count": null,
      "metadata": {
        "id": "b7d19cd1",
        "outputId": "108425a2-f173-46d4-a928-3aabafe0d445",
        "colab": {
          "base_uri": "https://localhost:8080/"
        }
      },
      "outputs": [
        {
          "output_type": "stream",
          "name": "stdout",
          "text": [
            "Train shape:  (499, 10) (499,)\n",
            "Test shape:  (215, 10) (215,)\n"
          ]
        }
      ],
      "source": [
        "X_train, X_test, y_train, y_test = train_test_split(X_enn,y_enn, test_size=0.3, random_state=1)\n",
        "print(\"Train shape: \", X_train.shape, y_train.shape)\n",
        "print(\"Test shape: \", X_test.shape, y_test.shape)"
      ],
      "id": "b7d19cd1"
    },
    {
      "cell_type": "code",
      "execution_count": null,
      "metadata": {
        "id": "86b03a79"
      },
      "outputs": [],
      "source": [],
      "id": "86b03a79"
    },
    {
      "cell_type": "code",
      "execution_count": null,
      "metadata": {
        "id": "20701cbb"
      },
      "outputs": [],
      "source": [
        "def models(X_train,y_train):\n",
        "    #Logistic Regression\n",
        "    from sklearn.linear_model import LogisticRegression\n",
        "    log = LogisticRegression(random_state=0)\n",
        "    log.fit(X_train, y_train)\n",
        "    \n",
        "    #Decision Tree\n",
        "    from sklearn.tree import DecisionTreeClassifier\n",
        "    tree = DecisionTreeClassifier(random_state=0, criterion=\"entropy\")\n",
        "    tree.fit(X_train, y_train)\n",
        "    \n",
        "    #Random Forest\n",
        "    from sklearn.ensemble import RandomForestClassifier\n",
        "    forest = RandomForestClassifier(random_state=0, criterion=\"entropy\", n_estimators=10)\n",
        "    forest.fit(X_train, y_train)\n",
        "    \n",
        "    #KNN\n",
        "    from sklearn.neighbors import KNeighborsClassifier\n",
        "    knn = KNeighborsClassifier(n_neighbors=3)\n",
        "    knn.fit(X_train,y_train)\n",
        "    \n",
        "    #Naive Bayes\n",
        "    from sklearn.naive_bayes import GaussianNB\n",
        "    gnb = GaussianNB()\n",
        "    gnb.fit(X_train, y_train)\n",
        "    \n",
        "    #SVC\n",
        "    from sklearn.svm import SVC\n",
        "    svc = SVC(gamma='auto')\n",
        "    svc.fit(X_train, y_train)\n",
        "    \n",
        "    print('[0]LR Accuracy: ', log.score(X_train, y_train))\n",
        "    print('[1]DT Accuracy: ', tree.score(X_train, y_train))\n",
        "    print('[2]RF Accuracy: ', forest.score(X_train, y_train))\n",
        "    print('[3]KNN Accuracy: ', knn.score(X_train, y_train))\n",
        "    print('[4]NB Accuracy: ', gnb.score(X_train, y_train))\n",
        "    print('[5]SVC Accuracy: ', svc.score(X_train, y_train))\n",
        "    \n",
        "    return log,tree,forest,knn,gnb,svc\n"
      ],
      "id": "20701cbb"
    },
    {
      "cell_type": "code",
      "execution_count": null,
      "metadata": {
        "id": "6b76459e",
        "outputId": "958a1fcc-3ef5-4324-9049-15cc3178d65e",
        "colab": {
          "base_uri": "https://localhost:8080/"
        }
      },
      "outputs": [
        {
          "output_type": "stream",
          "name": "stdout",
          "text": [
            "[0]LR Accuracy:  0.9498997995991983\n",
            "[1]DT Accuracy:  1.0\n",
            "[2]RF Accuracy:  0.9959919839679359\n",
            "[3]KNN Accuracy:  0.969939879759519\n",
            "[4]NB Accuracy:  0.9679358717434869\n",
            "[5]SVC Accuracy:  0.9799599198396793\n"
          ]
        }
      ],
      "source": [
        "model = models(X_train,y_train)"
      ],
      "id": "6b76459e"
    },
    {
      "cell_type": "code",
      "execution_count": null,
      "metadata": {
        "id": "3e40dbf8",
        "outputId": "d9daedd0-d425-40fb-8dda-553383d852ea",
        "scrolled": false,
        "colab": {
          "base_uri": "https://localhost:8080/"
        }
      },
      "outputs": [
        {
          "output_type": "stream",
          "name": "stdout",
          "text": [
            "\n",
            "Model 0\n",
            "\n",
            "Confu. Matrix:\n",
            " [[97  2]\n",
            " [17 99]]\n",
            "\n",
            "Acc. Score:  0.9116279069767442\n",
            "\n",
            "Class. Report: \n",
            "               precision    recall  f1-score   support\n",
            "\n",
            "           0       0.85      0.98      0.91        99\n",
            "           1       0.98      0.85      0.91       116\n",
            "\n",
            "    accuracy                           0.91       215\n",
            "   macro avg       0.92      0.92      0.91       215\n",
            "weighted avg       0.92      0.91      0.91       215\n",
            "\n",
            "\n",
            "Precision score:  0.9801980198019802\n",
            "Recall score: 0.853448275862069\n",
            "f1_score:  0.9124423963133641\n",
            "log_loss:  3.052271398596109\n",
            "\n",
            "Model 1\n",
            "\n",
            "Confu. Matrix:\n",
            " [[ 94   5]\n",
            " [  7 109]]\n",
            "\n",
            "Acc. Score:  0.9441860465116279\n",
            "\n",
            "Class. Report: \n",
            "               precision    recall  f1-score   support\n",
            "\n",
            "           0       0.93      0.95      0.94        99\n",
            "           1       0.96      0.94      0.95       116\n",
            "\n",
            "    accuracy                           0.94       215\n",
            "   macro avg       0.94      0.94      0.94       215\n",
            "weighted avg       0.94      0.94      0.94       215\n",
            "\n",
            "\n",
            "Precision score:  0.956140350877193\n",
            "Recall score: 0.9396551724137931\n",
            "f1_score:  0.9478260869565217\n",
            "log_loss:  1.9277642545399039\n",
            "\n",
            "Model 2\n",
            "\n",
            "Confu. Matrix:\n",
            " [[ 97   2]\n",
            " [  7 109]]\n",
            "\n",
            "Acc. Score:  0.958139534883721\n",
            "\n",
            "Class. Report: \n",
            "               precision    recall  f1-score   support\n",
            "\n",
            "           0       0.93      0.98      0.96        99\n",
            "           1       0.98      0.94      0.96       116\n",
            "\n",
            "    accuracy                           0.96       215\n",
            "   macro avg       0.96      0.96      0.96       215\n",
            "weighted avg       0.96      0.96      0.96       215\n",
            "\n",
            "\n",
            "Precision score:  0.9819819819819819\n",
            "Recall score: 0.9396551724137931\n",
            "f1_score:  0.960352422907489\n",
            "log_loss:  1.445816682553752\n",
            "\n",
            "Model 3\n",
            "\n",
            "Confu. Matrix:\n",
            " [[97  2]\n",
            " [18 98]]\n",
            "\n",
            "Acc. Score:  0.9069767441860465\n",
            "\n",
            "Class. Report: \n",
            "               precision    recall  f1-score   support\n",
            "\n",
            "           0       0.84      0.98      0.91        99\n",
            "           1       0.98      0.84      0.91       116\n",
            "\n",
            "    accuracy                           0.91       215\n",
            "   macro avg       0.91      0.91      0.91       215\n",
            "weighted avg       0.92      0.91      0.91       215\n",
            "\n",
            "\n",
            "Precision score:  0.98\n",
            "Recall score: 0.8448275862068966\n",
            "f1_score:  0.9074074074074074\n",
            "log_loss:  3.2129168702003446\n",
            "\n",
            "Model 4\n",
            "\n",
            "Confu. Matrix:\n",
            " [[ 96   3]\n",
            " [  7 109]]\n",
            "\n",
            "Acc. Score:  0.9534883720930233\n",
            "\n",
            "Class. Report: \n",
            "               precision    recall  f1-score   support\n",
            "\n",
            "           0       0.93      0.97      0.95        99\n",
            "           1       0.97      0.94      0.96       116\n",
            "\n",
            "    accuracy                           0.95       215\n",
            "   macro avg       0.95      0.95      0.95       215\n",
            "weighted avg       0.95      0.95      0.95       215\n",
            "\n",
            "\n",
            "Precision score:  0.9732142857142857\n",
            "Recall score: 0.9396551724137931\n",
            "f1_score:  0.9561403508771931\n",
            "log_loss:  1.6064658732158028\n",
            "\n",
            "Model 5\n",
            "\n",
            "Confu. Matrix:\n",
            " [[ 97   2]\n",
            " [  7 109]]\n",
            "\n",
            "Acc. Score:  0.958139534883721\n",
            "\n",
            "Class. Report: \n",
            "               precision    recall  f1-score   support\n",
            "\n",
            "           0       0.93      0.98      0.96        99\n",
            "           1       0.98      0.94      0.96       116\n",
            "\n",
            "    accuracy                           0.96       215\n",
            "   macro avg       0.96      0.96      0.96       215\n",
            "weighted avg       0.96      0.96      0.96       215\n",
            "\n",
            "\n",
            "Precision score:  0.9819819819819819\n",
            "Recall score: 0.9396551724137931\n",
            "f1_score:  0.960352422907489\n",
            "log_loss:  1.445816682553752\n"
          ]
        }
      ],
      "source": [
        "#Testing the Results\n",
        "for i in range(len(model)):\n",
        "    print(\"\\nModel\",i)\n",
        "    print('\\nConfu. Matrix:\\n',confusion_matrix(y_test, model[i].predict(X_test)))\n",
        "    print('\\nAcc. Score: ',accuracy_score(y_test, model[i].predict(X_test)))\n",
        "    print('\\nClass. Report: \\n',classification_report(y_test, model[i].predict(X_test)))\n",
        "    print('\\nPrecision score: ', precision_score(y_test, model[i].predict(X_test)))\n",
        "    print('Recall score:',recall_score(y_test, model[i].predict(X_test)))\n",
        "    print('f1_score: ',f1_score(y_test,model[i].predict(X_test)))\n",
        "    print('log_loss: ',log_loss(y_test,model[i].predict(X_test)))"
      ],
      "id": "3e40dbf8"
    },
    {
      "cell_type": "code",
      "execution_count": null,
      "metadata": {
        "id": "ece1fd29"
      },
      "outputs": [],
      "source": [],
      "id": "ece1fd29"
    },
    {
      "cell_type": "code",
      "execution_count": null,
      "metadata": {
        "id": "335bb9e8"
      },
      "outputs": [],
      "source": [],
      "id": "335bb9e8"
    },
    {
      "cell_type": "markdown",
      "metadata": {
        "id": "98a126d0"
      },
      "source": [
        "##### iv) ClusterCentroid"
      ],
      "id": "98a126d0"
    },
    {
      "cell_type": "code",
      "execution_count": null,
      "metadata": {
        "id": "c0f5f972"
      },
      "outputs": [],
      "source": [],
      "id": "c0f5f972"
    },
    {
      "cell_type": "code",
      "execution_count": null,
      "metadata": {
        "id": "e7562d2e",
        "outputId": "4c5f33e8-f375-49d1-a960-5cf91d174333",
        "colab": {
          "base_uri": "https://localhost:8080/",
          "height": 264
        }
      },
      "outputs": [
        {
          "output_type": "display_data",
          "data": {
            "text/plain": [
              "<Figure size 432x288 with 1 Axes>"
            ],
            "image/png": "[encoded data removed]"
          },
          "metadata": {}
        }
      ],
      "source": [
        "from imblearn.under_sampling import ClusterCentroids\n",
        "cluster = ClusterCentroids()\n",
        "X_cluster,y_cluster = cluster.fit_resample(X_train_fs,y_train_fs)\n",
        "ax = y_cluster.value_counts().plot.pie(autopct='%.2f')\n",
        "_ = ax.set_title(\"ClusterCentroids\")"
      ],
      "id": "e7562d2e"
    },
    {
      "cell_type": "code",
      "execution_count": null,
      "metadata": {
        "id": "4e20c3e7",
        "outputId": "54a9f85a-168f-4742-bcaa-071a1fa91ee4",
        "colab": {
          "base_uri": "https://localhost:8080/"
        }
      },
      "outputs": [
        {
          "output_type": "execute_result",
          "data": {
            "text/plain": [
              "0    357\n",
              "1    357\n",
              "Name: Class, dtype: int64"
            ]
          },
          "metadata": {},
          "execution_count": 61
        }
      ],
      "source": [
        "y_cluster.value_counts()"
      ],
      "id": "4e20c3e7"
    },
    {
      "cell_type": "code",
      "execution_count": null,
      "metadata": {
        "id": "d1f6af87",
        "outputId": "0488ab15-3fcf-4839-b385-3f174908feff",
        "colab": {
          "base_uri": "https://localhost:8080/"
        }
      },
      "outputs": [
        {
          "output_type": "stream",
          "name": "stdout",
          "text": [
            "Train shape:  (499, 10) (499,)\n",
            "Test shape:  (215, 10) (215,)\n"
          ]
        }
      ],
      "source": [
        "X_train, X_test, y_train, y_test = train_test_split(X_cluster,y_cluster, test_size=0.3, random_state=1)\n",
        "print(\"Train shape: \", X_train.shape, y_train.shape)\n",
        "print(\"Test shape: \", X_test.shape, y_test.shape)"
      ],
      "id": "d1f6af87"
    },
    {
      "cell_type": "code",
      "execution_count": null,
      "metadata": {
        "id": "caeade20"
      },
      "outputs": [],
      "source": [
        "def models(X_train,y_train):\n",
        "    #Logistic Regression\n",
        "    from sklearn.linear_model import LogisticRegression\n",
        "    log = LogisticRegression(random_state=0)\n",
        "    log.fit(X_train, y_train)\n",
        "    \n",
        "    #Decision Tree\n",
        "    from sklearn.tree import DecisionTreeClassifier\n",
        "    tree = DecisionTreeClassifier(random_state=0, criterion=\"entropy\")\n",
        "    tree.fit(X_train, y_train)\n",
        "    \n",
        "    #Random Forest\n",
        "    from sklearn.ensemble import RandomForestClassifier\n",
        "    forest = RandomForestClassifier(random_state=0, criterion=\"entropy\", n_estimators=10)\n",
        "    forest.fit(X_train, y_train)\n",
        "    \n",
        "    #KNN\n",
        "    from sklearn.neighbors import KNeighborsClassifier\n",
        "    knn = KNeighborsClassifier(n_neighbors=3)\n",
        "    knn.fit(X_train,y_train)\n",
        "    \n",
        "    #Naive Bayes\n",
        "    from sklearn.naive_bayes import GaussianNB\n",
        "    gnb = GaussianNB()\n",
        "    gnb.fit(X_train, y_train)\n",
        "    \n",
        "    #SVC\n",
        "    from sklearn.svm import SVC\n",
        "    svc = SVC(gamma='auto')\n",
        "    svc.fit(X_train, y_train)\n",
        "    \n",
        "    print('[0]LR Accuracy: ', log.score(X_train, y_train))\n",
        "    print('[1]DT Accuracy: ', tree.score(X_train, y_train))\n",
        "    print('[2]RF Accuracy: ', forest.score(X_train, y_train))\n",
        "    print('[3]KNN Accuracy: ', knn.score(X_train, y_train))\n",
        "    print('[4]NB Accuracy: ', gnb.score(X_train, y_train))\n",
        "    print('[5]SVC Accuracy: ', svc.score(X_train, y_train))\n",
        "    \n",
        "    return log,tree,forest,knn,gnb,svc\n"
      ],
      "id": "caeade20"
    },
    {
      "cell_type": "code",
      "execution_count": null,
      "metadata": {
        "id": "f031427f",
        "outputId": "b609bb11-bf26-421e-d107-253326ff4322",
        "colab": {
          "base_uri": "https://localhost:8080/"
        }
      },
      "outputs": [
        {
          "output_type": "stream",
          "name": "stdout",
          "text": [
            "[0]LR Accuracy:  0.935871743486974\n",
            "[1]DT Accuracy:  1.0\n",
            "[2]RF Accuracy:  0.9919839679358717\n",
            "[3]KNN Accuracy:  0.9539078156312625\n",
            "[4]NB Accuracy:  0.9078156312625251\n",
            "[5]SVC Accuracy:  0.9579158316633266\n"
          ]
        }
      ],
      "source": [
        "model = models(X_train,y_train)"
      ],
      "id": "f031427f"
    },
    {
      "cell_type": "code",
      "execution_count": null,
      "metadata": {
        "id": "8ee49dc1",
        "outputId": "9bb600f7-f2d8-49e7-9da5-862269048b32",
        "scrolled": false,
        "colab": {
          "base_uri": "https://localhost:8080/"
        }
      },
      "outputs": [
        {
          "output_type": "stream",
          "name": "stdout",
          "text": [
            "\n",
            "Model 0\n",
            "\n",
            "Confu. Matrix:\n",
            " [[96  3]\n",
            " [21 95]]\n",
            "\n",
            "Acc. Score:  0.8883720930232558\n",
            "\n",
            "Class. Report: \n",
            "               precision    recall  f1-score   support\n",
            "\n",
            "           0       0.82      0.97      0.89        99\n",
            "           1       0.97      0.82      0.89       116\n",
            "\n",
            "    accuracy                           0.89       215\n",
            "   macro avg       0.89      0.89      0.89       215\n",
            "weighted avg       0.90      0.89      0.89       215\n",
            "\n",
            "\n",
            "Precision score:  0.9693877551020408\n",
            "Recall score: 0.8189655172413793\n",
            "f1_score:  0.8878504672897196\n",
            "log_loss:  3.855502475675103\n",
            "\n",
            "Model 1\n",
            "\n",
            "Confu. Matrix:\n",
            " [[87 12]\n",
            " [24 92]]\n",
            "\n",
            "Acc. Score:  0.8325581395348837\n",
            "\n",
            "Class. Report: \n",
            "               precision    recall  f1-score   support\n",
            "\n",
            "           0       0.78      0.88      0.83        99\n",
            "           1       0.88      0.79      0.84       116\n",
            "\n",
            "    accuracy                           0.83       215\n",
            "   macro avg       0.83      0.84      0.83       215\n",
            "weighted avg       0.84      0.83      0.83       215\n",
            "\n",
            "\n",
            "Precision score:  0.8846153846153846\n",
            "Recall score: 0.7931034482758621\n",
            "f1_score:  0.8363636363636363\n",
            "log_loss:  5.783281606446264\n",
            "\n",
            "Model 2\n",
            "\n",
            "Confu. Matrix:\n",
            " [[91  8]\n",
            " [19 97]]\n",
            "\n",
            "Acc. Score:  0.8744186046511628\n",
            "\n",
            "Class. Report: \n",
            "               precision    recall  f1-score   support\n",
            "\n",
            "           0       0.83      0.92      0.87        99\n",
            "           1       0.92      0.84      0.88       116\n",
            "\n",
            "    accuracy                           0.87       215\n",
            "   macro avg       0.88      0.88      0.87       215\n",
            "weighted avg       0.88      0.87      0.87       215\n",
            "\n",
            "\n",
            "Precision score:  0.9238095238095239\n",
            "Recall score: 0.8362068965517241\n",
            "f1_score:  0.8778280542986425\n",
            "log_loss:  4.337457485776884\n",
            "\n",
            "Model 3\n",
            "\n",
            "Confu. Matrix:\n",
            " [[93  6]\n",
            " [17 99]]\n",
            "\n",
            "Acc. Score:  0.8930232558139535\n",
            "\n",
            "Class. Report: \n",
            "               precision    recall  f1-score   support\n",
            "\n",
            "           0       0.85      0.94      0.89        99\n",
            "           1       0.94      0.85      0.90       116\n",
            "\n",
            "    accuracy                           0.89       215\n",
            "   macro avg       0.89      0.90      0.89       215\n",
            "weighted avg       0.90      0.89      0.89       215\n",
            "\n",
            "\n",
            "Precision score:  0.9428571428571428\n",
            "Recall score: 0.853448275862069\n",
            "f1_score:  0.8959276018099547\n",
            "log_loss:  3.6948681612443117\n",
            "\n",
            "Model 4\n",
            "\n",
            "Confu. Matrix:\n",
            " [[94  5]\n",
            " [27 89]]\n",
            "\n",
            "Acc. Score:  0.8511627906976744\n",
            "\n",
            "Class. Report: \n",
            "               precision    recall  f1-score   support\n",
            "\n",
            "           0       0.78      0.95      0.85        99\n",
            "           1       0.95      0.77      0.85       116\n",
            "\n",
            "    accuracy                           0.85       215\n",
            "   macro avg       0.86      0.86      0.85       215\n",
            "weighted avg       0.87      0.85      0.85       215\n",
            "\n",
            "\n",
            "Precision score:  0.9468085106382979\n",
            "Recall score: 0.7672413793103449\n",
            "f1_score:  0.8476190476190476\n",
            "log_loss:  5.140673686624618\n",
            "\n",
            "Model 5\n",
            "\n",
            "Confu. Matrix:\n",
            " [[91  8]\n",
            " [17 99]]\n",
            "\n",
            "Acc. Score:  0.8837209302325582\n",
            "\n",
            "Class. Report: \n",
            "               precision    recall  f1-score   support\n",
            "\n",
            "           0       0.84      0.92      0.88        99\n",
            "           1       0.93      0.85      0.89       116\n",
            "\n",
            "    accuracy                           0.88       215\n",
            "   macro avg       0.88      0.89      0.88       215\n",
            "weighted avg       0.89      0.88      0.88       215\n",
            "\n",
            "\n",
            "Precision score:  0.9252336448598131\n",
            "Recall score: 0.853448275862069\n",
            "f1_score:  0.8878923766816144\n",
            "log_loss:  4.016166542568413\n"
          ]
        }
      ],
      "source": [
        "#Testing the Results\n",
        "for i in range(len(model)):\n",
        "    print(\"\\nModel\",i)\n",
        "    print('\\nConfu. Matrix:\\n',confusion_matrix(y_test, model[i].predict(X_test)))\n",
        "    print('\\nAcc. Score: ',accuracy_score(y_test, model[i].predict(X_test)))\n",
        "    print('\\nClass. Report: \\n',classification_report(y_test, model[i].predict(X_test)))\n",
        "    print('\\nPrecision score: ', precision_score(y_test, model[i].predict(X_test)))\n",
        "    print('Recall score:',recall_score(y_test, model[i].predict(X_test)))\n",
        "    print('f1_score: ',f1_score(y_test,model[i].predict(X_test)))\n",
        "    print('log_loss: ',log_loss(y_test,model[i].predict(X_test)))"
      ],
      "id": "8ee49dc1"
    },
    {
      "cell_type": "code",
      "execution_count": null,
      "metadata": {
        "id": "3a698675"
      },
      "outputs": [],
      "source": [],
      "id": "3a698675"
    },
    {
      "cell_type": "code",
      "execution_count": null,
      "metadata": {
        "id": "5e9af883"
      },
      "outputs": [],
      "source": [],
      "id": "5e9af883"
    },
    {
      "cell_type": "markdown",
      "metadata": {
        "id": "581fd005"
      },
      "source": [
        "## Random Over_Sampling"
      ],
      "id": "581fd005"
    },
    {
      "cell_type": "markdown",
      "metadata": {
        "id": "8da466ee"
      },
      "source": [
        "##### SMOTE, RandomOverSampler, SVMSMOTE, SMOTEN"
      ],
      "id": "8da466ee"
    },
    {
      "cell_type": "markdown",
      "metadata": {
        "id": "d048bf3a"
      },
      "source": [
        "###### i) SMOTE"
      ],
      "id": "d048bf3a"
    },
    {
      "cell_type": "code",
      "execution_count": null,
      "metadata": {
        "id": "5773ccbf",
        "outputId": "8fcc6d19-458e-4623-d274-571d70732715",
        "colab": {
          "base_uri": "https://localhost:8080/",
          "height": 264
        }
      },
      "outputs": [
        {
          "output_type": "display_data",
          "data": {
            "text/plain": [
              "<Figure size 432x288 with 1 Axes>"
            ],
            "image/png": "[encoded data removed]"
          },
          "metadata": {}
        }
      ],
      "source": [
        "from imblearn.over_sampling import SMOTE\n",
        "smote = SMOTE()\n",
        "X_smote,y_smote = smote.fit_resample(X_train_fs,y_train_fs)\n",
        "ax = y_smote.value_counts().plot.pie(autopct='%.2f')\n",
        "_ = ax.set_title(\"smote\")"
      ],
      "id": "5773ccbf"
    },
    {
      "cell_type": "code",
      "execution_count": null,
      "metadata": {
        "id": "07bf05e3",
        "outputId": "1a6e8ad6-c23d-4fed-b036-92ac13716b74",
        "colab": {
          "base_uri": "https://localhost:8080/"
        }
      },
      "outputs": [
        {
          "output_type": "execute_result",
          "data": {
            "text/plain": [
              "0    199007\n",
              "1    199007\n",
              "Name: Class, dtype: int64"
            ]
          },
          "metadata": {},
          "execution_count": 98
        }
      ],
      "source": [
        "y_smote.value_counts()"
      ],
      "id": "07bf05e3"
    },
    {
      "cell_type": "code",
      "source": [],
      "metadata": {
        "id": "Dv-RjZZtDUJk"
      },
      "id": "Dv-RjZZtDUJk",
      "execution_count": null,
      "outputs": []
    },
    {
      "cell_type": "code",
      "source": [],
      "metadata": {
        "id": "tgNWFn1UDWEB"
      },
      "id": "tgNWFn1UDWEB",
      "execution_count": null,
      "outputs": []
    },
    {
      "cell_type": "code",
      "execution_count": null,
      "metadata": {
        "id": "413c02f4",
        "outputId": "07aa72e0-3160-433e-96c1-594e6b6851b5",
        "colab": {
          "base_uri": "https://localhost:8080/"
        }
      },
      "outputs": [
        {
          "output_type": "stream",
          "name": "stdout",
          "text": [
            "Train shape:  (278609, 10) (278609,)\n",
            "Test shape:  (119405, 10) (119405,)\n"
          ]
        }
      ],
      "source": [
        "X_train, X_test, y_train, y_test = train_test_split(X_smote,y_smote, test_size=0.3, random_state=1)\n",
        "print(\"Train shape: \", X_train.shape, y_train.shape)\n",
        "print(\"Test shape: \", X_test.shape, y_test.shape)"
      ],
      "id": "413c02f4"
    },
    {
      "cell_type": "code",
      "execution_count": null,
      "metadata": {
        "id": "29658970"
      },
      "outputs": [],
      "source": [
        "def models(X_train,y_train):\n",
        "    #Logistic Regression\n",
        "    from sklearn.linear_model import LogisticRegression\n",
        "    log = LogisticRegression(random_state=0)\n",
        "    log.fit(X_train, y_train)\n",
        "    \n",
        "    #Decision Tree\n",
        "    from sklearn.tree import DecisionTreeClassifier\n",
        "    tree = DecisionTreeClassifier(random_state=0, criterion=\"entropy\")\n",
        "    tree.fit(X_train, y_train)\n",
        "    \n",
        "    #Random Forest\n",
        "    from sklearn.ensemble import RandomForestClassifier\n",
        "    forest = RandomForestClassifier(random_state=0, criterion=\"entropy\", n_estimators=10)\n",
        "    forest.fit(X_train, y_train)\n",
        "    \n",
        "    #KNN\n",
        "    from sklearn.neighbors import KNeighborsClassifier\n",
        "    knn = KNeighborsClassifier(n_neighbors=3)\n",
        "    knn.fit(X_train,y_train)\n",
        "    \n",
        "    #Naive Bayes\n",
        "    from sklearn.naive_bayes import GaussianNB\n",
        "    gnb = GaussianNB()\n",
        "    gnb.fit(X_train, y_train)\n",
        "    \n",
        "    #SVC\n",
        "    from sklearn.svm import SVC\n",
        "    svc = SVC(gamma='auto')\n",
        "    svc.fit(X_train, y_train)\n",
        "    \n",
        "    print('[0]LR Accuracy: ', log.score(X_train, y_train))\n",
        "    print('[1]DT Accuracy: ', tree.score(X_train, y_train))\n",
        "    print('[2]RF Accuracy: ', forest.score(X_train, y_train))\n",
        "    print('[3]KNN Accuracy: ', knn.score(X_train, y_train))\n",
        "    print('[4]NB Accuracy: ', gnb.score(X_train, y_train))\n",
        "    print('[5]SVC Accuracy: ', svc.score(X_train, y_train))\n",
        "    \n",
        "    return log,tree,forest,knn,gnb,svc\n"
      ],
      "id": "29658970"
    },
    {
      "cell_type": "code",
      "execution_count": null,
      "metadata": {
        "id": "287e8429",
        "colab": {
          "base_uri": "https://localhost:8080/"
        },
        "outputId": "68a3cc54-6149-4181-aef3-a31c399f8fe2"
      },
      "outputs": [
        {
          "output_type": "stream",
          "name": "stdout",
          "text": [
            "[0]LR Accuracy:  0.9386057162546795\n",
            "[1]DT Accuracy:  1.0\n",
            "[2]RF Accuracy:  0.9999964107405002\n",
            "[3]KNN Accuracy:  0.9993359869925236\n",
            "[4]NB Accuracy:  0.9235308263552147\n",
            "[5]SVC Accuracy:  0.9937798132867208\n"
          ]
        }
      ],
      "source": [
        "model = models(X_train,y_train)"
      ],
      "id": "287e8429"
    },
    {
      "cell_type": "code",
      "execution_count": null,
      "metadata": {
        "id": "998a60f1",
        "outputId": "13d9a214-8847-4291-bf13-21a3b090eff5",
        "scrolled": false,
        "colab": {
          "base_uri": "https://localhost:8080/"
        }
      },
      "outputs": [
        {
          "output_type": "stream",
          "name": "stdout",
          "text": [
            "\n",
            "Model 0\n",
            "\n",
            "Confu. Matrix:\n",
            " [[58415  1248]\n",
            " [ 6186 53556]]\n",
            "\n",
            "Acc. Score:  0.9377413006155522\n",
            "\n",
            "Class. Report: \n",
            "               precision    recall  f1-score   support\n",
            "\n",
            "           0       0.90      0.98      0.94     59663\n",
            "           1       0.98      0.90      0.94     59742\n",
            "\n",
            "    accuracy                           0.94    119405\n",
            "   macro avg       0.94      0.94      0.94    119405\n",
            "weighted avg       0.94      0.94      0.94    119405\n",
            "\n",
            "\n",
            "Precision score:  0.977227939566455\n",
            "Recall score: 0.8964547554484282\n",
            "f1_score:  0.9351003090461474\n",
            "log_loss:  2.150347653928721\n",
            "\n",
            "Model 1\n",
            "\n",
            "Confu. Matrix:\n",
            " [[59474   189]\n",
            " [   86 59656]]\n",
            "\n",
            "Acc. Score:  0.9976969138645785\n",
            "\n",
            "Class. Report: \n",
            "               precision    recall  f1-score   support\n",
            "\n",
            "           0       1.00      1.00      1.00     59663\n",
            "           1       1.00      1.00      1.00     59742\n",
            "\n",
            "    accuracy                           1.00    119405\n",
            "   macro avg       1.00      1.00      1.00    119405\n",
            "weighted avg       1.00      1.00      1.00    119405\n",
            "\n",
            "\n",
            "Precision score:  0.9968418414236778\n",
            "Recall score: 0.9985604767165478\n",
            "f1_score:  0.9977004189418582\n",
            "log_loss:  0.07954704269096656\n",
            "\n",
            "Model 2\n",
            "\n",
            "Confu. Matrix:\n",
            " [[59630    33]\n",
            " [   15 59727]]\n",
            "\n",
            "Acc. Score:  0.9995980067836355\n",
            "\n",
            "Class. Report: \n",
            "               precision    recall  f1-score   support\n",
            "\n",
            "           0       1.00      1.00      1.00     59663\n",
            "           1       1.00      1.00      1.00     59742\n",
            "\n",
            "    accuracy                           1.00    119405\n",
            "   macro avg       1.00      1.00      1.00    119405\n",
            "weighted avg       1.00      1.00      1.00    119405\n",
            "\n",
            "\n",
            "Precision score:  0.9994477911646586\n",
            "Recall score: 0.9997489203575374\n",
            "f1_score:  0.9995983330822915\n",
            "log_loss:  0.013884574797295159\n",
            "\n",
            "Model 3\n",
            "\n",
            "Confu. Matrix:\n",
            " [[59521   142]\n",
            " [    0 59742]]\n",
            "\n",
            "Acc. Score:  0.9988107700682551\n",
            "\n",
            "Class. Report: \n",
            "               precision    recall  f1-score   support\n",
            "\n",
            "           0       1.00      1.00      1.00     59663\n",
            "           1       1.00      1.00      1.00     59742\n",
            "\n",
            "    accuracy                           1.00    119405\n",
            "   macro avg       1.00      1.00      1.00    119405\n",
            "weighted avg       1.00      1.00      1.00    119405\n",
            "\n",
            "\n",
            "Precision score:  0.9976287489145682\n",
            "Recall score: 1.0\n",
            "f1_score:  0.998812967080735\n",
            "log_loss:  0.041075497599870385\n",
            "\n",
            "Model 4\n",
            "\n",
            "Confu. Matrix:\n",
            " [[58827   836]\n",
            " [ 8431 51311]]\n",
            "\n",
            "Acc. Score:  0.9223901846656337\n",
            "\n",
            "Class. Report: \n",
            "               precision    recall  f1-score   support\n",
            "\n",
            "           0       0.87      0.99      0.93     59663\n",
            "           1       0.98      0.86      0.92     59742\n",
            "\n",
            "    accuracy                           0.92    119405\n",
            "   macro avg       0.93      0.92      0.92    119405\n",
            "weighted avg       0.93      0.92      0.92    119405\n",
            "\n",
            "\n",
            "Precision score:  0.9839683970314688\n",
            "Recall score: 0.8588765022931941\n",
            "f1_score:  0.9171768449087936\n",
            "log_loss:  2.6805536561709222\n",
            "\n",
            "Model 5\n",
            "\n",
            "Confu. Matrix:\n",
            " [[59158   505]\n",
            " [  268 59474]]\n",
            "\n",
            "Acc. Score:  0.9935262342447971\n",
            "\n",
            "Class. Report: \n",
            "               precision    recall  f1-score   support\n",
            "\n",
            "           0       1.00      0.99      0.99     59663\n",
            "           1       0.99      1.00      0.99     59742\n",
            "\n",
            "    accuracy                           0.99    119405\n",
            "   macro avg       0.99      0.99      0.99    119405\n",
            "weighted avg       0.99      0.99      0.99    119405\n",
            "\n",
            "\n",
            "Precision score:  0.9915803864685974\n",
            "Recall score: 0.9955140437213351\n",
            "f1_score:  0.993543321555951\n",
            "log_loss:  0.2235993295922978\n"
          ]
        }
      ],
      "source": [
        "#Testing the Results\n",
        "for i in range(len(model)):\n",
        "    print(\"\\nModel\",i)\n",
        "    print('\\nConfu. Matrix:\\n',confusion_matrix(y_test, model[i].predict(X_test)))\n",
        "    print('\\nAcc. Score: ',accuracy_score(y_test, model[i].predict(X_test)))\n",
        "    print('\\nClass. Report: \\n',classification_report(y_test, model[i].predict(X_test)))\n",
        "    print('\\nPrecision score: ', precision_score(y_test, model[i].predict(X_test)))\n",
        "    print('Recall score:',recall_score(y_test, model[i].predict(X_test)))\n",
        "    print('f1_score: ',f1_score(y_test,model[i].predict(X_test)))\n",
        "    print('log_loss: ',log_loss(y_test,model[i].predict(X_test)))"
      ],
      "id": "998a60f1"
    },
    {
      "cell_type": "code",
      "execution_count": null,
      "metadata": {
        "id": "c83b1909"
      },
      "outputs": [],
      "source": [],
      "id": "c83b1909"
    },
    {
      "cell_type": "code",
      "execution_count": null,
      "metadata": {
        "id": "c7bae70a"
      },
      "outputs": [],
      "source": [],
      "id": "c7bae70a"
    },
    {
      "cell_type": "markdown",
      "metadata": {
        "id": "e7d419a3"
      },
      "source": [
        "###### ii) Random Over_Sampling"
      ],
      "id": "e7d419a3"
    },
    {
      "cell_type": "code",
      "execution_count": null,
      "metadata": {
        "id": "12100a58",
        "outputId": "b9511699-cb7b-4aba-87e2-d66bc08361a2",
        "colab": {
          "base_uri": "https://localhost:8080/",
          "height": 264
        }
      },
      "outputs": [
        {
          "output_type": "display_data",
          "data": {
            "text/plain": [
              "<Figure size 432x288 with 1 Axes>"
            ],
            "image/png": "[encoded data removed]"
          },
          "metadata": {}
        }
      ],
      "source": [
        "from imblearn.over_sampling import RandomOverSampler\n",
        "ros = RandomOverSampler() # float\n",
        "X_ros,y_ros = ros.fit_resample(X_train_fs,y_train_fs)\n",
        "ax = y_ros.value_counts().plot.pie(autopct='%.2f')\n",
        "_ = ax.set_title(\"Over-Sampling\")"
      ],
      "id": "12100a58"
    },
    {
      "cell_type": "code",
      "execution_count": null,
      "metadata": {
        "id": "b2139c16",
        "outputId": "b81a99bb-6cbf-4871-d517-09a6b5f9ffc2",
        "colab": {
          "base_uri": "https://localhost:8080/"
        }
      },
      "outputs": [
        {
          "output_type": "execute_result",
          "data": {
            "text/plain": [
              "0    199007\n",
              "1    199007\n",
              "Name: Class, dtype: int64"
            ]
          },
          "metadata": {},
          "execution_count": 95
        }
      ],
      "source": [
        "y_ros.value_counts()"
      ],
      "id": "b2139c16"
    },
    {
      "cell_type": "markdown",
      "source": [
        "**Lasso Logistic Regression after Random Over_Sampling**"
      ],
      "metadata": {
        "id": "buEU79E4CPgR"
      },
      "id": "buEU79E4CPgR"
    },
    {
      "cell_type": "code",
      "source": [
        "X_train, X_test, y_train, y_test = train_test_split(X_ros, y_ros, test_size=0.30, random_state=1)\n",
        "from sklearn.linear_model import LogisticRegression\n",
        "lrl1 = LogisticRegression(penalty = 'l1', solver = 'saga')\n",
        "lrl1.fit(X_train, y_train)\n",
        "print('[0]LR Accuracy: ', lrl1.score(X_train,y_train))\n",
        "print('/n')\n",
        "\n",
        "print('\\nConfu. Matrix:\\n',confusion_matrix(y_test, lrl1.predict(X_test)))\n",
        "print('\\nAcc. Score: ',accuracy_score(y_test, lrl1.predict(X_test)))\n",
        "print('\\nClass. Report: \\n',classification_report(y_test, lrl1.predict(X_test)))\n",
        "print('\\nPrecision score: ', precision_score(y_test, lrl1.predict(X_test)))\n",
        "print('Recall score:',recall_score(y_test, lrl1.predict(X_test)))\n",
        "print('f1_score: ',f1_score(y_test,lrl1.predict(X_test)))\n",
        "print('log_loss: ',log_loss(y_test,lrl1.predict(X_test)))"
      ],
      "metadata": {
        "colab": {
          "base_uri": "https://localhost:8080/"
        },
        "id": "VL_P3iw_B7ZS",
        "outputId": "740d2950-2d74-45bb-c6e2-414dfbb346b1"
      },
      "id": "VL_P3iw_B7ZS",
      "execution_count": null,
      "outputs": [
        {
          "output_type": "stream",
          "name": "stdout",
          "text": [
            "[0]LR Accuracy:  0.9424713487360422\n",
            "/n\n",
            "\n",
            "Confu. Matrix:\n",
            " [[58492  1171]\n",
            " [ 5705 54037]]\n",
            "\n",
            "Acc. Score:  0.9424144717557891\n",
            "\n",
            "Class. Report: \n",
            "               precision    recall  f1-score   support\n",
            "\n",
            "           0       0.91      0.98      0.94     59663\n",
            "           1       0.98      0.90      0.94     59742\n",
            "\n",
            "    accuracy                           0.94    119405\n",
            "   macro avg       0.94      0.94      0.94    119405\n",
            "weighted avg       0.94      0.94      0.94    119405\n",
            "\n",
            "\n",
            "Precision score:  0.978789305897696\n",
            "Recall score: 0.904506042650062\n",
            "f1_score:  0.9401826881252718\n",
            "log_loss:  1.9889415252292337\n"
          ]
        }
      ]
    },
    {
      "cell_type": "code",
      "source": [],
      "metadata": {
        "id": "BmmOPJGrB7ia"
      },
      "id": "BmmOPJGrB7ia",
      "execution_count": null,
      "outputs": []
    },
    {
      "cell_type": "code",
      "execution_count": null,
      "metadata": {
        "id": "620b7df5",
        "outputId": "200f294b-902c-42bc-ea72-73935b6ee99b",
        "colab": {
          "base_uri": "https://localhost:8080/"
        }
      },
      "outputs": [
        {
          "output_type": "stream",
          "name": "stdout",
          "text": [
            "Train shape:  (278609, 10) (278609,)\n",
            "Test shape:  (119405, 10) (119405,)\n"
          ]
        }
      ],
      "source": [
        "X_train, X_test, y_train, y_test = train_test_split(X_ros,y_ros, test_size=0.3, random_state=1)\n",
        "print(\"Train shape: \", X_train.shape, y_train.shape)\n",
        "print(\"Test shape: \", X_test.shape, y_test.shape)"
      ],
      "id": "620b7df5"
    },
    {
      "cell_type": "code",
      "execution_count": null,
      "metadata": {
        "id": "8701c4a6"
      },
      "outputs": [],
      "source": [
        "def models(X_train,y_train):\n",
        "    #Logistic Regression\n",
        "    from sklearn.linear_model import LogisticRegression\n",
        "    log = LogisticRegression(random_state=0)\n",
        "    log.fit(X_train, y_train)\n",
        "    \n",
        "    #Decision Tree\n",
        "    from sklearn.tree import DecisionTreeClassifier\n",
        "    tree = DecisionTreeClassifier(random_state=0, criterion=\"entropy\")\n",
        "    tree.fit(X_train, y_train)\n",
        "    \n",
        "    #Random Forest\n",
        "    from sklearn.ensemble import RandomForestClassifier\n",
        "    forest = RandomForestClassifier(random_state=0, criterion=\"entropy\", n_estimators=10)\n",
        "    forest.fit(X_train, y_train)\n",
        "    \n",
        "    #KNN\n",
        "    from sklearn.neighbors import KNeighborsClassifier\n",
        "    knn = KNeighborsClassifier(n_neighbors=3)\n",
        "    knn.fit(X_train,y_train)\n",
        "    \n",
        "    #Naive Bayes\n",
        "    from sklearn.naive_bayes import GaussianNB\n",
        "    gnb = GaussianNB()\n",
        "    gnb.fit(X_train, y_train)\n",
        "    \n",
        "    #SVC\n",
        "    from sklearn.svm import SVC\n",
        "    svc = SVC(gamma='auto')\n",
        "    svc.fit(X_train, y_train)\n",
        "    \n",
        "    print('[0]LR Accuracy: ', log.score(X_train, y_train))\n",
        "    print('[1]DT Accuracy: ', tree.score(X_train, y_train))\n",
        "    print('[2]RF Accuracy: ', forest.score(X_train, y_train))\n",
        "    print('[3]KNN Accuracy: ', knn.score(X_train, y_train))\n",
        "    print('[4]NB Accuracy: ', gnb.score(X_train, y_train))\n",
        "    print('[5]SVC Accuracy: ', svc.score(X_train, y_train))\n",
        "    \n",
        "    return log,tree,forest,knn,gnb,svc\n"
      ],
      "id": "8701c4a6"
    },
    {
      "cell_type": "code",
      "execution_count": null,
      "metadata": {
        "id": "488375fd",
        "colab": {
          "base_uri": "https://localhost:8080/"
        },
        "outputId": "36ba1921-99bd-4409-806a-3ad9261c9dd4"
      },
      "outputs": [
        {
          "output_type": "stream",
          "name": "stdout",
          "text": [
            "[0]LR Accuracy:  0.9422201005710512\n",
            "[1]DT Accuracy:  1.0\n",
            "[2]RF Accuracy:  1.0\n",
            "[3]KNN Accuracy:  0.9998600188795049\n",
            "[4]NB Accuracy:  0.92647760840461\n",
            "[5]SVC Accuracy:  0.996170260113636\n"
          ]
        }
      ],
      "source": [
        "model = models(X_train,y_train)"
      ],
      "id": "488375fd"
    },
    {
      "cell_type": "code",
      "execution_count": null,
      "metadata": {
        "id": "efc36926",
        "scrolled": false,
        "colab": {
          "base_uri": "https://localhost:8080/"
        },
        "outputId": "9a86b57b-54b3-41de-96ca-df4b28fd33ad"
      },
      "outputs": [
        {
          "output_type": "stream",
          "name": "stdout",
          "text": [
            "\n",
            "Model 0\n",
            "\n",
            "Confu. Matrix:\n",
            " [[58477  1186]\n",
            " [ 5615 54127]]\n",
            "\n",
            "Acc. Score:  0.9430425861563586\n",
            "\n",
            "Class. Report: \n",
            "               precision    recall  f1-score   support\n",
            "\n",
            "           0       0.91      0.98      0.95     59663\n",
            "           1       0.98      0.91      0.94     59742\n",
            "\n",
            "    accuracy                           0.94    119405\n",
            "   macro avg       0.95      0.94      0.94    119405\n",
            "weighted avg       0.95      0.94      0.94    119405\n",
            "\n",
            "\n",
            "Precision score:  0.9785583859128957\n",
            "Recall score: 0.9060125205048375\n",
            "f1_score:  0.9408891399765329\n",
            "log_loss:  1.967247322845273\n",
            "\n",
            "Model 1\n",
            "\n",
            "Confu. Matrix:\n",
            " [[59627    36]\n",
            " [    0 59742]]\n",
            "\n",
            "Acc. Score:  0.9996985050877266\n",
            "\n",
            "Class. Report: \n",
            "               precision    recall  f1-score   support\n",
            "\n",
            "           0       1.00      1.00      1.00     59663\n",
            "           1       1.00      1.00      1.00     59742\n",
            "\n",
            "    accuracy                           1.00    119405\n",
            "   macro avg       1.00      1.00      1.00    119405\n",
            "weighted avg       1.00      1.00      1.00    119405\n",
            "\n",
            "\n",
            "Precision score:  0.9993977717554954\n",
            "Recall score: 1.0\n",
            "f1_score:  0.9996987951807229\n",
            "log_loss:  0.010413506433770703\n",
            "\n",
            "Model 2\n",
            "\n",
            "Confu. Matrix:\n",
            " [[59655     8]\n",
            " [    0 59742]]\n",
            "\n",
            "Acc. Score:  0.9999330011306059\n",
            "\n",
            "Class. Report: \n",
            "               precision    recall  f1-score   support\n",
            "\n",
            "           0       1.00      1.00      1.00     59663\n",
            "           1       1.00      1.00      1.00     59742\n",
            "\n",
            "    accuracy                           1.00    119405\n",
            "   macro avg       1.00      1.00      1.00    119405\n",
            "weighted avg       1.00      1.00      1.00    119405\n",
            "\n",
            "\n",
            "Precision score:  0.9998661087866109\n",
            "Recall score: 1.0\n",
            "f1_score:  0.9999330499112912\n",
            "log_loss:  0.002314112540838711\n",
            "\n",
            "Model 3\n",
            "\n",
            "Confu. Matrix:\n",
            " [[59626    37]\n",
            " [    0 59742]]\n",
            "\n",
            "Acc. Score:  0.9996901302290524\n",
            "\n",
            "Class. Report: \n",
            "               precision    recall  f1-score   support\n",
            "\n",
            "           0       1.00      1.00      1.00     59663\n",
            "           1       1.00      1.00      1.00     59742\n",
            "\n",
            "    accuracy                           1.00    119405\n",
            "   macro avg       1.00      1.00      1.00    119405\n",
            "weighted avg       1.00      1.00      1.00    119405\n",
            "\n",
            "\n",
            "Precision score:  0.9993810535472323\n",
            "Recall score: 1.0\n",
            "f1_score:  0.9996904309702898\n",
            "log_loss:  0.010702770501375419\n",
            "\n",
            "Model 4\n",
            "\n",
            "Confu. Matrix:\n",
            " [[58814   849]\n",
            " [ 7787 51955]]\n",
            "\n",
            "Acc. Score:  0.9276747204890917\n",
            "\n",
            "Class. Report: \n",
            "               precision    recall  f1-score   support\n",
            "\n",
            "           0       0.88      0.99      0.93     59663\n",
            "           1       0.98      0.87      0.92     59742\n",
            "\n",
            "    accuracy                           0.93    119405\n",
            "   macro avg       0.93      0.93      0.93    119405\n",
            "weighted avg       0.93      0.93      0.93    119405\n",
            "\n",
            "\n",
            "Precision score:  0.9839216726005605\n",
            "Recall score: 0.8696561882762546\n",
            "f1_score:  0.9232669308549393\n",
            "log_loss:  2.498032342068313\n",
            "\n",
            "Model 5\n",
            "\n",
            "Confu. Matrix:\n",
            " [[59337   326]\n",
            " [  172 59570]]\n",
            "\n",
            "Acc. Score:  0.9958293203802185\n",
            "\n",
            "Class. Report: \n",
            "               precision    recall  f1-score   support\n",
            "\n",
            "           0       1.00      0.99      1.00     59663\n",
            "           1       0.99      1.00      1.00     59742\n",
            "\n",
            "    accuracy                           1.00    119405\n",
            "   macro avg       1.00      1.00      1.00    119405\n",
            "weighted avg       1.00      1.00      1.00    119405\n",
            "\n",
            "\n",
            "Precision score:  0.9945572325363964\n",
            "Recall score: 0.9971209534330956\n",
            "f1_score:  0.9958374429529079\n",
            "log_loss:  0.14405235386648702\n"
          ]
        }
      ],
      "source": [
        "#Testing the Results\n",
        "for i in range(len(model)):\n",
        "    print(\"\\nModel\",i)\n",
        "    print('\\nConfu. Matrix:\\n',confusion_matrix(y_test, model[i].predict(X_test)))\n",
        "    print('\\nAcc. Score: ',accuracy_score(y_test, model[i].predict(X_test)))\n",
        "    print('\\nClass. Report: \\n',classification_report(y_test, model[i].predict(X_test)))\n",
        "    print('\\nPrecision score: ', precision_score(y_test, model[i].predict(X_test)))\n",
        "    print('Recall score:',recall_score(y_test, model[i].predict(X_test)))\n",
        "    print('f1_score: ',f1_score(y_test,model[i].predict(X_test)))\n",
        "    print('log_loss: ',log_loss(y_test,model[i].predict(X_test)))"
      ],
      "id": "efc36926"
    },
    {
      "cell_type": "code",
      "execution_count": null,
      "metadata": {
        "id": "d05f8340"
      },
      "outputs": [],
      "source": [],
      "id": "d05f8340"
    },
    {
      "cell_type": "code",
      "execution_count": null,
      "metadata": {
        "id": "9f76d186"
      },
      "outputs": [],
      "source": [],
      "id": "9f76d186"
    },
    {
      "cell_type": "markdown",
      "metadata": {
        "id": "ff13b51e"
      },
      "source": [
        "###### iii) SVMSMOTE"
      ],
      "id": "ff13b51e"
    },
    {
      "cell_type": "code",
      "execution_count": null,
      "metadata": {
        "id": "36d9417e",
        "colab": {
          "base_uri": "https://localhost:8080/",
          "height": 264
        },
        "outputId": "1115bfc5-14c5-44f9-8caa-5ae39089771a"
      },
      "outputs": [
        {
          "output_type": "display_data",
          "data": {
            "text/plain": [
              "<Figure size 432x288 with 1 Axes>"
            ],
            "image/png": "[encoded data removed]"
          },
          "metadata": {}
        }
      ],
      "source": [
        "from imblearn.over_sampling import SVMSMOTE\n",
        "svmsmote = SVMSMOTE()# float\n",
        "X_svmsmote,y_svmsmote = svmsmote.fit_resample(X_train_fs,y_train_fs)\n",
        "ax = y_svmsmote.value_counts().plot.pie(autopct='%.2f')\n",
        "_ = ax.set_title(\"SVMSMOTE\")"
      ],
      "id": "36d9417e"
    },
    {
      "cell_type": "code",
      "execution_count": null,
      "metadata": {
        "id": "28f4a94f",
        "colab": {
          "base_uri": "https://localhost:8080/"
        },
        "outputId": "84e381bf-8943-472c-a068-67dd4d8efd26"
      },
      "outputs": [
        {
          "output_type": "execute_result",
          "data": {
            "text/plain": [
              "0    199007\n",
              "1    199007\n",
              "Name: Class, dtype: int64"
            ]
          },
          "metadata": {},
          "execution_count": 79
        }
      ],
      "source": [
        "y_svmsmote.value_counts()"
      ],
      "id": "28f4a94f"
    },
    {
      "cell_type": "code",
      "execution_count": null,
      "metadata": {
        "id": "72cec851",
        "colab": {
          "base_uri": "https://localhost:8080/"
        },
        "outputId": "a7a7e698-ec50-4d16-8f92-cc25a53b293a"
      },
      "outputs": [
        {
          "output_type": "stream",
          "name": "stdout",
          "text": [
            "Train shape:  (278609, 10) (278609,)\n",
            "Test shape:  (119405, 10) (119405,)\n"
          ]
        }
      ],
      "source": [
        "X_train, X_test, y_train, y_test = train_test_split(X_svmsmote,y_svmsmote, test_size=0.3, random_state=1)\n",
        "print(\"Train shape: \", X_train.shape, y_train.shape)\n",
        "print(\"Test shape: \", X_test.shape, y_test.shape)"
      ],
      "id": "72cec851"
    },
    {
      "cell_type": "code",
      "execution_count": null,
      "metadata": {
        "id": "fc66aa57"
      },
      "outputs": [],
      "source": [
        "def models(X_train,y_train):\n",
        "    #Logistic Regression\n",
        "    from sklearn.linear_model import LogisticRegression\n",
        "    log = LogisticRegression(random_state=0)\n",
        "    log.fit(X_train, y_train)\n",
        "    \n",
        "    #Decision Tree\n",
        "    from sklearn.tree import DecisionTreeClassifier\n",
        "    tree = DecisionTreeClassifier(random_state=0, criterion=\"entropy\")\n",
        "    tree.fit(X_train, y_train)\n",
        "    \n",
        "    #Random Forest\n",
        "    from sklearn.ensemble import RandomForestClassifier\n",
        "    forest = RandomForestClassifier(random_state=0, criterion=\"entropy\", n_estimators=10)\n",
        "    forest.fit(X_train, y_train)\n",
        "    \n",
        "    #KNN\n",
        "    from sklearn.neighbors import KNeighborsClassifier\n",
        "    knn = KNeighborsClassifier(n_neighbors=3)\n",
        "    knn.fit(X_train,y_train)\n",
        "    \n",
        "    #Naive Bayes\n",
        "    from sklearn.naive_bayes import GaussianNB\n",
        "    gnb = GaussianNB()\n",
        "    gnb.fit(X_train, y_train)\n",
        "    \n",
        "    #SVC\n",
        "    from sklearn.svm import SVC\n",
        "    svc = SVC(gamma='auto')\n",
        "    svc.fit(X_train, y_train)\n",
        "    \n",
        "    print('[0]LR Accuracy: ', log.score(X_train, y_train))\n",
        "    print('[1]DT Accuracy: ', tree.score(X_train, y_train))\n",
        "    print('[2]RF Accuracy: ', forest.score(X_train, y_train))\n",
        "    print('[3]KNN Accuracy: ', knn.score(X_train, y_train))\n",
        "    print('[4]NB Accuracy: ', gnb.score(X_train, y_train))\n",
        "    print('[5]SVC Accuracy: ', svc.score(X_train, y_train))\n",
        "    \n",
        "    return log,tree,forest,knn,gnb,svc\n"
      ],
      "id": "fc66aa57"
    },
    {
      "cell_type": "code",
      "execution_count": null,
      "metadata": {
        "id": "cdb3880d",
        "colab": {
          "base_uri": "https://localhost:8080/"
        },
        "outputId": "2c8e72f6-1a33-4d63-f28c-8caa1098dc09"
      },
      "outputs": [
        {
          "output_type": "stream",
          "name": "stdout",
          "text": [
            "[0]LR Accuracy:  0.9950755359661748\n",
            "[1]DT Accuracy:  1.0\n",
            "[2]RF Accuracy:  0.9999784644430008\n",
            "[3]KNN Accuracy:  0.9997738766515081\n",
            "[4]NB Accuracy:  0.9521372245691991\n",
            "[5]SVC Accuracy:  0.9994867358915183\n"
          ]
        }
      ],
      "source": [
        "model = models(X_train,y_train)"
      ],
      "id": "cdb3880d"
    },
    {
      "cell_type": "code",
      "execution_count": null,
      "metadata": {
        "id": "e34585bd",
        "scrolled": false,
        "colab": {
          "base_uri": "https://localhost:8080/"
        },
        "outputId": "4616593b-9544-4706-a6b2-11c98ab0ff9e"
      },
      "outputs": [
        {
          "output_type": "stream",
          "name": "stdout",
          "text": [
            "\n",
            "Model 0\n",
            "\n",
            "Confu. Matrix:\n",
            " [[59266   397]\n",
            " [  230 59512]]\n",
            "\n",
            "Acc. Score:  0.9947489636112391\n",
            "\n",
            "Class. Report: \n",
            "               precision    recall  f1-score   support\n",
            "\n",
            "           0       1.00      0.99      0.99     59663\n",
            "           1       0.99      1.00      0.99     59742\n",
            "\n",
            "    accuracy                           0.99    119405\n",
            "   macro avg       0.99      0.99      0.99    119405\n",
            "weighted avg       0.99      0.99      0.99    119405\n",
            "\n",
            "\n",
            "Precision score:  0.9933732828122652\n",
            "Recall score: 0.9961501121489069\n",
            "f1_score:  0.9947597596342697\n",
            "log_loss:  0.18136703018959757\n",
            "\n",
            "Model 1\n",
            "\n",
            "Confu. Matrix:\n",
            " [[59624    39]\n",
            " [    9 59733]]\n",
            "\n",
            "Acc. Score:  0.9995980067836355\n",
            "\n",
            "Class. Report: \n",
            "               precision    recall  f1-score   support\n",
            "\n",
            "           0       1.00      1.00      1.00     59663\n",
            "           1       1.00      1.00      1.00     59742\n",
            "\n",
            "    accuracy                           1.00    119405\n",
            "   macro avg       1.00      1.00      1.00    119405\n",
            "weighted avg       1.00      1.00      1.00    119405\n",
            "\n",
            "\n",
            "Precision score:  0.9993475205781972\n",
            "Recall score: 0.9998493522145224\n",
            "f1_score:  0.9995983734123198\n",
            "log_loss:  0.013884614976388003\n",
            "\n",
            "Model 2\n",
            "\n",
            "Confu. Matrix:\n",
            " [[59650    13]\n",
            " [    8 59734]]\n",
            "\n",
            "Acc. Score:  0.9998241279678406\n",
            "\n",
            "Class. Report: \n",
            "               precision    recall  f1-score   support\n",
            "\n",
            "           0       1.00      1.00      1.00     59663\n",
            "           1       1.00      1.00      1.00     59742\n",
            "\n",
            "    accuracy                           1.00    119405\n",
            "   macro avg       1.00      1.00      1.00    119405\n",
            "weighted avg       1.00      1.00      1.00    119405\n",
            "\n",
            "\n",
            "Precision score:  0.9997824158535157\n",
            "Recall score: 0.9998660908573533\n",
            "f1_score:  0.9998242516047503\n",
            "log_loss:  0.006074491847576199\n",
            "\n",
            "Model 3\n",
            "\n",
            "Confu. Matrix:\n",
            " [[59644    19]\n",
            " [    8 59734]]\n",
            "\n",
            "Acc. Score:  0.9997738788157949\n",
            "\n",
            "Class. Report: \n",
            "               precision    recall  f1-score   support\n",
            "\n",
            "           0       1.00      1.00      1.00     59663\n",
            "           1       1.00      1.00      1.00     59742\n",
            "\n",
            "    accuracy                           1.00    119405\n",
            "   macro avg       1.00      1.00      1.00    119405\n",
            "weighted avg       1.00      1.00      1.00    119405\n",
            "\n",
            "\n",
            "Precision score:  0.9996820243335063\n",
            "Recall score: 0.9998660908573533\n",
            "f1_score:  0.9997740491233943\n",
            "log_loss:  0.0078100762532044826\n",
            "\n",
            "Model 4\n",
            "\n",
            "Confu. Matrix:\n",
            " [[58622  1041]\n",
            " [ 4733 55009]]\n",
            "\n",
            "Acc. Score:  0.9516435660148235\n",
            "\n",
            "Class. Report: \n",
            "               precision    recall  f1-score   support\n",
            "\n",
            "           0       0.93      0.98      0.95     59663\n",
            "           1       0.98      0.92      0.95     59742\n",
            "\n",
            "    accuracy                           0.95    119405\n",
            "   macro avg       0.95      0.95      0.95    119405\n",
            "weighted avg       0.95      0.95      0.95    119405\n",
            "\n",
            "\n",
            "Precision score:  0.9814272970561998\n",
            "Recall score: 0.9207760034816377\n",
            "f1_score:  0.9501347243332873\n",
            "log_loss:  1.6701790317418796\n",
            "\n",
            "Model 5\n",
            "\n",
            "Confu. Matrix:\n",
            " [[59605    58]\n",
            " [    8 59734]]\n",
            "\n",
            "Acc. Score:  0.9994472593274989\n",
            "\n",
            "Class. Report: \n",
            "               precision    recall  f1-score   support\n",
            "\n",
            "           0       1.00      1.00      1.00     59663\n",
            "           1       1.00      1.00      1.00     59742\n",
            "\n",
            "    accuracy                           1.00    119405\n",
            "   macro avg       1.00      1.00      1.00    119405\n",
            "weighted avg       1.00      1.00      1.00    119405\n",
            "\n",
            "\n",
            "Precision score:  0.9990299705646241\n",
            "Recall score: 0.9998660908573533\n",
            "f1_score:  0.9994478558401794\n",
            "log_loss:  0.01909137488978833\n"
          ]
        }
      ],
      "source": [
        "#Testing the Results\n",
        "for i in range(len(model)):\n",
        "    print(\"\\nModel\",i)\n",
        "    print('\\nConfu. Matrix:\\n',confusion_matrix(y_test, model[i].predict(X_test)))\n",
        "    print('\\nAcc. Score: ',accuracy_score(y_test, model[i].predict(X_test)))\n",
        "    print('\\nClass. Report: \\n',classification_report(y_test, model[i].predict(X_test)))\n",
        "    print('\\nPrecision score: ', precision_score(y_test, model[i].predict(X_test)))\n",
        "    print('Recall score:',recall_score(y_test, model[i].predict(X_test)))\n",
        "    print('f1_score: ',f1_score(y_test,model[i].predict(X_test)))\n",
        "    print('log_loss: ',log_loss(y_test,model[i].predict(X_test)))"
      ],
      "id": "e34585bd"
    },
    {
      "cell_type": "code",
      "execution_count": null,
      "metadata": {
        "id": "685dad39"
      },
      "outputs": [],
      "source": [],
      "id": "685dad39"
    },
    {
      "cell_type": "code",
      "execution_count": null,
      "metadata": {
        "id": "6522ddbe"
      },
      "outputs": [],
      "source": [],
      "id": "6522ddbe"
    },
    {
      "cell_type": "markdown",
      "metadata": {
        "id": "7c5f1b62"
      },
      "source": [
        "###### iv) SMOTEN"
      ],
      "id": "7c5f1b62"
    },
    {
      "cell_type": "code",
      "execution_count": null,
      "metadata": {
        "id": "f29f94c4"
      },
      "outputs": [],
      "source": [
        "from imblearn.over_sampling import SMOTEN\n",
        "smoten = SMOTE()\n",
        "X_smoten,y_smoten = smoten.fit_resample(X_train_fs,y_train_fs)\n",
        "ax = y_smoten.value_counts().plot.pie(autopct='%.2f')\n",
        "_ = ax.set_title(\"smoten\")"
      ],
      "id": "f29f94c4"
    },
    {
      "cell_type": "code",
      "execution_count": null,
      "metadata": {
        "id": "79eeb373",
        "colab": {
          "base_uri": "https://localhost:8080/"
        },
        "outputId": "1aa6bfa8-b463-4b36-a1f0-3a7c68bcb75f"
      },
      "outputs": [
        {
          "output_type": "execute_result",
          "data": {
            "text/plain": [
              "0    199007\n",
              "1    199007\n",
              "Name: Class, dtype: int64"
            ]
          },
          "metadata": {},
          "execution_count": 86
        }
      ],
      "source": [
        "y_smoten.value_counts()"
      ],
      "id": "79eeb373"
    },
    {
      "cell_type": "code",
      "execution_count": null,
      "metadata": {
        "id": "09f72d06",
        "colab": {
          "base_uri": "https://localhost:8080/"
        },
        "outputId": "a71a502a-f970-4130-e90f-df92b265492f"
      },
      "outputs": [
        {
          "output_type": "stream",
          "name": "stdout",
          "text": [
            "Train shape:  (278609, 10) (278609,)\n",
            "Test shape:  (119405, 10) (119405,)\n"
          ]
        }
      ],
      "source": [
        "X_train, X_test, y_train, y_test = train_test_split(X_smoten,y_smoten, test_size = 0.3, random_state=1)\n",
        "print(\"Train shape: \", X_train.shape, y_train.shape)\n",
        "print(\"Test shape: \", X_test.shape, y_test.shape)"
      ],
      "id": "09f72d06"
    },
    {
      "cell_type": "code",
      "execution_count": null,
      "metadata": {
        "id": "0faa1df6"
      },
      "outputs": [],
      "source": [
        "def models(X_train,y_train):\n",
        "    #Logistic Regression\n",
        "    from sklearn.linear_model import LogisticRegression\n",
        "    log = LogisticRegression(random_state=0)\n",
        "    log.fit(X_train, y_train)\n",
        "    \n",
        "    #Decision Tree\n",
        "    from sklearn.tree import DecisionTreeClassifier\n",
        "    tree = DecisionTreeClassifier(random_state=0, criterion=\"entropy\")\n",
        "    tree.fit(X_train, y_train)\n",
        "    \n",
        "    #Random Forest\n",
        "    from sklearn.ensemble import RandomForestClassifier\n",
        "    forest = RandomForestClassifier(random_state=0, criterion=\"entropy\", n_estimators=10)\n",
        "    forest.fit(X_train, y_train)\n",
        "    \n",
        "    #KNN\n",
        "    from sklearn.neighbors import KNeighborsClassifier\n",
        "    knn = KNeighborsClassifier(n_neighbors=3)\n",
        "    knn.fit(X_train,y_train)\n",
        "    \n",
        "    #Naive Bayes\n",
        "    from sklearn.naive_bayes import GaussianNB\n",
        "    gnb = GaussianNB()\n",
        "    gnb.fit(X_train, y_train)\n",
        "    \n",
        "    #SVC\n",
        "    from sklearn.svm import SVC\n",
        "    svc = SVC(gamma='auto')\n",
        "    svc.fit(X_train, y_train)\n",
        "    \n",
        "    print('[0]LR Accuracy: ', log.score(X_train, y_train))\n",
        "    print('[1]DT Accuracy: ', tree.score(X_train, y_train))\n",
        "    print('[2]RF Accuracy: ', forest.score(X_train, y_train))\n",
        "    print('[3]KNN Accuracy: ', knn.score(X_train, y_train))\n",
        "    print('[4]NB Accuracy: ', gnb.score(X_train, y_train))\n",
        "    print('[5]SVC Accuracy: ', svc.score(X_train, y_train))\n",
        "    \n",
        "    return log,tree,forest,knn,gnb,svc\n"
      ],
      "id": "0faa1df6"
    },
    {
      "cell_type": "code",
      "execution_count": null,
      "metadata": {
        "id": "f46c2819"
      },
      "outputs": [],
      "source": [
        "model = models(X_train,y_train)"
      ],
      "id": "f46c2819"
    },
    {
      "cell_type": "code",
      "execution_count": null,
      "metadata": {
        "id": "73894b54",
        "scrolled": false,
        "colab": {
          "base_uri": "https://localhost:8080/"
        },
        "outputId": "f626798c-f2e1-4523-8a3d-2816ab390bfb"
      },
      "outputs": [
        {
          "output_type": "stream",
          "name": "stdout",
          "text": [
            "\n",
            "Model 0\n",
            "\n",
            "Confu. Matrix:\n",
            " [[59266   397]\n",
            " [ 7106 52636]]\n",
            "\n",
            "Acc. Score:  0.9371634353670282\n",
            "\n",
            "Class. Report: \n",
            "               precision    recall  f1-score   support\n",
            "\n",
            "           0       0.89      0.99      0.94     59663\n",
            "           1       0.99      0.88      0.93     59742\n",
            "\n",
            "    accuracy                           0.94    119405\n",
            "   macro avg       0.94      0.94      0.94    119405\n",
            "weighted avg       0.94      0.94      0.94    119405\n",
            "\n",
            "\n",
            "Precision score:  0.9925140949974545\n",
            "Recall score: 0.8810552040440561\n",
            "f1_score:  0.9334692972733319\n",
            "log_loss:  2.1703007137992105\n",
            "\n",
            "Model 1\n",
            "\n",
            "Confu. Matrix:\n",
            " [[59624    39]\n",
            " [ 7006 52736]]\n",
            "\n",
            "Acc. Score:  0.9409991206398391\n",
            "\n",
            "Class. Report: \n",
            "               precision    recall  f1-score   support\n",
            "\n",
            "           0       0.89      1.00      0.94     59663\n",
            "           1       1.00      0.88      0.94     59742\n",
            "\n",
            "    accuracy                           0.94    119405\n",
            "   macro avg       0.95      0.94      0.94    119405\n",
            "weighted avg       0.95      0.94      0.94    119405\n",
            "\n",
            "\n",
            "Precision score:  0.9992610137375652\n",
            "Recall score: 0.88272906832714\n",
            "f1_score:  0.9373872392616226\n",
            "log_loss:  2.0378184404877993\n",
            "\n",
            "Model 2\n",
            "\n",
            "Confu. Matrix:\n",
            " [[59650    13]\n",
            " [ 7113 52629]]\n",
            "\n",
            "Acc. Score:  0.9403207570872242\n",
            "\n",
            "Class. Report: \n",
            "               precision    recall  f1-score   support\n",
            "\n",
            "           0       0.89      1.00      0.94     59663\n",
            "           1       1.00      0.88      0.94     59742\n",
            "\n",
            "    accuracy                           0.94    119405\n",
            "   macro avg       0.95      0.94      0.94    119405\n",
            "weighted avg       0.95      0.94      0.94    119405\n",
            "\n",
            "\n",
            "Precision score:  0.9997530488963186\n",
            "Recall score: 0.8809380335442403\n",
            "f1_score:  0.9365923974943052\n",
            "log_loss:  2.0612481134366245\n",
            "\n",
            "Model 3\n",
            "\n",
            "Confu. Matrix:\n",
            " [[59644    19]\n",
            " [ 6825 52917]]\n",
            "\n",
            "Acc. Score:  0.9426824672333655\n",
            "\n",
            "Class. Report: \n",
            "               precision    recall  f1-score   support\n",
            "\n",
            "           0       0.90      1.00      0.95     59663\n",
            "           1       1.00      0.89      0.94     59742\n",
            "\n",
            "    accuracy                           0.94    119405\n",
            "   macro avg       0.95      0.94      0.94    119405\n",
            "weighted avg       0.95      0.94      0.94    119405\n",
            "\n",
            "\n",
            "Precision score:  0.9996410760163216\n",
            "Recall score: 0.8857587626795219\n",
            "f1_score:  0.9392605477555511\n",
            "log_loss:  1.9796775749685525\n",
            "\n",
            "Model 4\n",
            "\n",
            "Confu. Matrix:\n",
            " [[58622  1041]\n",
            " [ 8146 51596]]\n",
            "\n",
            "Acc. Score:  0.9230601733595746\n",
            "\n",
            "Class. Report: \n",
            "               precision    recall  f1-score   support\n",
            "\n",
            "           0       0.88      0.98      0.93     59663\n",
            "           1       0.98      0.86      0.92     59742\n",
            "\n",
            "    accuracy                           0.92    119405\n",
            "   macro avg       0.93      0.92      0.92    119405\n",
            "weighted avg       0.93      0.92      0.92    119405\n",
            "\n",
            "\n",
            "Precision score:  0.9802230370271862\n",
            "Recall score: 0.8636470154999832\n",
            "f1_score:  0.9182498509508004\n",
            "log_loss:  2.6574144392694548\n",
            "\n",
            "Model 5\n",
            "\n",
            "Confu. Matrix:\n",
            " [[59605    58]\n",
            " [ 6923 52819]]\n",
            "\n",
            "Acc. Score:  0.9415351115949918\n",
            "\n",
            "Class. Report: \n",
            "               precision    recall  f1-score   support\n",
            "\n",
            "           0       0.90      1.00      0.94     59663\n",
            "           1       1.00      0.88      0.94     59742\n",
            "\n",
            "    accuracy                           0.94    119405\n",
            "   macro avg       0.95      0.94      0.94    119405\n",
            "weighted avg       0.95      0.94      0.94    119405\n",
            "\n",
            "\n",
            "Precision score:  0.9989031147758004\n",
            "Recall score: 0.8841183756820997\n",
            "f1_score:  0.9380122359459772\n",
            "log_loss:  2.019306095971882\n"
          ]
        }
      ],
      "source": [
        "#Testing the Results\n",
        "for i in range(len(model)):\n",
        "    print(\"\\nModel\",i)\n",
        "    print('\\nConfu. Matrix:\\n',confusion_matrix(y_test, model[i].predict(X_test)))\n",
        "    print('\\nAcc. Score: ',accuracy_score(y_test, model[i].predict(X_test)))\n",
        "    print('\\nClass. Report: \\n',classification_report(y_test, model[i].predict(X_test)))\n",
        "    print('\\nPrecision score: ', precision_score(y_test, model[i].predict(X_test)))\n",
        "    print('Recall score:',recall_score(y_test, model[i].predict(X_test)))\n",
        "    print('f1_score: ',f1_score(y_test,model[i].predict(X_test)))\n",
        "    print('log_loss: ',log_loss(y_test,model[i].predict(X_test)))"
      ],
      "id": "73894b54"
    },
    {
      "cell_type": "code",
      "execution_count": null,
      "metadata": {
        "id": "ccf1c9b1"
      },
      "outputs": [],
      "source": [],
      "id": "ccf1c9b1"
    },
    {
      "cell_type": "markdown",
      "metadata": {
        "id": "4ad41fb5"
      },
      "source": [
        "# Hybrid Sampling"
      ],
      "id": "4ad41fb5"
    },
    {
      "cell_type": "markdown",
      "metadata": {
        "id": "feb51a8b"
      },
      "source": [
        "##### SMOTE+ENN , SMOTE+TL"
      ],
      "id": "feb51a8b"
    },
    {
      "cell_type": "code",
      "execution_count": null,
      "metadata": {
        "id": "e8985500"
      },
      "outputs": [],
      "source": [],
      "id": "e8985500"
    },
    {
      "cell_type": "markdown",
      "metadata": {
        "id": "b042df16"
      },
      "source": [
        "###### SMOTE+ENN"
      ],
      "id": "b042df16"
    },
    {
      "cell_type": "code",
      "execution_count": null,
      "metadata": {
        "id": "a730ffae",
        "colab": {
          "base_uri": "https://localhost:8080/",
          "height": 264
        },
        "outputId": "1e3cefea-41c2-453b-93ad-b43aea2e649b"
      },
      "outputs": [
        {
          "output_type": "display_data",
          "data": {
            "text/plain": [
              "<Figure size 432x288 with 1 Axes>"
            ],
            "image/png": "[encoded data removed]"
          },
          "metadata": {}
        }
      ],
      "source": [
        "from imblearn.combine import SMOTEENN\n",
        "smoteenn = SMOTEENN()\n",
        "X_smoteenn,y_smoteenn = smoteenn.fit_resample(X_train_fs,y_train_fs)\n",
        "ax = y_smoteenn.value_counts().plot.pie(autopct='%.2f')\n",
        "_ = ax.set_title(\"SMOTE+ENN\")"
      ],
      "id": "a730ffae"
    },
    {
      "cell_type": "code",
      "execution_count": null,
      "metadata": {
        "id": "46d36e46",
        "colab": {
          "base_uri": "https://localhost:8080/"
        },
        "outputId": "fbf2da6b-9055-4917-c75a-624d1d2eaf9a"
      },
      "outputs": [
        {
          "output_type": "execute_result",
          "data": {
            "text/plain": [
              "1    199007\n",
              "0    198448\n",
              "Name: Class, dtype: int64"
            ]
          },
          "metadata": {},
          "execution_count": 91
        }
      ],
      "source": [
        "y_smoteenn.value_counts()"
      ],
      "id": "46d36e46"
    },
    {
      "cell_type": "code",
      "execution_count": null,
      "metadata": {
        "id": "eb5f4e02",
        "colab": {
          "base_uri": "https://localhost:8080/"
        },
        "outputId": "7a2b671a-53a2-4399-f51c-ffd813cb2916"
      },
      "outputs": [
        {
          "output_type": "stream",
          "name": "stdout",
          "text": [
            "Train shape:  (278218, 10) (278218,)\n",
            "Test shape:  (119237, 10) (119237,)\n"
          ]
        }
      ],
      "source": [
        "X_train, X_test, y_train, y_test = train_test_split(X_smoteenn,y_smoteenn, test_size=0.3, random_state=1)\n",
        "print(\"Train shape: \", X_train.shape, y_train.shape)\n",
        "print(\"Test shape: \", X_test.shape, y_test.shape)"
      ],
      "id": "eb5f4e02"
    },
    {
      "cell_type": "code",
      "execution_count": null,
      "metadata": {
        "id": "529e733d"
      },
      "outputs": [],
      "source": [
        "def models(X_train,y_train):\n",
        "    #Logistic Regression\n",
        "    from sklearn.linear_model import LogisticRegression\n",
        "    log = LogisticRegression(random_state=0)\n",
        "    log.fit(X_train, y_train)\n",
        "    \n",
        "    #Decision Tree\n",
        "    from sklearn.tree import DecisionTreeClassifier\n",
        "    tree = DecisionTreeClassifier(random_state=0, criterion=\"entropy\")\n",
        "    tree.fit(X_train, y_train)\n",
        "    \n",
        "    #Random Forest\n",
        "    from sklearn.ensemble import RandomForestClassifier\n",
        "    forest = RandomForestClassifier(random_state=0, criterion=\"entropy\", n_estimators=10)\n",
        "    forest.fit(X_train, y_train)\n",
        "    \n",
        "    #KNN\n",
        "    from sklearn.neighbors import KNeighborsClassifier\n",
        "    knn = KNeighborsClassifier(n_neighbors=3)\n",
        "    knn.fit(X_train,y_train)\n",
        "    \n",
        "    #Naive Bayes\n",
        "    from sklearn.naive_bayes import GaussianNB\n",
        "    gnb = GaussianNB()\n",
        "    gnb.fit(X_train, y_train)\n",
        "    \n",
        "    #SVC\n",
        "    from sklearn.svm import SVC\n",
        "    svc = SVC(gamma='auto')\n",
        "    svc.fit(X_train, y_train)\n",
        "    \n",
        "    print('[0]LR Accuracy: ', log.score(X_train, y_train))\n",
        "    print('[1]DT Accuracy: ', tree.score(X_train, y_train))\n",
        "    print('[2]RF Accuracy: ', forest.score(X_train, y_train))\n",
        "    print('[3]KNN Accuracy: ', knn.score(X_train, y_train))\n",
        "    print('[4]NB Accuracy: ', gnb.score(X_train, y_train))\n",
        "    print('[5]SVC Accuracy: ', svc.score(X_train, y_train))\n",
        "    \n",
        "    return log,tree,forest,knn,gnb,svc\n"
      ],
      "id": "529e733d"
    },
    {
      "cell_type": "code",
      "execution_count": null,
      "metadata": {
        "id": "4e4a8d69",
        "colab": {
          "base_uri": "https://localhost:8080/"
        },
        "outputId": "369110b3-5efe-485b-bf88-16846e4a5831"
      },
      "outputs": [
        {
          "output_type": "stream",
          "name": "stdout",
          "text": [
            "[0]LR Accuracy:  0.9391232774299291\n",
            "[1]DT Accuracy:  1.0\n",
            "[2]RF Accuracy:  0.9999892170887578\n",
            "[3]KNN Accuracy:  0.9999604626587784\n",
            "[4]NB Accuracy:  0.9239481270083172\n",
            "[5]SVC Accuracy:  0.9944036690652653\n"
          ]
        }
      ],
      "source": [
        "model = models(X_train,y_train)"
      ],
      "id": "4e4a8d69"
    },
    {
      "cell_type": "code",
      "execution_count": null,
      "metadata": {
        "id": "91efb9cb",
        "scrolled": false,
        "colab": {
          "base_uri": "https://localhost:8080/"
        },
        "outputId": "5c48fff8-8bf4-4c76-fb38-e996a0d546ad"
      },
      "outputs": [
        {
          "output_type": "stream",
          "name": "stdout",
          "text": [
            "\n",
            "Model 0\n",
            "\n",
            "Confu. Matrix:\n",
            " [[58330  1165]\n",
            " [ 6056 53686]]\n",
            "\n",
            "Acc. Score:  0.9394399389451261\n",
            "\n",
            "Class. Report: \n",
            "               precision    recall  f1-score   support\n",
            "\n",
            "           0       0.91      0.98      0.94     59495\n",
            "           1       0.98      0.90      0.94     59742\n",
            "\n",
            "    accuracy                           0.94    119237\n",
            "   macro avg       0.94      0.94      0.94    119237\n",
            "weighted avg       0.94      0.94      0.94    119237\n",
            "\n",
            "\n",
            "Precision score:  0.9787606424677764\n",
            "Recall score: 0.8986307790164374\n",
            "f1_score:  0.9369856797535627\n",
            "log_loss:  2.091678219668864\n",
            "\n",
            "Model 1\n",
            "\n",
            "Confu. Matrix:\n",
            " [[59324   171]\n",
            " [   75 59667]]\n",
            "\n",
            "Acc. Score:  0.9979368820081015\n",
            "\n",
            "Class. Report: \n",
            "               precision    recall  f1-score   support\n",
            "\n",
            "           0       1.00      1.00      1.00     59495\n",
            "           1       1.00      1.00      1.00     59742\n",
            "\n",
            "    accuracy                           1.00    119237\n",
            "   macro avg       1.00      1.00      1.00    119237\n",
            "weighted avg       1.00      1.00      1.00    119237\n",
            "\n",
            "\n",
            "Precision score:  0.9971422841672516\n",
            "Recall score: 0.9987446017876871\n",
            "f1_score:  0.9979427997992976\n",
            "log_loss:  0.07125871771605045\n",
            "\n",
            "Model 2\n",
            "\n",
            "Confu. Matrix:\n",
            " [[59474    21]\n",
            " [   14 59728]]\n",
            "\n",
            "Acc. Score:  0.9997064669523722\n",
            "\n",
            "Class. Report: \n",
            "               precision    recall  f1-score   support\n",
            "\n",
            "           0       1.00      1.00      1.00     59495\n",
            "           1       1.00      1.00      1.00     59742\n",
            "\n",
            "    accuracy                           1.00    119237\n",
            "   macro avg       1.00      1.00      1.00    119237\n",
            "weighted avg       1.00      1.00      1.00    119237\n",
            "\n",
            "\n",
            "Precision score:  0.9996485296825052\n",
            "Recall score: 0.9997656590003683\n",
            "f1_score:  0.9997070909106125\n",
            "log_loss:  0.010138413121497747\n",
            "\n",
            "Model 3\n",
            "\n",
            "Confu. Matrix:\n",
            " [[59464    31]\n",
            " [    0 59742]]\n",
            "\n",
            "Acc. Score:  0.9997400135863868\n",
            "\n",
            "Class. Report: \n",
            "               precision    recall  f1-score   support\n",
            "\n",
            "           0       1.00      1.00      1.00     59495\n",
            "           1       1.00      1.00      1.00     59742\n",
            "\n",
            "    accuracy                           1.00    119237\n",
            "   macro avg       1.00      1.00      1.00    119237\n",
            "weighted avg       1.00      1.00      1.00    119237\n",
            "\n",
            "\n",
            "Precision score:  0.99948137118766\n",
            "Recall score: 1.0\n",
            "f1_score:  0.9997406183324269\n",
            "log_loss:  0.008979820489971119\n",
            "\n",
            "Model 4\n",
            "\n",
            "Confu. Matrix:\n",
            " [[58593   902]\n",
            " [ 8238 51504]]\n",
            "\n",
            "Acc. Score:  0.9233459412766172\n",
            "\n",
            "Class. Report: \n",
            "               precision    recall  f1-score   support\n",
            "\n",
            "           0       0.88      0.98      0.93     59495\n",
            "           1       0.98      0.86      0.92     59742\n",
            "\n",
            "    accuracy                           0.92    119237\n",
            "   macro avg       0.93      0.92      0.92    119237\n",
            "weighted avg       0.93      0.92      0.92    119237\n",
            "\n",
            "\n",
            "Precision score:  0.9827882303553028\n",
            "Recall score: 0.8621070603595461\n",
            "f1_score:  0.9185005528408888\n",
            "log_loss:  2.647543442776703\n",
            "\n",
            "Model 5\n",
            "\n",
            "Confu. Matrix:\n",
            " [[59063   432]\n",
            " [  277 59465]]\n",
            "\n",
            "Acc. Score:  0.9940538591209105\n",
            "\n",
            "Class. Report: \n",
            "               precision    recall  f1-score   support\n",
            "\n",
            "           0       1.00      0.99      0.99     59495\n",
            "           1       0.99      1.00      0.99     59742\n",
            "\n",
            "    accuracy                           0.99    119237\n",
            "   macro avg       0.99      0.99      0.99    119237\n",
            "weighted avg       0.99      0.99      0.99    119237\n",
            "\n",
            "\n",
            "Precision score:  0.9927876187455131\n",
            "Recall score: 0.9953633959358575\n",
            "f1_score:  0.9940738387983852\n",
            "log_loss:  0.20537532720616616\n"
          ]
        }
      ],
      "source": [
        "#Testing the Results\n",
        "for i in range(len(model)):\n",
        "    print(\"\\nModel\",i)\n",
        "    print('\\nConfu. Matrix:\\n',confusion_matrix(y_test, model[i].predict(X_test)))\n",
        "    print('\\nAcc. Score: ',accuracy_score(y_test, model[i].predict(X_test)))\n",
        "    print('\\nClass. Report: \\n',classification_report(y_test, model[i].predict(X_test)))\n",
        "    print('\\nPrecision score: ', precision_score(y_test, model[i].predict(X_test)))\n",
        "    print('Recall score:',recall_score(y_test, model[i].predict(X_test)))\n",
        "    print('f1_score: ',f1_score(y_test,model[i].predict(X_test)))\n",
        "    print('log_loss: ',log_loss(y_test,model[i].predict(X_test)))"
      ],
      "id": "91efb9cb"
    },
    {
      "cell_type": "code",
      "execution_count": null,
      "metadata": {
        "id": "195e5710"
      },
      "outputs": [],
      "source": [],
      "id": "195e5710"
    },
    {
      "cell_type": "markdown",
      "metadata": {
        "id": "0777c635"
      },
      "source": [
        "###### SMOTE+TL"
      ],
      "id": "0777c635"
    },
    {
      "cell_type": "code",
      "execution_count": null,
      "metadata": {
        "id": "57fc15d7",
        "colab": {
          "base_uri": "https://localhost:8080/",
          "height": 264
        },
        "outputId": "467b5d6d-031a-46b0-e2cb-6d21d481cde8"
      },
      "outputs": [
        {
          "output_type": "display_data",
          "data": {
            "text/plain": [
              "<Figure size 432x288 with 1 Axes>"
            ],
            "image/png": "[encoded data removed]"
          },
          "metadata": {}
        }
      ],
      "source": [
        "from imblearn.combine import SMOTETomek\n",
        "smotetl = SMOTETomek()\n",
        "X_smotetl,y_smotetl = smotetl.fit_resample(X_train_fs,y_train_fs)\n",
        "ax = y_smotetl.value_counts().plot.pie(autopct='%.2f')\n",
        "_ = ax.set_title(\"SMOTE+TL\")"
      ],
      "id": "57fc15d7"
    },
    {
      "cell_type": "code",
      "execution_count": null,
      "metadata": {
        "id": "5e9fafce"
      },
      "outputs": [],
      "source": [
        "y_smotetl.value_counts()"
      ],
      "id": "5e9fafce"
    },
    {
      "cell_type": "code",
      "execution_count": null,
      "metadata": {
        "id": "3b67a957",
        "colab": {
          "base_uri": "https://localhost:8080/"
        },
        "outputId": "3dfe6029-932e-45bb-a66e-d613093000cd"
      },
      "outputs": [
        {
          "output_type": "stream",
          "name": "stdout",
          "text": [
            "Train shape:  (278609, 10) (278609,)\n",
            "Test shape:  (119405, 10) (119405,)\n"
          ]
        }
      ],
      "source": [
        "X_train, X_test, y_train, y_test = train_test_split(X_smotetl,y_smotetl, test_size=0.3, random_state=1)\n",
        "print(\"Train shape: \", X_train.shape, y_train.shape)\n",
        "print(\"Test shape: \", X_test.shape, y_test.shape)"
      ],
      "id": "3b67a957"
    },
    {
      "cell_type": "code",
      "execution_count": null,
      "metadata": {
        "id": "348e90b6"
      },
      "outputs": [],
      "source": [
        "def models(X_train,y_train):\n",
        "    #Logistic Regression\n",
        "    from sklearn.linear_model import LogisticRegression\n",
        "    log = LogisticRegression(random_state=0)\n",
        "    log.fit(X_train, y_train)\n",
        "    \n",
        "    #Decision Tree\n",
        "    from sklearn.tree import DecisionTreeClassifier\n",
        "    tree = DecisionTreeClassifier(random_state=0, criterion=\"entropy\")\n",
        "    tree.fit(X_train, y_train)\n",
        "    \n",
        "    #Random Forest\n",
        "    from sklearn.ensemble import RandomForestClassifier\n",
        "    forest = RandomForestClassifier(random_state=0, criterion=\"entropy\", n_estimators=10)\n",
        "    forest.fit(X_train, y_train)\n",
        "    \n",
        "    #KNN\n",
        "    from sklearn.neighbors import KNeighborsClassifier\n",
        "    knn = KNeighborsClassifier(n_neighbors=3)\n",
        "    knn.fit(X_train,y_train)\n",
        "    \n",
        "    #Naive Bayes\n",
        "    from sklearn.naive_bayes import GaussianNB\n",
        "    gnb = GaussianNB()\n",
        "    gnb.fit(X_train, y_train)\n",
        "    \n",
        "    #SVC\n",
        "    from sklearn.svm import SVC\n",
        "    svc = SVC(gamma='auto')\n",
        "    svc.fit(X_train, y_train)\n",
        "    \n",
        "    print('[0]LR Accuracy: ', log.score(X_train, y_train))\n",
        "    print('[1]DT Accuracy: ', tree.score(X_train, y_train))\n",
        "    print('[2]RF Accuracy: ', forest.score(X_train, y_train))\n",
        "    print('[3]KNN Accuracy: ', knn.score(X_train, y_train))\n",
        "    print('[4]NB Accuracy: ', gnb.score(X_train, y_train))\n",
        "    print('[5]SVC Accuracy: ', svc.score(X_train, y_train))\n",
        "    \n",
        "    return log,tree,forest,knn,gnb,svc\n"
      ],
      "id": "348e90b6"
    },
    {
      "cell_type": "code",
      "execution_count": null,
      "metadata": {
        "id": "bd54babd",
        "colab": {
          "base_uri": "https://localhost:8080/"
        },
        "outputId": "97ab7ef4-e326-4cfb-dc5f-0784b60b6c43"
      },
      "outputs": [
        {
          "output_type": "stream",
          "name": "stdout",
          "text": [
            "[0]LR Accuracy:  0.9391405159201605\n",
            "[1]DT Accuracy:  1.0\n",
            "[2]RF Accuracy:  0.9999964107405002\n",
            "[3]KNN Accuracy:  0.9993288084735238\n",
            "[4]NB Accuracy:  0.9231001152152299\n",
            "[5]SVC Accuracy:  0.9938192951412194\n"
          ]
        }
      ],
      "source": [
        "model = models(X_train,y_train)"
      ],
      "id": "bd54babd"
    },
    {
      "cell_type": "code",
      "execution_count": null,
      "metadata": {
        "id": "c0487691",
        "scrolled": false,
        "colab": {
          "base_uri": "https://localhost:8080/"
        },
        "outputId": "ed6569dd-9438-4401-deb0-c19da5deb353"
      },
      "outputs": [
        {
          "output_type": "stream",
          "name": "stdout",
          "text": [
            "\n",
            "Model 0\n",
            "\n",
            "Confu. Matrix:\n",
            " [[58405  1258]\n",
            " [ 6147 53595]]\n",
            "\n",
            "Acc. Score:  0.9379841715171057\n",
            "\n",
            "Class. Report: \n",
            "               precision    recall  f1-score   support\n",
            "\n",
            "           0       0.90      0.98      0.94     59663\n",
            "           1       0.98      0.90      0.94     59742\n",
            "\n",
            "    accuracy                           0.94    119405\n",
            "   macro avg       0.94      0.94      0.94    119405\n",
            "weighted avg       0.94      0.94      0.94    119405\n",
            "\n",
            "\n",
            "Precision score:  0.9770659763367546\n",
            "Recall score: 0.897107562518831\n",
            "f1_score:  0.9353811248309263\n",
            "log_loss:  2.1419592571322887\n",
            "\n",
            "Model 1\n",
            "\n",
            "Confu. Matrix:\n",
            " [[59466   197]\n",
            " [  101 59641]]\n",
            "\n",
            "Acc. Score:  0.9975042921150705\n",
            "\n",
            "Class. Report: \n",
            "               precision    recall  f1-score   support\n",
            "\n",
            "           0       1.00      1.00      1.00     59663\n",
            "           1       1.00      1.00      1.00     59742\n",
            "\n",
            "    accuracy                           1.00    119405\n",
            "   macro avg       1.00      1.00      1.00    119405\n",
            "weighted avg       1.00      1.00      1.00    119405\n",
            "\n",
            "\n",
            "Precision score:  0.9967077776663659\n",
            "Recall score: 0.9983093970740853\n",
            "f1_score:  0.9975079444723197\n",
            "log_loss:  0.08620001579814286\n",
            "\n",
            "Model 2\n",
            "\n",
            "Confu. Matrix:\n",
            " [[59637    26]\n",
            " [   19 59723]]\n",
            "\n",
            "Acc. Score:  0.9996231313596583\n",
            "\n",
            "Class. Report: \n",
            "               precision    recall  f1-score   support\n",
            "\n",
            "           0       1.00      1.00      1.00     59663\n",
            "           1       1.00      1.00      1.00     59742\n",
            "\n",
            "    accuracy                           1.00    119405\n",
            "   macro avg       1.00      1.00      1.00    119405\n",
            "weighted avg       1.00      1.00      1.00    119405\n",
            "\n",
            "\n",
            "Precision score:  0.9995648462735778\n",
            "Recall score: 0.999681965786214\n",
            "f1_score:  0.999623402599359\n",
            "log_loss:  0.013016755808419116\n",
            "\n",
            "Model 3\n",
            "\n",
            "Confu. Matrix:\n",
            " [[59522   141]\n",
            " [    0 59742]]\n",
            "\n",
            "Acc. Score:  0.9988191449269294\n",
            "\n",
            "Class. Report: \n",
            "               precision    recall  f1-score   support\n",
            "\n",
            "           0       1.00      1.00      1.00     59663\n",
            "           1       1.00      1.00      1.00     59742\n",
            "\n",
            "    accuracy                           1.00    119405\n",
            "   macro avg       1.00      1.00      1.00    119405\n",
            "weighted avg       1.00      1.00      1.00    119405\n",
            "\n",
            "\n",
            "Precision score:  0.997645408546666\n",
            "Recall score: 1.0\n",
            "f1_score:  0.9988213166144201\n",
            "log_loss:  0.040786233532265674\n",
            "\n",
            "Model 4\n",
            "\n",
            "Confu. Matrix:\n",
            " [[58826   837]\n",
            " [ 8335 51407]]\n",
            "\n",
            "Acc. Score:  0.9231857962396884\n",
            "\n",
            "Class. Report: \n",
            "               precision    recall  f1-score   support\n",
            "\n",
            "           0       0.88      0.99      0.93     59663\n",
            "           1       0.98      0.86      0.92     59742\n",
            "\n",
            "    accuracy                           0.92    119405\n",
            "   macro avg       0.93      0.92      0.92    119405\n",
            "weighted avg       0.93      0.92      0.92    119405\n",
            "\n",
            "\n",
            "Precision score:  0.9839790215144323\n",
            "Recall score: 0.8604834120049546\n",
            "f1_score:  0.9180969049702641\n",
            "log_loss:  2.6530742126139604\n",
            "\n",
            "Model 5\n",
            "\n",
            "Confu. Matrix:\n",
            " [[59164   499]\n",
            " [  254 59488]]\n",
            "\n",
            "Acc. Score:  0.9936937314182823\n",
            "\n",
            "Class. Report: \n",
            "               precision    recall  f1-score   support\n",
            "\n",
            "           0       1.00      0.99      0.99     59663\n",
            "           1       0.99      1.00      0.99     59742\n",
            "\n",
            "    accuracy                           0.99    119405\n",
            "   macro avg       0.99      0.99      0.99    119405\n",
            "weighted avg       0.99      0.99      0.99    119405\n",
            "\n",
            "\n",
            "Precision score:  0.991681530998383\n",
            "Recall score: 0.9957483847209668\n",
            "f1_score:  0.9937107968829607\n",
            "log_loss:  0.21781414199142018\n"
          ]
        }
      ],
      "source": [
        "#Testing the Results\n",
        "for i in range(len(model)):\n",
        "    print(\"\\nModel\",i)\n",
        "    print('\\nConfu. Matrix:\\n',confusion_matrix(y_test, model[i].predict(X_test)))\n",
        "    print('\\nAcc. Score: ',accuracy_score(y_test, model[i].predict(X_test)))\n",
        "    print('\\nClass. Report: \\n',classification_report(y_test, model[i].predict(X_test)))\n",
        "    print('\\nPrecision score: ', precision_score(y_test, model[i].predict(X_test)))\n",
        "    print('Recall score:',recall_score(y_test, model[i].predict(X_test)))\n",
        "    print('f1_score: ',f1_score(y_test,model[i].predict(X_test)))\n",
        "    print('log_loss: ',log_loss(y_test,model[i].predict(X_test)))"
      ],
      "id": "c0487691"
    },
    {
      "cell_type": "code",
      "execution_count": null,
      "metadata": {
        "id": "ef344e60"
      },
      "outputs": [],
      "source": [
        "\n",
        "\n",
        "\n"
      ],
      "id": "ef344e60"
    },
    {
      "cell_type": "code",
      "execution_count": null,
      "metadata": {
        "id": "0351f501"
      },
      "outputs": [],
      "source": [],
      "id": "0351f501"
    }
  ],
  "metadata": {
    "colab": {
      "provenance": [],
      "collapsed_sections": [],
      "include_colab_link": true
    },
    "gpuClass": "standard",
    "kernelspec": {
      "display_name": "Python 3 (ipykernel)",
      "language": "python",
      "name": "python3"
    },
    "language_info": {
      "codemirror_mode": {
        "name": "ipython",
        "version": 3
      },
      "file_extension": ".py",
      "mimetype": "text/x-python",
      "name": "python",
      "nbconvert_exporter": "python",
      "pygments_lexer": "ipython3",
      "version": "3.9.12"
    }
  },
  "nbformat": 4,
  "nbformat_minor": 5
}